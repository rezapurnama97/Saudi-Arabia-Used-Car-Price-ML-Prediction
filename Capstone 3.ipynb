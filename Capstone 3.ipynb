{
 "cells": [
  {
   "attachments": {},
   "cell_type": "markdown",
   "metadata": {},
   "source": [
    "# Saudi Arabia Used Car Price Prediction"
   ]
  },
  {
   "attachments": {},
   "cell_type": "markdown",
   "metadata": {},
   "source": [
    "predicting the selling price of used cars on the https://syarah.com/ website"
   ]
  },
  {
   "attachments": {},
   "cell_type": "markdown",
   "metadata": {},
   "source": [
    "![Gambar Syarah](https://i0.wp.com/www.menabytes.com/wp-content/uploads/2018/05/Syarah-Series-A.jpg?fit=1000%2C500&ssl=1&resize=1280%2C720)\n",
    "\n"
   ]
  },
  {
   "attachments": {},
   "cell_type": "markdown",
   "metadata": {},
   "source": [
    "# Context \n",
    "---\n",
    "\n",
    "Based on article titled  [Saudi Arabia's Used Cars Sales Market is Poised to Take Off](https://www.consultancy-me.com/news/5464/saudi-arabias-used-cars-sales-market-is-poised-to-take-off), due to financial constraints and the current pandemic scenario, many buyers are postponing the purchase of new cars and are looking to buy high-quality used cars at a reasonable price. The used car market is likely to expand in the next five years as online players provide good value for money. Saudis generally replace their cars every 2-4 years, while expatriates change their cars after 4 years on average. However, this trend is likely to change as younger Saudis enter the workforce and women are allowed to drive. The average age of most second-hand sales is likely to move towards 5-6 years. \n",
    "\n",
    "\n",
    "Syarah, being an online marketplace for selling cars in Saudi Arabia, plays a crucial role in the expanding used car market. With the growing trend of buyers opting for high-quality used cars and the changing dynamics of car ownership in the country, Syarah's platform serves as a convenient and efficient solution for sellers and buyers. However, to ensure the success of the platform, it is important for sellers to accurately determine the pricing of their cars. This will not only attract potential buyers but also maintain Syarah's performance by sustaining visitor and buyer numbers, ultimately leading to increased profitability for the company.\n"
   ]
  },
  {
   "attachments": {},
   "cell_type": "markdown",
   "metadata": {},
   "source": [
    "# Problem\n",
    "---\n",
    "\n",
    " Determining the right selling price for a car based on its specifications is challenging for sellers on the Syarah platform. Sellers may struggle to set competitive prices, leading to potential lack of interest from buyers if the price is too high or disproportionate profit if the price is too low. This can result in decreased transactions and negatively impact Syarah's revenue. __How does syarah.com determine the right car selling price based on existing specifications from previous sales data?__\n",
    "\n"
   ]
  },
  {
   "attachments": {},
   "cell_type": "markdown",
   "metadata": {},
   "source": [
    "# Goals\n",
    "---\n",
    "Based on the problem, **Syarah.com needs to introduce an innovative tool that can accurately predict car prices**. This tool will provide guidance to sellers in determining competitive selling prices that reflect the true value of their cars. Additionally, it will assist buyers in making informed decisions by ensuring they obtain fair purchase prices aligned with market value. By achieving these goals, Syarah.com aims to create transparency and fairness in car transactions for both sellers and buyers, while generating sustainable profits for Syarah.com as an online marketplace platform for cars."
   ]
  },
  {
   "attachments": {},
   "cell_type": "markdown",
   "metadata": {},
   "source": [
    "# Approach\n",
    "---\n",
    "__Syarah.com can develop a Machine learning Model to assist sellers in determining the appropriate selling price for their cars based on their previous sales data__. Machine learning techniques can be applied to perform regression analysis and build predictive models that capture the distinguishing characteristics of car prices. These models can learn patterns and relationships from historical data, such as car specifications, market conditions, location, and other relevant features, to predict the price of a car based on its attributes.\n",
    "\n",
    "By leveraging machine learning for regression analysis, Syarah.com can develop models that assist sellers in determining the appropriate prices for their cars based on various factors to be implemented on their website, Syarah.com. This can enhance the accuracy of pricing decisions and facilitate fair market value for the cars listed on the platform."
   ]
  },
  {
   "attachments": {},
   "cell_type": "markdown",
   "metadata": {},
   "source": [
    "\n",
    "\n",
    "# Metric Evaluation\n",
    "---\n",
    "In evaluating the accuracy of the model, we will utilize three metrics: RMSE, MAE, and MAPE. These metrics provide valuable insights into the performance of the regression model:\n",
    "\n",
    "- RMSE (Root Mean Squared Error) calculates the average square root of the errors, providing a measure of the overall deviation between predicted and actual values.\n",
    "\n",
    "- MAE (Mean Absolute Error) computes the average absolute difference between predicted and actual values, offering a straightforward measure of the model's accuracy.\n",
    "\n",
    "- MAPE (Mean Absolute Percentage Error) calculates the average percentage difference between predicted and actual values, allowing us to assess the relative magnitude of errors.\n",
    "\n",
    "By examining the values of RMSE, MAE, and MAPE, we can gauge the accuracy of the model in predicting rental prices, taking into account the limitations of the utilized features. Lower values of these metrics indicate a higher level of accuracy in price prediction."
   ]
  },
  {
   "attachments": {},
   "cell_type": "markdown",
   "metadata": {},
   "source": [
    "# Data Understanding\n",
    "---\n",
    "- The dataset consists of https://syarah.com/ listings in Saudi Arabia in the year 2021.\n",
    "- Each row of data represents information regarding the specifications of a car and its price.\n",
    "\n",
    "### Attribute Information\n",
    "\n",
    "| Attribute    | Data Type, Length | Description                                                      |\n",
    "|--------------|------------------|------------------------------------------------------------------|\n",
    "| Type         | Object           | Brand Name of Car                                                |\n",
    "| Region       | Object             | The region in which the used car was offered for sale             |\n",
    "| Make         | Object             | Name of the car company                                          |\n",
    "| Gear_Type    | Object             | Automatic / Manual                                               |\n",
    "| Origin       | Object             | Country of importer (Gulf / Saudi / Other)                        |\n",
    "| Options      | Object             | Full Options / Semi-Full / Standard                               |\n",
    "| Year         | Int              | Year of Manufacturing                                            |\n",
    "| Engine_Size  | Float            | The engine size of the used car                                   |\n",
    "| Mileage      | Int              | The average distance that a vehicle can travel on (in km)         |\n",
    "| Negotiable   | Bool             | If True, the price is 0. This means the price is negotiable (not set) |\n",
    "| Price        | Int              | Price of the used car (in SAR)                                    |\n"
   ]
  },
  {
   "attachments": {},
   "cell_type": "markdown",
   "metadata": {},
   "source": [
    "# Load Libraries\n",
    "---"
   ]
  },
  {
   "cell_type": "code",
   "execution_count": 1,
   "metadata": {},
   "outputs": [],
   "source": [
    "# Load Library\n",
    "\n",
    "# Data Manipulation\n",
    "import pandas as pd\n",
    "import numpy as np\n",
    "\n",
    "# Model Algorithm (modeling)\n",
    "from sklearn.neighbors import KNeighborsRegressor\n",
    "from sklearn.tree import DecisionTreeRegressor\n",
    "from sklearn.ensemble import RandomForestRegressor\n",
    "from xgboost.sklearn import XGBRegressor\n",
    "from sklearn.svm import SVR\n",
    "from sklearn.linear_model import LinearRegression\n",
    "from sklearn.pipeline import Pipeline\n",
    "from sklearn import linear_model\n",
    "import statsmodels.api as sm\n",
    "\n",
    "# Data Preparation\n",
    "from sklearn.compose import ColumnTransformer\n",
    "from sklearn.model_selection import train_test_split, cross_val_score, RandomizedSearchCV, GridSearchCV, StratifiedKFold, KFold\n",
    "from sklearn.preprocessing import StandardScaler, MinMaxScaler, RobustScaler\n",
    "from sklearn.preprocessing import OneHotEncoder, OrdinalEncoder, LabelEncoder\n",
    "from category_encoders import OrdinalEncoder\n",
    "import category_encoders as ce\n",
    "from sklearn.compose import TransformedTargetRegressor\n",
    "\n",
    "# Data Visualization\n",
    "import matplotlib.pyplot as plt\n",
    "import seaborn as sns\n",
    "import missingno as msno\n",
    "\n",
    "# Evaluation metrics\n",
    "from sklearn.metrics import mean_squared_error\n",
    "from sklearn.metrics import mean_absolute_percentage_error\n",
    "from sklearn.metrics import mean_absolute_error\n",
    "from sklearn.metrics import r2_score\n",
    "\n",
    "#pd.set_option('display.max_colwidth', 2000)\n",
    "import warnings\n",
    "warnings.filterwarnings('ignore')"
   ]
  },
  {
   "attachments": {},
   "cell_type": "markdown",
   "metadata": {},
   "source": [
    "# Load Dataset\n",
    "---"
   ]
  },
  {
   "cell_type": "code",
   "execution_count": 2,
   "metadata": {},
   "outputs": [
    {
     "data": {
      "text/html": [
       "<div>\n",
       "<style scoped>\n",
       "    .dataframe tbody tr th:only-of-type {\n",
       "        vertical-align: middle;\n",
       "    }\n",
       "\n",
       "    .dataframe tbody tr th {\n",
       "        vertical-align: top;\n",
       "    }\n",
       "\n",
       "    .dataframe thead th {\n",
       "        text-align: right;\n",
       "    }\n",
       "</style>\n",
       "<table border=\"1\" class=\"dataframe\">\n",
       "  <thead>\n",
       "    <tr style=\"text-align: right;\">\n",
       "      <th></th>\n",
       "      <th>Type</th>\n",
       "      <th>Region</th>\n",
       "      <th>Make</th>\n",
       "      <th>Gear_Type</th>\n",
       "      <th>Origin</th>\n",
       "      <th>Options</th>\n",
       "      <th>Year</th>\n",
       "      <th>Engine_Size</th>\n",
       "      <th>Mileage</th>\n",
       "      <th>Negotiable</th>\n",
       "      <th>Price</th>\n",
       "    </tr>\n",
       "  </thead>\n",
       "  <tbody>\n",
       "    <tr>\n",
       "      <th>0</th>\n",
       "      <td>Corolla</td>\n",
       "      <td>Abha</td>\n",
       "      <td>Toyota</td>\n",
       "      <td>Manual</td>\n",
       "      <td>Saudi</td>\n",
       "      <td>Standard</td>\n",
       "      <td>2013</td>\n",
       "      <td>1.4</td>\n",
       "      <td>421000</td>\n",
       "      <td>True</td>\n",
       "      <td>0</td>\n",
       "    </tr>\n",
       "    <tr>\n",
       "      <th>1</th>\n",
       "      <td>Yukon</td>\n",
       "      <td>Riyadh</td>\n",
       "      <td>GMC</td>\n",
       "      <td>Automatic</td>\n",
       "      <td>Saudi</td>\n",
       "      <td>Full</td>\n",
       "      <td>2014</td>\n",
       "      <td>8.0</td>\n",
       "      <td>80000</td>\n",
       "      <td>False</td>\n",
       "      <td>120000</td>\n",
       "    </tr>\n",
       "    <tr>\n",
       "      <th>2</th>\n",
       "      <td>Range Rover</td>\n",
       "      <td>Riyadh</td>\n",
       "      <td>Land Rover</td>\n",
       "      <td>Automatic</td>\n",
       "      <td>Gulf Arabic</td>\n",
       "      <td>Full</td>\n",
       "      <td>2015</td>\n",
       "      <td>5.0</td>\n",
       "      <td>140000</td>\n",
       "      <td>False</td>\n",
       "      <td>260000</td>\n",
       "    </tr>\n",
       "    <tr>\n",
       "      <th>3</th>\n",
       "      <td>Optima</td>\n",
       "      <td>Hafar Al-Batin</td>\n",
       "      <td>Kia</td>\n",
       "      <td>Automatic</td>\n",
       "      <td>Saudi</td>\n",
       "      <td>Semi Full</td>\n",
       "      <td>2015</td>\n",
       "      <td>2.4</td>\n",
       "      <td>220000</td>\n",
       "      <td>False</td>\n",
       "      <td>42000</td>\n",
       "    </tr>\n",
       "    <tr>\n",
       "      <th>4</th>\n",
       "      <td>FJ</td>\n",
       "      <td>Riyadh</td>\n",
       "      <td>Toyota</td>\n",
       "      <td>Automatic</td>\n",
       "      <td>Saudi</td>\n",
       "      <td>Full</td>\n",
       "      <td>2020</td>\n",
       "      <td>4.0</td>\n",
       "      <td>49000</td>\n",
       "      <td>True</td>\n",
       "      <td>0</td>\n",
       "    </tr>\n",
       "  </tbody>\n",
       "</table>\n",
       "</div>"
      ],
      "text/plain": [
       "          Type          Region        Make  Gear_Type       Origin    Options   \n",
       "0      Corolla            Abha      Toyota     Manual        Saudi   Standard  \\\n",
       "1        Yukon          Riyadh         GMC  Automatic        Saudi       Full   \n",
       "2  Range Rover          Riyadh  Land Rover  Automatic  Gulf Arabic       Full   \n",
       "3       Optima  Hafar Al-Batin         Kia  Automatic        Saudi  Semi Full   \n",
       "4           FJ          Riyadh      Toyota  Automatic        Saudi       Full   \n",
       "\n",
       "   Year  Engine_Size  Mileage  Negotiable   Price  \n",
       "0  2013          1.4   421000        True       0  \n",
       "1  2014          8.0    80000       False  120000  \n",
       "2  2015          5.0   140000       False  260000  \n",
       "3  2015          2.4   220000       False   42000  \n",
       "4  2020          4.0    49000        True       0  "
      ]
     },
     "metadata": {},
     "output_type": "display_data"
    }
   ],
   "source": [
    "df = pd.read_csv('data_saudi_used_cars.csv')\n",
    "display(df.head())"
   ]
  },
  {
   "attachments": {},
   "cell_type": "markdown",
   "metadata": {},
   "source": [
    "## Exploratory Data Analysis\n",
    "---"
   ]
  },
  {
   "attachments": {},
   "cell_type": "markdown",
   "metadata": {},
   "source": [
    "Exploratory Data Analysis (EDA) is the process of examining and summarizing the key characteristics of a dataset to gain insights and understanding. Its objective is to explore the data, detect patterns, trends, and anomalies, and generate hypotheses that can be further tested using statistical and machine learning techniques.\n",
    "\n",
    "Some tasks involved in EDA include visualizing the distribution of the target variable (price) and the input features (such as engine size, mileage, year, brand, etc.) to uncover trends and patterns. Analyzing the correlation between the input features and the target variable to identify the most influential factors affecting the price of a used car. Handling missing values, outliers, and other data quality issues that can impact the accuracy of the machine learning model. Analyzing the distribution of categorical variables, such as make, gear type, and origin, to uncover trends and potential biases."
   ]
  },
  {
   "attachments": {},
   "cell_type": "markdown",
   "metadata": {},
   "source": [
    "### **Distribution of Car Price**"
   ]
  },
  {
   "cell_type": "code",
   "execution_count": 3,
   "metadata": {},
   "outputs": [
    {
     "data": {
      "image/png": "[encoded data removed]",
      "text/plain": [
       "<Figure size 1500x800 with 2 Axes>"
      ]
     },
     "metadata": {},
     "output_type": "display_data"
    }
   ],
   "source": [
    "# Visualizing Price\n",
    "\n",
    "plt.figure(figsize=(15, 8))\n",
    "\n",
    "plt.subplot(1, 2, 1)\n",
    "plt.title('Price Distribution Plot')\n",
    "sns.histplot(df['Price'])\n",
    "plt.ticklabel_format(useOffset=False, style='plain', axis=('x'))\n",
    "\n",
    "plt.subplot(1, 2, 2)\n",
    "plt.title('Price Spread')\n",
    "sns.boxplot(y=df['Price'], color='lightblue')  # Set color to light blue\n",
    "plt.ticklabel_format(useOffset=False, style='plain', axis=('y'))\n",
    "\n",
    "plt.show()\n"
   ]
  },
  {
   "attachments": {},
   "cell_type": "markdown",
   "metadata": {},
   "source": [
    "Because we have found the 0 value, there will be needed to treat the 0 value."
   ]
  },
  {
   "attachments": {},
   "cell_type": "markdown",
   "metadata": {},
   "source": [
    "The Price variable in the dataset is heavily skewed to the right, with a significant portion of the data concentrated at the value of 0. The reason for the Price being 0 is because sellers indicate that the cars they are selling are \"Negotiable\" In such cases, sellers may choose to advertise the price as 0 to indicate that the price is flexible and open to negotiation with potential buyers. This means that the actual selling price will be determined through a negotiation process between the seller and the buyer. During the Data Understanding process, it was observed that approximately 25% of the values in the Price column are 0. Since the objective of the Regression Analysis is to predict the selling price of a car based on defined prices, regardless of whether the price is negotiable or not, it is necessary to focus on data where the seller has explicitly provided a non-zero price for the car. Therefore, these cases where the car is \"Negotiable\" or Price is 0 should be excluded from the analysis if the objective is to predict the specific selling price of a car."
   ]
  },
  {
   "cell_type": "code",
   "execution_count": 4,
   "metadata": {},
   "outputs": [
    {
     "data": {
      "text/plain": [
       "(1797, 1796)"
      ]
     },
     "execution_count": 4,
     "metadata": {},
     "output_type": "execute_result"
    }
   ],
   "source": [
    "# total car is \"Negotiable\" or Price is 0 \n",
    "len(df[df['Price']==0]), len(df[df['Negotiable']==True])"
   ]
  },
  {
   "attachments": {},
   "cell_type": "markdown",
   "metadata": {},
   "source": [
    "There are 1796 data points where the cars have 'Price' = 0 due to having 'Negotiable' = True status. However, there is a discrepancy in the number of cars between 'Price' = 0 and 'Negotiable' = True. This difference needs to be investigated."
   ]
  },
  {
   "cell_type": "code",
   "execution_count": 5,
   "metadata": {},
   "outputs": [
    {
     "data": {
      "text/html": [
       "<div>\n",
       "<style scoped>\n",
       "    .dataframe tbody tr th:only-of-type {\n",
       "        vertical-align: middle;\n",
       "    }\n",
       "\n",
       "    .dataframe tbody tr th {\n",
       "        vertical-align: top;\n",
       "    }\n",
       "\n",
       "    .dataframe thead th {\n",
       "        text-align: right;\n",
       "    }\n",
       "</style>\n",
       "<table border=\"1\" class=\"dataframe\">\n",
       "  <thead>\n",
       "    <tr style=\"text-align: right;\">\n",
       "      <th></th>\n",
       "      <th>Type</th>\n",
       "      <th>Region</th>\n",
       "      <th>Make</th>\n",
       "      <th>Gear_Type</th>\n",
       "      <th>Origin</th>\n",
       "      <th>Options</th>\n",
       "      <th>Year</th>\n",
       "      <th>Engine_Size</th>\n",
       "      <th>Mileage</th>\n",
       "      <th>Negotiable</th>\n",
       "      <th>Price</th>\n",
       "    </tr>\n",
       "  </thead>\n",
       "  <tbody>\n",
       "    <tr>\n",
       "      <th>3168</th>\n",
       "      <td>Furniture</td>\n",
       "      <td>Riyadh</td>\n",
       "      <td>Toyota</td>\n",
       "      <td>Automatic</td>\n",
       "      <td>Other</td>\n",
       "      <td>Semi Full</td>\n",
       "      <td>2012</td>\n",
       "      <td>2.7</td>\n",
       "      <td>225000</td>\n",
       "      <td>False</td>\n",
       "      <td>0</td>\n",
       "    </tr>\n",
       "  </tbody>\n",
       "</table>\n",
       "</div>"
      ],
      "text/plain": [
       "           Type  Region    Make  Gear_Type Origin    Options  Year   \n",
       "3168  Furniture  Riyadh  Toyota  Automatic  Other  Semi Full  2012  \\\n",
       "\n",
       "      Engine_Size  Mileage  Negotiable  Price  \n",
       "3168          2.7   225000       False      0  "
      ]
     },
     "execution_count": 5,
     "metadata": {},
     "output_type": "execute_result"
    }
   ],
   "source": [
    "# free car\n",
    "df_check = df[(df['Price'] == 0) & (df['Negotiable'] == False)]\n",
    "df_check"
   ]
  },
  {
   "attachments": {},
   "cell_type": "markdown",
   "metadata": {},
   "source": [
    "After further investigation, it appears that there are data points where the cars have 'Price' = 0 and 'Negotiable' = False status. This means that the cars are listed for sale without any possibility of negotiation, with a price of 0. In other words, they are being offered for free. This seems highly unlikely and requires attention."
   ]
  },
  {
   "cell_type": "code",
   "execution_count": 6,
   "metadata": {},
   "outputs": [],
   "source": [
    "# drop free Car\n",
    "df = df.drop(df[(df['Price'] == 0) & (df['Negotiable'] == False)].index)"
   ]
  },
  {
   "cell_type": "code",
   "execution_count": 7,
   "metadata": {},
   "outputs": [],
   "source": [
    "# Drop records with Price is 0\n",
    "\n",
    "df = df[df['Price'] != 0]"
   ]
  },
  {
   "cell_type": "code",
   "execution_count": 8,
   "metadata": {},
   "outputs": [
    {
     "data": {
      "text/plain": [
       "(3827, 11)"
      ]
     },
     "execution_count": 8,
     "metadata": {},
     "output_type": "execute_result"
    }
   ],
   "source": [
    "# total current data\n",
    "df.shape"
   ]
  },
  {
   "attachments": {},
   "cell_type": "markdown",
   "metadata": {},
   "source": [
    "### **Price Correlation to its Feature**"
   ]
  },
  {
   "cell_type": "code",
   "execution_count": 9,
   "metadata": {},
   "outputs": [
    {
     "data": {
      "text/plain": [
       "<Axes: >"
      ]
     },
     "execution_count": 9,
     "metadata": {},
     "output_type": "execute_result"
    },
    {
     "data": {
      "image/png": "[encoded data removed]",
      "text/plain": [
       "<Figure size 640x480 with 2 Axes>"
      ]
     },
     "metadata": {},
     "output_type": "display_data"
    }
   ],
   "source": [
    "df_matrix=df.drop(columns=['Type','Region','Make','Gear_Type','Origin','Negotiable','Options']) \n",
    "corr_matrix = df_matrix.corr('spearman')\n",
    "sns.heatmap(corr_matrix, annot= True)"
   ]
  },
  {
   "attachments": {},
   "cell_type": "markdown",
   "metadata": {},
   "source": [
    "Year and Engine_size may have a multicolinearity but we still need the features.\n",
    "\n",
    "from this correlation heatmap, we can see that:\n",
    "\n",
    "Corr Feature to Target =  Sorted from highest to lowest correlation, the variables with the highest correlation are 'Year' followed by 'Engine_Size', and then 'Mileage'."
   ]
  },
  {
   "attachments": {},
   "cell_type": "markdown",
   "metadata": {},
   "source": [
    "### **Finding the Top 10 Companies of Used Cars & Top 10 Types of Used Cars**"
   ]
  },
  {
   "cell_type": "code",
   "execution_count": 10,
   "metadata": {},
   "outputs": [
    {
     "data": {
      "image/png": "[encoded data removed]",
      "text/plain": [
       "<Figure size 1200x600 with 2 Axes>"
      ]
     },
     "metadata": {},
     "output_type": "display_data"
    }
   ],
   "source": [
    "# Create a subplot with two countplots\n",
    "fig, axes = plt.subplots(nrows=1, ncols=2, figsize=(12, 6))\n",
    "\n",
    "# Plot the top 10 companies of used cars\n",
    "sns.countplot(y=\"Make\", data=df, order=df[\"Make\"].value_counts().iloc[:10].index, ax=axes[0], palette=\"viridis\")\n",
    "axes[0].set_title(\"Top 10 Companies of Used Cars\", fontweight='bold')\n",
    "axes[0].set_xlabel(\"Count\", fontweight='bold')\n",
    "axes[0].set_ylabel(\"Make\", fontweight='bold')\n",
    "\n",
    "# Plot the top 10 types of used cars\n",
    "sns.countplot(y=\"Type\", data=df, order=df[\"Type\"].value_counts().iloc[:10].index, ax=axes[1], palette=\"viridis\")\n",
    "axes[1].set_title(\"Top 10 Types of Used Cars\", fontweight='bold')\n",
    "axes[1].set_xlabel(\"Count\", fontweight='bold')\n",
    "axes[1].set_ylabel(\"Type\", fontweight='bold')\n",
    "\n",
    "# Adjust the layout of the subplot and show the plot\n",
    "fig.tight_layout()\n",
    "plt.show()\n"
   ]
  },
  {
   "cell_type": "code",
   "execution_count": 11,
   "metadata": {},
   "outputs": [
    {
     "name": "stdout",
     "output_type": "stream",
     "text": [
      "Top 10 Companies of Used Cars:\n",
      "Make\n",
      "Toyota       889\n",
      "Hyundai      514\n",
      "Ford         346\n",
      "Chevrolet    296\n",
      "Nissan       252\n",
      "Kia          187\n",
      "Mercedes     173\n",
      "GMC          167\n",
      "Lexus        146\n",
      "Mazda         92\n",
      "Name: count, dtype: int64\n",
      "\n",
      "Top 10 Types of Used Cars:\n",
      "Type\n",
      "Camry           149\n",
      "Land Cruiser    148\n",
      "Accent          147\n",
      "Hilux           118\n",
      "Sonata          116\n",
      "Elantra         105\n",
      "Taurus          102\n",
      "Tahoe           100\n",
      "Yukon            93\n",
      "Corolla          82\n",
      "Name: count, dtype: int64\n"
     ]
    }
   ],
   "source": [
    "# Cek jumlah properti berdasarkan neighbourhood group dan tipenya\n",
    "print(f\"Top 10 Companies of Used Cars:\\n{df['Make'].value_counts().head(10)}\")\n",
    "print(f\"\\nTop 10 Types of Used Cars:\\n{df['Type'].value_counts().head(10)}\")"
   ]
  },
  {
   "attachments": {},
   "cell_type": "markdown",
   "metadata": {},
   "source": [
    "From this analysis, we can observe the popularity of certain car companies and types in the used car market. Toyota seems to be the most prevalent company, and the Camry is the most common type of used car. This information can be useful for buyers and sellers in understanding market trends and preferences."
   ]
  },
  {
   "cell_type": "code",
   "execution_count": 12,
   "metadata": {},
   "outputs": [
    {
     "data": {
      "image/png": "[encoded data removed]",
      "text/plain": [
       "<Figure size 800x600 with 1 Axes>"
      ]
     },
     "metadata": {},
     "output_type": "display_data"
    }
   ],
   "source": [
    "sns.set_style('whitegrid')\n",
    "plt.figure(figsize=(8, 6))\n",
    "ax = sns.countplot(x='Gear_Type', data=df, palette='viridis')\n",
    "ax.set_title('Count of Used Cars by Gear Type', fontweight='bold')\n",
    "ax.set_xlabel('Gear Type', fontweight='bold')\n",
    "ax.set_ylabel('Count', fontweight='bold')\n",
    "plt.show()\n"
   ]
  },
  {
   "attachments": {},
   "cell_type": "markdown",
   "metadata": {},
   "source": [
    "Based on the countplot above, it can be observed that the majority of used cars in Saudi Arabia have an automatic gear type."
   ]
  },
  {
   "cell_type": "code",
   "execution_count": 13,
   "metadata": {},
   "outputs": [
    {
     "data": {
      "image/png": "[encoded data removed]",
      "text/plain": [
       "<Figure size 800x600 with 1 Axes>"
      ]
     },
     "metadata": {},
     "output_type": "display_data"
    }
   ],
   "source": [
    "sns.set_style('whitegrid')\n",
    "plt.figure(figsize=(8, 6))\n",
    "ax = sns.countplot(x='Options', data=df, palette='viridis')\n",
    "ax.set_title('Count of Modified/Standard Used Cars')\n",
    "ax.set_xlabel('Options')\n",
    "ax.set_ylabel('Count')\n",
    "plt.show()"
   ]
  },
  {
   "attachments": {},
   "cell_type": "markdown",
   "metadata": {},
   "source": [
    "The option feature tells us about the accesories of the cars such :\n",
    "- Full Options\n",
    "Equipped with premium features such as a sunroof, navigation system, rearview camera, high-quality audio system, leather seats, and much more.\n",
    "- Semi-Full\n",
    "Has some additional features like a sunroof, navigation system, rearview camera, and upgraded audio system, but it doesn't have luxury options like leather seats or rear entertainment system.\n",
    "\n",
    "- Standard\n",
    "A standard variant without significant additional features. It may have basic features like air conditioning, standard audio system, and power windows.\n",
    "\n",
    "we can see from the countplot above semifull is the least popular."
   ]
  },
  {
   "attachments": {},
   "cell_type": "markdown",
   "metadata": {},
   "source": [
    "### Check Unique value"
   ]
  },
  {
   "attachments": {},
   "cell_type": "markdown",
   "metadata": {},
   "source": [
    "Check unique value has function is used to generate a dataset description that includes information about each feature. This description includes the column name, data type, number of null values, percentage of null values, number of unique values, and sample unique values for each column. By using this function, we can gain a better understanding of the dataset's characteristics, including examining data diversity, identifying null values, and understanding the available data types. This information can be helpful for further analysis and processing of the dataset."
   ]
  },
  {
   "cell_type": "code",
   "execution_count": 14,
   "metadata": {},
   "outputs": [
    {
     "data": {
      "text/html": [
       "<div>\n",
       "<style scoped>\n",
       "    .dataframe tbody tr th:only-of-type {\n",
       "        vertical-align: middle;\n",
       "    }\n",
       "\n",
       "    .dataframe tbody tr th {\n",
       "        vertical-align: top;\n",
       "    }\n",
       "\n",
       "    .dataframe thead th {\n",
       "        text-align: right;\n",
       "    }\n",
       "</style>\n",
       "<table border=\"1\" class=\"dataframe\">\n",
       "  <thead>\n",
       "    <tr style=\"text-align: right;\">\n",
       "      <th></th>\n",
       "      <th>dataFeatures</th>\n",
       "      <th>dataType</th>\n",
       "      <th>null</th>\n",
       "      <th>nullPct</th>\n",
       "      <th>unique</th>\n",
       "      <th>uniqueSample</th>\n",
       "    </tr>\n",
       "  </thead>\n",
       "  <tbody>\n",
       "    <tr>\n",
       "      <th>0</th>\n",
       "      <td>Type</td>\n",
       "      <td>object</td>\n",
       "      <td>0</td>\n",
       "      <td>0.0</td>\n",
       "      <td>320</td>\n",
       "      <td>[Yukon, Range Rover, Optima, CX3, Cayenne S, S...</td>\n",
       "    </tr>\n",
       "    <tr>\n",
       "      <th>1</th>\n",
       "      <td>Region</td>\n",
       "      <td>object</td>\n",
       "      <td>0</td>\n",
       "      <td>0.0</td>\n",
       "      <td>27</td>\n",
       "      <td>[Riyadh, Hafar Al-Batin, Abha, Makkah, Dammam,...</td>\n",
       "    </tr>\n",
       "    <tr>\n",
       "      <th>2</th>\n",
       "      <td>Make</td>\n",
       "      <td>object</td>\n",
       "      <td>0</td>\n",
       "      <td>0.0</td>\n",
       "      <td>56</td>\n",
       "      <td>[GMC, Land Rover, Kia, Mazda, Porsche, Hyundai...</td>\n",
       "    </tr>\n",
       "    <tr>\n",
       "      <th>3</th>\n",
       "      <td>Gear_Type</td>\n",
       "      <td>object</td>\n",
       "      <td>0</td>\n",
       "      <td>0.0</td>\n",
       "      <td>2</td>\n",
       "      <td>[Automatic, Manual]</td>\n",
       "    </tr>\n",
       "    <tr>\n",
       "      <th>4</th>\n",
       "      <td>Origin</td>\n",
       "      <td>object</td>\n",
       "      <td>0</td>\n",
       "      <td>0.0</td>\n",
       "      <td>4</td>\n",
       "      <td>[Saudi, Gulf Arabic, Other, Unknown]</td>\n",
       "    </tr>\n",
       "    <tr>\n",
       "      <th>5</th>\n",
       "      <td>Options</td>\n",
       "      <td>object</td>\n",
       "      <td>0</td>\n",
       "      <td>0.0</td>\n",
       "      <td>3</td>\n",
       "      <td>[Full, Semi Full, Standard]</td>\n",
       "    </tr>\n",
       "    <tr>\n",
       "      <th>6</th>\n",
       "      <td>Year</td>\n",
       "      <td>int64</td>\n",
       "      <td>0</td>\n",
       "      <td>0.0</td>\n",
       "      <td>41</td>\n",
       "      <td>[2014, 2015, 2019, 2012, 2016, 2013, 2011, 200...</td>\n",
       "    </tr>\n",
       "    <tr>\n",
       "      <th>7</th>\n",
       "      <td>Engine_Size</td>\n",
       "      <td>float64</td>\n",
       "      <td>0</td>\n",
       "      <td>0.0</td>\n",
       "      <td>65</td>\n",
       "      <td>[8.0, 5.0, 2.4, 2.0, 4.8, 3.5, 5.7, 4.6, 4.0, ...</td>\n",
       "    </tr>\n",
       "    <tr>\n",
       "      <th>8</th>\n",
       "      <td>Mileage</td>\n",
       "      <td>int64</td>\n",
       "      <td>0</td>\n",
       "      <td>0.0</td>\n",
       "      <td>1346</td>\n",
       "      <td>[80000, 140000, 220000, 25000, 189000, 155, 11...</td>\n",
       "    </tr>\n",
       "    <tr>\n",
       "      <th>9</th>\n",
       "      <td>Negotiable</td>\n",
       "      <td>bool</td>\n",
       "      <td>0</td>\n",
       "      <td>0.0</td>\n",
       "      <td>1</td>\n",
       "      <td>[False]</td>\n",
       "    </tr>\n",
       "    <tr>\n",
       "      <th>10</th>\n",
       "      <td>Price</td>\n",
       "      <td>int64</td>\n",
       "      <td>0</td>\n",
       "      <td>0.0</td>\n",
       "      <td>466</td>\n",
       "      <td>[120000, 260000, 42000, 58000, 85000, 48000, 8...</td>\n",
       "    </tr>\n",
       "  </tbody>\n",
       "</table>\n",
       "</div>"
      ],
      "text/plain": [
       "   dataFeatures dataType  null  nullPct  unique   \n",
       "0          Type   object     0      0.0     320  \\\n",
       "1        Region   object     0      0.0      27   \n",
       "2          Make   object     0      0.0      56   \n",
       "3     Gear_Type   object     0      0.0       2   \n",
       "4        Origin   object     0      0.0       4   \n",
       "5       Options   object     0      0.0       3   \n",
       "6          Year    int64     0      0.0      41   \n",
       "7   Engine_Size  float64     0      0.0      65   \n",
       "8       Mileage    int64     0      0.0    1346   \n",
       "9    Negotiable     bool     0      0.0       1   \n",
       "10        Price    int64     0      0.0     466   \n",
       "\n",
       "                                         uniqueSample  \n",
       "0   [Yukon, Range Rover, Optima, CX3, Cayenne S, S...  \n",
       "1   [Riyadh, Hafar Al-Batin, Abha, Makkah, Dammam,...  \n",
       "2   [GMC, Land Rover, Kia, Mazda, Porsche, Hyundai...  \n",
       "3                                 [Automatic, Manual]  \n",
       "4                [Saudi, Gulf Arabic, Other, Unknown]  \n",
       "5                         [Full, Semi Full, Standard]  \n",
       "6   [2014, 2015, 2019, 2012, 2016, 2013, 2011, 200...  \n",
       "7   [8.0, 5.0, 2.4, 2.0, 4.8, 3.5, 5.7, 4.6, 4.0, ...  \n",
       "8   [80000, 140000, 220000, 25000, 189000, 155, 11...  \n",
       "9                                             [False]  \n",
       "10  [120000, 260000, 42000, 58000, 85000, 48000, 8...  "
      ]
     },
     "execution_count": 14,
     "metadata": {},
     "output_type": "execute_result"
    }
   ],
   "source": [
    "# Dataset Info\n",
    "\n",
    "listItem = []\n",
    "\n",
    "for col in df.columns:\n",
    "    listItem.append([col, df[col].dtype, df[col].isna().sum(), round((df[col].isna().sum()/len(df[col]))*100, 2),\n",
    "                    df[col].nunique(), list(df[col].drop_duplicates().values)]);\n",
    "\n",
    "df_desc = pd.DataFrame(columns=['dataFeatures', 'dataType', 'null', 'nullPct', 'unique', 'uniqueSample'],\n",
    "                     data=listItem)\n",
    "df_desc"
   ]
  },
  {
   "cell_type": "code",
   "execution_count": 15,
   "metadata": {},
   "outputs": [
    {
     "name": "stdout",
     "output_type": "stream",
     "text": [
      "Describe Numerical Features\n"
     ]
    },
    {
     "data": {
      "text/html": [
       "<div>\n",
       "<style scoped>\n",
       "    .dataframe tbody tr th:only-of-type {\n",
       "        vertical-align: middle;\n",
       "    }\n",
       "\n",
       "    .dataframe tbody tr th {\n",
       "        vertical-align: top;\n",
       "    }\n",
       "\n",
       "    .dataframe thead th {\n",
       "        text-align: right;\n",
       "    }\n",
       "</style>\n",
       "<table border=\"1\" class=\"dataframe\">\n",
       "  <thead>\n",
       "    <tr style=\"text-align: right;\">\n",
       "      <th></th>\n",
       "      <th>Engine_Size</th>\n",
       "      <th>Mileage</th>\n",
       "      <th>Price</th>\n",
       "    </tr>\n",
       "  </thead>\n",
       "  <tbody>\n",
       "    <tr>\n",
       "      <th>count</th>\n",
       "      <td>3827</td>\n",
       "      <td>3827</td>\n",
       "      <td>3827</td>\n",
       "    </tr>\n",
       "    <tr>\n",
       "      <th>mean</th>\n",
       "      <td>3</td>\n",
       "      <td>142620</td>\n",
       "      <td>77995</td>\n",
       "    </tr>\n",
       "    <tr>\n",
       "      <th>std</th>\n",
       "      <td>1</td>\n",
       "      <td>378258</td>\n",
       "      <td>72726</td>\n",
       "    </tr>\n",
       "    <tr>\n",
       "      <th>min</th>\n",
       "      <td>1</td>\n",
       "      <td>100</td>\n",
       "      <td>1</td>\n",
       "    </tr>\n",
       "    <tr>\n",
       "      <th>25%</th>\n",
       "      <td>2</td>\n",
       "      <td>48000</td>\n",
       "      <td>35000</td>\n",
       "    </tr>\n",
       "    <tr>\n",
       "      <th>50%</th>\n",
       "      <td>2</td>\n",
       "      <td>103000</td>\n",
       "      <td>58000</td>\n",
       "    </tr>\n",
       "    <tr>\n",
       "      <th>75%</th>\n",
       "      <td>4</td>\n",
       "      <td>183000</td>\n",
       "      <td>94000</td>\n",
       "    </tr>\n",
       "    <tr>\n",
       "      <th>max</th>\n",
       "      <td>9</td>\n",
       "      <td>20000000</td>\n",
       "      <td>850000</td>\n",
       "    </tr>\n",
       "  </tbody>\n",
       "</table>\n",
       "</div>"
      ],
      "text/plain": [
       "       Engine_Size   Mileage   Price\n",
       "count         3827      3827    3827\n",
       "mean             3    142620   77995\n",
       "std              1    378258   72726\n",
       "min              1       100       1\n",
       "25%              2     48000   35000\n",
       "50%              2    103000   58000\n",
       "75%              4    183000   94000\n",
       "max              9  20000000  850000"
      ]
     },
     "metadata": {},
     "output_type": "display_data"
    },
    {
     "name": "stdout",
     "output_type": "stream",
     "text": [
      "Describe Categorical Features Values\n"
     ]
    },
    {
     "data": {
      "text/html": [
       "<div>\n",
       "<style scoped>\n",
       "    .dataframe tbody tr th:only-of-type {\n",
       "        vertical-align: middle;\n",
       "    }\n",
       "\n",
       "    .dataframe tbody tr th {\n",
       "        vertical-align: top;\n",
       "    }\n",
       "\n",
       "    .dataframe thead th {\n",
       "        text-align: right;\n",
       "    }\n",
       "</style>\n",
       "<table border=\"1\" class=\"dataframe\">\n",
       "  <thead>\n",
       "    <tr style=\"text-align: right;\">\n",
       "      <th></th>\n",
       "      <th>Type</th>\n",
       "      <th>Region</th>\n",
       "      <th>Make</th>\n",
       "      <th>Gear_Type</th>\n",
       "      <th>Origin</th>\n",
       "      <th>Options</th>\n",
       "    </tr>\n",
       "  </thead>\n",
       "  <tbody>\n",
       "    <tr>\n",
       "      <th>count</th>\n",
       "      <td>3827</td>\n",
       "      <td>3827</td>\n",
       "      <td>3827</td>\n",
       "      <td>3827</td>\n",
       "      <td>3827</td>\n",
       "      <td>3827</td>\n",
       "    </tr>\n",
       "    <tr>\n",
       "      <th>unique</th>\n",
       "      <td>320</td>\n",
       "      <td>27</td>\n",
       "      <td>56</td>\n",
       "      <td>2</td>\n",
       "      <td>4</td>\n",
       "      <td>3</td>\n",
       "    </tr>\n",
       "    <tr>\n",
       "      <th>top</th>\n",
       "      <td>Camry</td>\n",
       "      <td>Riyadh</td>\n",
       "      <td>Toyota</td>\n",
       "      <td>Automatic</td>\n",
       "      <td>Saudi</td>\n",
       "      <td>Full</td>\n",
       "    </tr>\n",
       "    <tr>\n",
       "      <th>freq</th>\n",
       "      <td>149</td>\n",
       "      <td>1616</td>\n",
       "      <td>889</td>\n",
       "      <td>3423</td>\n",
       "      <td>2896</td>\n",
       "      <td>1473</td>\n",
       "    </tr>\n",
       "  </tbody>\n",
       "</table>\n",
       "</div>"
      ],
      "text/plain": [
       "         Type  Region    Make  Gear_Type Origin Options\n",
       "count    3827    3827    3827       3827   3827    3827\n",
       "unique    320      27      56          2      4       3\n",
       "top     Camry  Riyadh  Toyota  Automatic  Saudi    Full\n",
       "freq      149    1616     889       3423   2896    1473"
      ]
     },
     "metadata": {},
     "output_type": "display_data"
    },
    {
     "name": "stdout",
     "output_type": "stream",
     "text": [
      "Describe Date Feature\n"
     ]
    },
    {
     "data": {
      "text/html": [
       "<div>\n",
       "<style scoped>\n",
       "    .dataframe tbody tr th:only-of-type {\n",
       "        vertical-align: middle;\n",
       "    }\n",
       "\n",
       "    .dataframe tbody tr th {\n",
       "        vertical-align: top;\n",
       "    }\n",
       "\n",
       "    .dataframe thead th {\n",
       "        text-align: right;\n",
       "    }\n",
       "</style>\n",
       "<table border=\"1\" class=\"dataframe\">\n",
       "  <thead>\n",
       "    <tr style=\"text-align: right;\">\n",
       "      <th></th>\n",
       "      <th>Mode Year</th>\n",
       "      <th>Minimum Year</th>\n",
       "      <th>Maximum Year</th>\n",
       "    </tr>\n",
       "  </thead>\n",
       "  <tbody>\n",
       "    <tr>\n",
       "      <th>0</th>\n",
       "      <td>2016</td>\n",
       "      <td>1963</td>\n",
       "      <td>2021</td>\n",
       "    </tr>\n",
       "  </tbody>\n",
       "</table>\n",
       "</div>"
      ],
      "text/plain": [
       "   Mode Year  Minimum Year  Maximum Year\n",
       "0       2016          1963          2021"
      ]
     },
     "execution_count": 15,
     "metadata": {},
     "output_type": "execute_result"
    }
   ],
   "source": [
    "# Summary Statistics\n",
    "\n",
    "print(\"Describe Numerical Features\")\n",
    "display(df.drop(columns='Year').describe().astype('int64'))\n",
    "print(\"Describe Categorical Features Values\")\n",
    "display(df.describe(include=object))\n",
    "print(\"Describe Date Feature\")\n",
    "min_year = df['Year'].min()\n",
    "max_year = df['Year'].max()\n",
    "year_mode = df['Year'].mode().values[0]\n",
    "date_info = {\n",
    "'Mode Year': [year_mode],\n",
    "'Minimum Year': [min_year],\n",
    "'Maximum Year': [max_year]\n",
    "}\n",
    "\n",
    "df_output = pd.DataFrame(date_info)\n",
    "df_output"
   ]
  },
  {
   "attachments": {},
   "cell_type": "markdown",
   "metadata": {},
   "source": [
    "After analyzing the data, the following observations can be made:\n",
    "\n",
    "- There are no missing values in the dataset.\n",
    "- The highest recorded selling price for a car is 850,000 Riyal.\n",
    "- Approximately 25% of the data has a selling price of 0 Riyal, which is indicated by the \"Negotiable\" variable being set to True.\n",
    "- The highest recorded mileage is 20,000,000 kilometers, which seems unlikely.\n",
    "- The cars in the dataset range from manufacturing years 1963 to 2022.\n",
    "- Numerical variables: Year, Engine_Size, Mileage, and Price.\n",
    "- Categorical variables: Type, Region, Make, Gear_Type, Origin, Options, and Negotiable.\n",
    "- The dataset is mainly composed of categorical variables."
   ]
  },
  {
   "attachments": {},
   "cell_type": "markdown",
   "metadata": {},
   "source": [
    "# Data Preprocessing\n",
    "---"
   ]
  },
  {
   "attachments": {},
   "cell_type": "markdown",
   "metadata": {},
   "source": [
    "In this phase, we will conduct data cleansing, which involves preparing the data for subsequent analysis. Various tasks are involved in this process, including eliminating irrelevant features that have no impact on the problem at hand. We will also address missing values by either removing the irrelevant features or filling in the gaps with the most appropriate values based on the context. To facilitate data preprocessing and feature engineering, we will utilize a duplicated dataframe derived from the original dataset. This will allow us to refine the data and enhance its suitability for further analysis."
   ]
  },
  {
   "attachments": {},
   "cell_type": "markdown",
   "metadata": {},
   "source": [
    "### Check Missing Data"
   ]
  },
  {
   "cell_type": "code",
   "execution_count": 16,
   "metadata": {},
   "outputs": [
    {
     "data": {
      "text/plain": [
       "<Axes: >"
      ]
     },
     "execution_count": 16,
     "metadata": {},
     "output_type": "execute_result"
    },
    {
     "data": {
      "image/png": "[encoded data removed]",
      "text/plain": [
       "<Figure size 640x480 with 1 Axes>"
      ]
     },
     "metadata": {},
     "output_type": "display_data"
    }
   ],
   "source": [
    "# Missing value heatmap\n",
    "sns.heatmap(df.isnull(), cbar=False)"
   ]
  },
  {
   "cell_type": "code",
   "execution_count": 17,
   "metadata": {},
   "outputs": [
    {
     "data": {
      "text/plain": [
       "Type           0\n",
       "Region         0\n",
       "Make           0\n",
       "Gear_Type      0\n",
       "Origin         0\n",
       "Options        0\n",
       "Year           0\n",
       "Engine_Size    0\n",
       "Mileage        0\n",
       "Negotiable     0\n",
       "Price          0\n",
       "dtype: int64"
      ]
     },
     "execution_count": 17,
     "metadata": {},
     "output_type": "execute_result"
    }
   ],
   "source": [
    "df.isna().sum()"
   ]
  },
  {
   "attachments": {},
   "cell_type": "markdown",
   "metadata": {},
   "source": [
    "From the above check, no missing values were found in each attribute."
   ]
  },
  {
   "attachments": {},
   "cell_type": "markdown",
   "metadata": {},
   "source": [
    "### Check Duplicate"
   ]
  },
  {
   "cell_type": "code",
   "execution_count": 18,
   "metadata": {},
   "outputs": [
    {
     "data": {
      "text/plain": [
       "3"
      ]
     },
     "execution_count": 18,
     "metadata": {},
     "output_type": "execute_result"
    }
   ],
   "source": [
    "df.duplicated().sum()"
   ]
  },
  {
   "attachments": {},
   "cell_type": "markdown",
   "metadata": {},
   "source": [
    "We found 3 duplicate data, it will be deleted so that there is no repetitive data."
   ]
  },
  {
   "cell_type": "code",
   "execution_count": 19,
   "metadata": {},
   "outputs": [],
   "source": [
    "df.drop_duplicates(inplace=True)"
   ]
  },
  {
   "cell_type": "code",
   "execution_count": 20,
   "metadata": {},
   "outputs": [
    {
     "data": {
      "text/plain": [
       "Index(['Type', 'Region', 'Make', 'Gear_Type', 'Origin', 'Options', 'Year',\n",
       "       'Engine_Size', 'Mileage', 'Negotiable', 'Price'],\n",
       "      dtype='object')"
      ]
     },
     "execution_count": 20,
     "metadata": {},
     "output_type": "execute_result"
    }
   ],
   "source": [
    "df.columns"
   ]
  },
  {
   "attachments": {},
   "cell_type": "markdown",
   "metadata": {},
   "source": [
    "### Outliers"
   ]
  },
  {
   "cell_type": "code",
   "execution_count": 21,
   "metadata": {},
   "outputs": [
    {
     "data": {
      "image/png": "[encoded data removed]",
      "text/plain": [
       "<Figure size 1500x500 with 4 Axes>"
      ]
     },
     "metadata": {},
     "output_type": "display_data"
    }
   ],
   "source": [
    "features = df.describe().columns\n",
    "plt.figure(figsize=(15, 5))\n",
    "\n",
    "for i in range(0, len(features)):\n",
    "    plt.subplot(1, len(features), i+1)\n",
    "    sns.boxplot(y=df[features[i]], color='lightblue', orient='v')\n",
    "    plt.tight_layout()\n",
    "    plt.subplots_adjust(top=0.85)  \n",
    "\n",
    "plt.suptitle('Distribution from numerical data using Boxplot', fontweight='bold', ha='center')\n",
    "plt.show()\n"
   ]
  },
  {
   "cell_type": "code",
   "execution_count": 22,
   "metadata": {},
   "outputs": [
    {
     "data": {
      "text/html": [
       "<div>\n",
       "<style scoped>\n",
       "    .dataframe tbody tr th:only-of-type {\n",
       "        vertical-align: middle;\n",
       "    }\n",
       "\n",
       "    .dataframe tbody tr th {\n",
       "        vertical-align: top;\n",
       "    }\n",
       "\n",
       "    .dataframe thead th {\n",
       "        text-align: right;\n",
       "    }\n",
       "</style>\n",
       "<table border=\"1\" class=\"dataframe\">\n",
       "  <thead>\n",
       "    <tr style=\"text-align: right;\">\n",
       "      <th></th>\n",
       "      <th>Type</th>\n",
       "      <th>Make</th>\n",
       "      <th>Year</th>\n",
       "      <th>Mileage</th>\n",
       "    </tr>\n",
       "  </thead>\n",
       "  <tbody>\n",
       "    <tr>\n",
       "      <th>5012</th>\n",
       "      <td>Other</td>\n",
       "      <td>Ford</td>\n",
       "      <td>1963</td>\n",
       "      <td>300</td>\n",
       "    </tr>\n",
       "    <tr>\n",
       "      <th>2262</th>\n",
       "      <td>Impala</td>\n",
       "      <td>Chevrolet</td>\n",
       "      <td>1964</td>\n",
       "      <td>100000</td>\n",
       "    </tr>\n",
       "    <tr>\n",
       "      <th>3238</th>\n",
       "      <td>Patrol</td>\n",
       "      <td>Nissan</td>\n",
       "      <td>1978</td>\n",
       "      <td>30000</td>\n",
       "    </tr>\n",
       "    <tr>\n",
       "      <th>3082</th>\n",
       "      <td>Land Cruiser 70</td>\n",
       "      <td>Toyota</td>\n",
       "      <td>1978</td>\n",
       "      <td>400000</td>\n",
       "    </tr>\n",
       "    <tr>\n",
       "      <th>4259</th>\n",
       "      <td>S</td>\n",
       "      <td>Mercedes</td>\n",
       "      <td>1980</td>\n",
       "      <td>160000</td>\n",
       "    </tr>\n",
       "  </tbody>\n",
       "</table>\n",
       "</div>"
      ],
      "text/plain": [
       "                 Type       Make  Year  Mileage\n",
       "5012            Other       Ford  1963      300\n",
       "2262           Impala  Chevrolet  1964   100000\n",
       "3238           Patrol     Nissan  1978    30000\n",
       "3082  Land Cruiser 70     Toyota  1978   400000\n",
       "4259                S   Mercedes  1980   160000"
      ]
     },
     "execution_count": 22,
     "metadata": {},
     "output_type": "execute_result"
    }
   ],
   "source": [
    "pd.set_option('display.max_rows', None)  # To display all rows\n",
    "sorted_df = df[['Type', 'Make','Year', 'Mileage']].sort_values(by='Year', ascending=True)\n",
    "sorted_df.head(5)"
   ]
  },
  {
   "cell_type": "code",
   "execution_count": 23,
   "metadata": {},
   "outputs": [
    {
     "data": {
      "text/html": [
       "<div>\n",
       "<style scoped>\n",
       "    .dataframe tbody tr th:only-of-type {\n",
       "        vertical-align: middle;\n",
       "    }\n",
       "\n",
       "    .dataframe tbody tr th {\n",
       "        vertical-align: top;\n",
       "    }\n",
       "\n",
       "    .dataframe thead th {\n",
       "        text-align: right;\n",
       "    }\n",
       "</style>\n",
       "<table border=\"1\" class=\"dataframe\">\n",
       "  <thead>\n",
       "    <tr style=\"text-align: right;\">\n",
       "      <th></th>\n",
       "      <th>Type</th>\n",
       "      <th>Make</th>\n",
       "      <th>Year</th>\n",
       "      <th>Mileage</th>\n",
       "    </tr>\n",
       "  </thead>\n",
       "  <tbody>\n",
       "    <tr>\n",
       "      <th>3403</th>\n",
       "      <td>Optra</td>\n",
       "      <td>Chevrolet</td>\n",
       "      <td>2009</td>\n",
       "      <td>20000000</td>\n",
       "    </tr>\n",
       "    <tr>\n",
       "      <th>572</th>\n",
       "      <td>Camry</td>\n",
       "      <td>Toyota</td>\n",
       "      <td>1998</td>\n",
       "      <td>4500000</td>\n",
       "    </tr>\n",
       "    <tr>\n",
       "      <th>4193</th>\n",
       "      <td>Innova</td>\n",
       "      <td>Toyota</td>\n",
       "      <td>2013</td>\n",
       "      <td>3640000</td>\n",
       "    </tr>\n",
       "    <tr>\n",
       "      <th>1412</th>\n",
       "      <td>Trailblazer</td>\n",
       "      <td>Chevrolet</td>\n",
       "      <td>2004</td>\n",
       "      <td>3500000</td>\n",
       "    </tr>\n",
       "    <tr>\n",
       "      <th>4548</th>\n",
       "      <td>Tahoe</td>\n",
       "      <td>Chevrolet</td>\n",
       "      <td>2008</td>\n",
       "      <td>3300000</td>\n",
       "    </tr>\n",
       "  </tbody>\n",
       "</table>\n",
       "</div>"
      ],
      "text/plain": [
       "             Type       Make  Year   Mileage\n",
       "3403        Optra  Chevrolet  2009  20000000\n",
       "572         Camry     Toyota  1998   4500000\n",
       "4193       Innova     Toyota  2013   3640000\n",
       "1412  Trailblazer  Chevrolet  2004   3500000\n",
       "4548        Tahoe  Chevrolet  2008   3300000"
      ]
     },
     "execution_count": 23,
     "metadata": {},
     "output_type": "execute_result"
    }
   ],
   "source": [
    "sorted_df = df[['Type', 'Make','Year', 'Mileage']].sort_values(by='Mileage', ascending=False)\n",
    "sorted_df.head()\n"
   ]
  },
  {
   "attachments": {},
   "cell_type": "markdown",
   "metadata": {},
   "source": [
    "An outlier is an observation that lies an abnormal distance from other values in a random sample from a population.\n",
    "\n",
    "- In the year column, we can see there are outliers where some cars are manufactured under 1970. Some outliers needs no treatment because it can give us information. one of the outliers is Impala Chevrolet. It is a classic car that can be sold again. I will not treat this outliers because it gives us information.\n",
    "- I will not treat Engine_size because the size of the engine itself is a policy set by each manufacturer.\n",
    "- Based on the provided data, it appears that the Chevrolet Optra has an extremely high mileage of 20,000,000. This value seems unrealistic and could be an outlier or a data entry error. Therefore, it might be necessary to drop the row with the Chevrolet Optra to ensure the accuracy and reliability of the dataset. On the other hand, the Camry, Innova, Trailblazer, and Tahoe have relatively lower mileage values compared to the Optra, suggesting that their mileage is within a reasonable range. Hence, there may not be a need to drop these rows based on mileage considerations.\n",
    "- In the target variable, Price, there are numerous outliers. Therefore, checking validation will be required based on official websites or similar platforms."
   ]
  },
  {
   "attachments": {},
   "cell_type": "markdown",
   "metadata": {},
   "source": [
    "#### Handling Mileage Outlier"
   ]
  },
  {
   "cell_type": "code",
   "execution_count": 24,
   "metadata": {},
   "outputs": [],
   "source": [
    "df=df[df['Mileage']<5000000]"
   ]
  },
  {
   "attachments": {},
   "cell_type": "markdown",
   "metadata": {},
   "source": [
    "#### Price Validation "
   ]
  },
  {
   "cell_type": "code",
   "execution_count": 25,
   "metadata": {},
   "outputs": [
    {
     "data": {
      "text/html": [
       "<div>\n",
       "<style scoped>\n",
       "    .dataframe tbody tr th:only-of-type {\n",
       "        vertical-align: middle;\n",
       "    }\n",
       "\n",
       "    .dataframe tbody tr th {\n",
       "        vertical-align: top;\n",
       "    }\n",
       "\n",
       "    .dataframe thead th {\n",
       "        text-align: right;\n",
       "    }\n",
       "</style>\n",
       "<table border=\"1\" class=\"dataframe\">\n",
       "  <thead>\n",
       "    <tr style=\"text-align: right;\">\n",
       "      <th></th>\n",
       "      <th>Type</th>\n",
       "      <th>Make</th>\n",
       "      <th>Year</th>\n",
       "      <th>Price</th>\n",
       "    </tr>\n",
       "  </thead>\n",
       "  <tbody>\n",
       "    <tr>\n",
       "      <th>3513</th>\n",
       "      <td>Bentayga</td>\n",
       "      <td>Bentley</td>\n",
       "      <td>2019</td>\n",
       "      <td>850000</td>\n",
       "    </tr>\n",
       "    <tr>\n",
       "      <th>4684</th>\n",
       "      <td>G</td>\n",
       "      <td>Mercedes</td>\n",
       "      <td>2019</td>\n",
       "      <td>800000</td>\n",
       "    </tr>\n",
       "    <tr>\n",
       "      <th>4273</th>\n",
       "      <td>S</td>\n",
       "      <td>Mercedes</td>\n",
       "      <td>2021</td>\n",
       "      <td>748000</td>\n",
       "    </tr>\n",
       "    <tr>\n",
       "      <th>2120</th>\n",
       "      <td>Ghost</td>\n",
       "      <td>Rolls-Royce</td>\n",
       "      <td>2016</td>\n",
       "      <td>620000</td>\n",
       "    </tr>\n",
       "    <tr>\n",
       "      <th>4653</th>\n",
       "      <td>Range Rover</td>\n",
       "      <td>Land Rover</td>\n",
       "      <td>2019</td>\n",
       "      <td>599000</td>\n",
       "    </tr>\n",
       "    <tr>\n",
       "      <th>3561</th>\n",
       "      <td>Range Rover</td>\n",
       "      <td>Land Rover</td>\n",
       "      <td>2020</td>\n",
       "      <td>575000</td>\n",
       "    </tr>\n",
       "    <tr>\n",
       "      <th>3105</th>\n",
       "      <td>Range Rover</td>\n",
       "      <td>Land Rover</td>\n",
       "      <td>2020</td>\n",
       "      <td>540000</td>\n",
       "    </tr>\n",
       "    <tr>\n",
       "      <th>2862</th>\n",
       "      <td>Range Rover</td>\n",
       "      <td>Land Rover</td>\n",
       "      <td>2019</td>\n",
       "      <td>520000</td>\n",
       "    </tr>\n",
       "    <tr>\n",
       "      <th>2504</th>\n",
       "      <td>Range Rover</td>\n",
       "      <td>Land Rover</td>\n",
       "      <td>2020</td>\n",
       "      <td>510000</td>\n",
       "    </tr>\n",
       "    <tr>\n",
       "      <th>3041</th>\n",
       "      <td>Camargue</td>\n",
       "      <td>Rolls-Royce</td>\n",
       "      <td>1990</td>\n",
       "      <td>500000</td>\n",
       "    </tr>\n",
       "  </tbody>\n",
       "</table>\n",
       "</div>"
      ],
      "text/plain": [
       "             Type         Make  Year   Price\n",
       "3513     Bentayga      Bentley  2019  850000\n",
       "4684            G     Mercedes  2019  800000\n",
       "4273            S     Mercedes  2021  748000\n",
       "2120        Ghost  Rolls-Royce  2016  620000\n",
       "4653  Range Rover   Land Rover  2019  599000\n",
       "3561  Range Rover   Land Rover  2020  575000\n",
       "3105  Range Rover   Land Rover  2020  540000\n",
       "2862  Range Rover   Land Rover  2019  520000\n",
       "2504  Range Rover   Land Rover  2020  510000\n",
       "3041     Camargue  Rolls-Royce  1990  500000"
      ]
     },
     "execution_count": 25,
     "metadata": {},
     "output_type": "execute_result"
    }
   ],
   "source": [
    "sorted_df = df[['Type', 'Make','Year','Price']].sort_values(by='Price', ascending=False)\n",
    "sorted_df.head(10)"
   ]
  },
  {
   "attachments": {},
   "cell_type": "markdown",
   "metadata": {},
   "source": [
    "\n",
    "**For Min Price**"
   ]
  },
  {
   "cell_type": "code",
   "execution_count": 26,
   "metadata": {},
   "outputs": [
    {
     "data": {
      "text/html": [
       "<div>\n",
       "<style scoped>\n",
       "    .dataframe tbody tr th:only-of-type {\n",
       "        vertical-align: middle;\n",
       "    }\n",
       "\n",
       "    .dataframe tbody tr th {\n",
       "        vertical-align: top;\n",
       "    }\n",
       "\n",
       "    .dataframe thead th {\n",
       "        text-align: right;\n",
       "    }\n",
       "</style>\n",
       "<table border=\"1\" class=\"dataframe\">\n",
       "  <thead>\n",
       "    <tr style=\"text-align: right;\">\n",
       "      <th></th>\n",
       "      <th>Type</th>\n",
       "      <th>Make</th>\n",
       "      <th>Year</th>\n",
       "      <th>Price</th>\n",
       "    </tr>\n",
       "  </thead>\n",
       "  <tbody>\n",
       "    <tr>\n",
       "      <th>3131</th>\n",
       "      <td>Yukon</td>\n",
       "      <td>GMC</td>\n",
       "      <td>2019</td>\n",
       "      <td>1</td>\n",
       "    </tr>\n",
       "    <tr>\n",
       "      <th>3992</th>\n",
       "      <td>G80</td>\n",
       "      <td>Genesis</td>\n",
       "      <td>2018</td>\n",
       "      <td>500</td>\n",
       "    </tr>\n",
       "    <tr>\n",
       "      <th>4399</th>\n",
       "      <td>Yaris</td>\n",
       "      <td>Toyota</td>\n",
       "      <td>2018</td>\n",
       "      <td>850</td>\n",
       "    </tr>\n",
       "    <tr>\n",
       "      <th>5128</th>\n",
       "      <td>Rio</td>\n",
       "      <td>Kia</td>\n",
       "      <td>2019</td>\n",
       "      <td>884</td>\n",
       "    </tr>\n",
       "    <tr>\n",
       "      <th>3474</th>\n",
       "      <td>Yaris</td>\n",
       "      <td>Toyota</td>\n",
       "      <td>2019</td>\n",
       "      <td>950</td>\n",
       "    </tr>\n",
       "  </tbody>\n",
       "</table>\n",
       "</div>"
      ],
      "text/plain": [
       "       Type     Make  Year  Price\n",
       "3131  Yukon      GMC  2019      1\n",
       "3992    G80  Genesis  2018    500\n",
       "4399  Yaris   Toyota  2018    850\n",
       "5128    Rio      Kia  2019    884\n",
       "3474  Yaris   Toyota  2019    950"
      ]
     },
     "execution_count": 26,
     "metadata": {},
     "output_type": "execute_result"
    }
   ],
   "source": [
    "sorted_df = df[['Type', 'Make','Year','Price']].sort_values(by='Price', ascending=True)\n",
    "sorted_df.head()"
   ]
  },
  {
   "attachments": {},
   "cell_type": "markdown",
   "metadata": {},
   "source": [
    "From the above dataframe, it can be observed that there are data points that need to be cross-checked with websites due to extreme values, such as very low-priced cars."
   ]
  },
  {
   "cell_type": "code",
   "execution_count": 27,
   "metadata": {},
   "outputs": [
    {
     "data": {
      "text/plain": [
       "(3823, 11)"
      ]
     },
     "execution_count": 27,
     "metadata": {},
     "output_type": "execute_result"
    }
   ],
   "source": [
    "df.shape"
   ]
  },
  {
   "cell_type": "code",
   "execution_count": 28,
   "metadata": {},
   "outputs": [
    {
     "data": {
      "text/plain": [
       "17.13314151190165"
      ]
     },
     "execution_count": 28,
     "metadata": {},
     "output_type": "execute_result"
    }
   ],
   "source": [
    "percentage = (len(df[df['Price'] < 29000]) / df.shape[0]) * 100\n",
    "percentage"
   ]
  },
  {
   "attachments": {},
   "cell_type": "markdown",
   "metadata": {},
   "source": [
    "Based on the official website syarah.com, the minimum selling price for a car is 29,000 rials, and there are 17.13% of car data with prices below 29,000 rials. Due to the large number of data points below the minimum price threshold, it is not feasible to drop these data points. This could potentially affect the results of the machine learning model. Therefore, we decided to gather data from [yallamotor.com](https://ksa.yallamotor.com/used-cars/pr_1000_more?sort=price_asc) and [hatla2ee.com](https://ksa.hatla2ee.com/en/car/used-prices)  to find a reasonable minimum price for cars being sold in Saudi Arabia."
   ]
  },
  {
   "cell_type": "code",
   "execution_count": 29,
   "metadata": {},
   "outputs": [
    {
     "data": {
      "text/plain": [
       "63"
      ]
     },
     "execution_count": 29,
     "metadata": {},
     "output_type": "execute_result"
    }
   ],
   "source": [
    "len(df[df['Price'] < 4000])\n"
   ]
  },
  {
   "attachments": {},
   "cell_type": "markdown",
   "metadata": {},
   "source": [
    "Based on the research from the two previous websites, it was found that 4,000 is the minimum price for a car."
   ]
  },
  {
   "cell_type": "code",
   "execution_count": 30,
   "metadata": {},
   "outputs": [
    {
     "data": {
      "text/plain": [
       "1.6479204812974106"
      ]
     },
     "execution_count": 30,
     "metadata": {},
     "output_type": "execute_result"
    }
   ],
   "source": [
    "percentage = (len(df[df['Price'] < 4000]) / df.shape[0]) * 100\n",
    "percentage"
   ]
  },
  {
   "attachments": {},
   "cell_type": "markdown",
   "metadata": {},
   "source": [
    "It is only 1.65% of the total data, so dropping this amount of data will not have a significant impact on the machine learning process."
   ]
  },
  {
   "attachments": {},
   "cell_type": "markdown",
   "metadata": {},
   "source": [
    "**Drop Data Price > 4000**"
   ]
  },
  {
   "cell_type": "code",
   "execution_count": 31,
   "metadata": {},
   "outputs": [],
   "source": [
    "df = df[df['Price'] > 4000]\n"
   ]
  },
  {
   "attachments": {},
   "cell_type": "markdown",
   "metadata": {},
   "source": [
    "**For Max Price**\n",
    "\n",
    "In the given dataset, there are some entries that may be considered as outliers based on the very high prices of the cars. However, in the context of car prices, the presence of high values does not necessarily indicate outliers. Based on [syarah.com](https://syarah.com/cars/%D8%B3%D9%8A%D8%A7%D8%B1%D8%A7%D8%AA-%D8%A7%D9%88%D9%86%D9%84%D8%A7%D9%8A%D9%86?sort=-price&has_discount=0), Cars from certain brands and models, such as Bentley, Rolls-Royce, and Mercedes, often have significantly higher prices compared to other brands and models. Therefore, there is no need to drop these outlier data points as the high values are still reasonable in the context of expensive cars. Moreover, these outlier data points can provide valuable insights into market trends or specific market segments within the dataset. It is important to conduct careful analysis and consider the overall domain context before removing outlier data."
   ]
  },
  {
   "attachments": {},
   "cell_type": "markdown",
   "metadata": {},
   "source": [
    "### Drop Columns"
   ]
  },
  {
   "attachments": {},
   "cell_type": "markdown",
   "metadata": {},
   "source": [
    "The 'Negotiable' column is a column that previously had an impact on the price, where when 'Negotiable' is True, the price of a data entry becomes 0. Since a price of 0 renders the data unusable for ML modeling purposes, it is necessary to drop such rows."
   ]
  },
  {
   "cell_type": "code",
   "execution_count": 32,
   "metadata": {},
   "outputs": [],
   "source": [
    "df = df.drop(columns='Negotiable')"
   ]
  },
  {
   "attachments": {},
   "cell_type": "markdown",
   "metadata": {},
   "source": [
    "## Clean Dataset"
   ]
  },
  {
   "cell_type": "code",
   "execution_count": 33,
   "metadata": {},
   "outputs": [
    {
     "data": {
      "text/html": [
       "<div>\n",
       "<style scoped>\n",
       "    .dataframe tbody tr th:only-of-type {\n",
       "        vertical-align: middle;\n",
       "    }\n",
       "\n",
       "    .dataframe tbody tr th {\n",
       "        vertical-align: top;\n",
       "    }\n",
       "\n",
       "    .dataframe thead th {\n",
       "        text-align: right;\n",
       "    }\n",
       "</style>\n",
       "<table border=\"1\" class=\"dataframe\">\n",
       "  <thead>\n",
       "    <tr style=\"text-align: right;\">\n",
       "      <th></th>\n",
       "      <th>Type</th>\n",
       "      <th>Region</th>\n",
       "      <th>Make</th>\n",
       "      <th>Gear_Type</th>\n",
       "      <th>Origin</th>\n",
       "      <th>Options</th>\n",
       "      <th>Year</th>\n",
       "      <th>Engine_Size</th>\n",
       "      <th>Mileage</th>\n",
       "      <th>Price</th>\n",
       "    </tr>\n",
       "  </thead>\n",
       "  <tbody>\n",
       "    <tr>\n",
       "      <th>1</th>\n",
       "      <td>Yukon</td>\n",
       "      <td>Riyadh</td>\n",
       "      <td>GMC</td>\n",
       "      <td>Automatic</td>\n",
       "      <td>Saudi</td>\n",
       "      <td>Full</td>\n",
       "      <td>2014</td>\n",
       "      <td>8.0</td>\n",
       "      <td>80000</td>\n",
       "      <td>120000</td>\n",
       "    </tr>\n",
       "    <tr>\n",
       "      <th>2</th>\n",
       "      <td>Range Rover</td>\n",
       "      <td>Riyadh</td>\n",
       "      <td>Land Rover</td>\n",
       "      <td>Automatic</td>\n",
       "      <td>Gulf Arabic</td>\n",
       "      <td>Full</td>\n",
       "      <td>2015</td>\n",
       "      <td>5.0</td>\n",
       "      <td>140000</td>\n",
       "      <td>260000</td>\n",
       "    </tr>\n",
       "    <tr>\n",
       "      <th>3</th>\n",
       "      <td>Optima</td>\n",
       "      <td>Hafar Al-Batin</td>\n",
       "      <td>Kia</td>\n",
       "      <td>Automatic</td>\n",
       "      <td>Saudi</td>\n",
       "      <td>Semi Full</td>\n",
       "      <td>2015</td>\n",
       "      <td>2.4</td>\n",
       "      <td>220000</td>\n",
       "      <td>42000</td>\n",
       "    </tr>\n",
       "    <tr>\n",
       "      <th>5</th>\n",
       "      <td>CX3</td>\n",
       "      <td>Abha</td>\n",
       "      <td>Mazda</td>\n",
       "      <td>Automatic</td>\n",
       "      <td>Saudi</td>\n",
       "      <td>Semi Full</td>\n",
       "      <td>2019</td>\n",
       "      <td>2.0</td>\n",
       "      <td>25000</td>\n",
       "      <td>58000</td>\n",
       "    </tr>\n",
       "    <tr>\n",
       "      <th>6</th>\n",
       "      <td>Cayenne S</td>\n",
       "      <td>Riyadh</td>\n",
       "      <td>Porsche</td>\n",
       "      <td>Automatic</td>\n",
       "      <td>Saudi</td>\n",
       "      <td>Full</td>\n",
       "      <td>2012</td>\n",
       "      <td>4.8</td>\n",
       "      <td>189000</td>\n",
       "      <td>85000</td>\n",
       "    </tr>\n",
       "  </tbody>\n",
       "</table>\n",
       "</div>"
      ],
      "text/plain": [
       "          Type          Region        Make  Gear_Type       Origin    Options   \n",
       "1        Yukon          Riyadh         GMC  Automatic        Saudi       Full  \\\n",
       "2  Range Rover          Riyadh  Land Rover  Automatic  Gulf Arabic       Full   \n",
       "3       Optima  Hafar Al-Batin         Kia  Automatic        Saudi  Semi Full   \n",
       "5          CX3            Abha       Mazda  Automatic        Saudi  Semi Full   \n",
       "6    Cayenne S          Riyadh     Porsche  Automatic        Saudi       Full   \n",
       "\n",
       "   Year  Engine_Size  Mileage   Price  \n",
       "1  2014          8.0    80000  120000  \n",
       "2  2015          5.0   140000  260000  \n",
       "3  2015          2.4   220000   42000  \n",
       "5  2019          2.0    25000   58000  \n",
       "6  2012          4.8   189000   85000  "
      ]
     },
     "execution_count": 33,
     "metadata": {},
     "output_type": "execute_result"
    }
   ],
   "source": [
    "# Cek dataset yang sudah bersih\n",
    "df.head()"
   ]
  },
  {
   "cell_type": "code",
   "execution_count": 34,
   "metadata": {},
   "outputs": [
    {
     "name": "stdout",
     "output_type": "stream",
     "text": [
      "<class 'pandas.core.frame.DataFrame'>\n",
      "Index: 3757 entries, 1 to 5622\n",
      "Data columns (total 10 columns):\n",
      " #   Column       Non-Null Count  Dtype  \n",
      "---  ------       --------------  -----  \n",
      " 0   Type         3757 non-null   object \n",
      " 1   Region       3757 non-null   object \n",
      " 2   Make         3757 non-null   object \n",
      " 3   Gear_Type    3757 non-null   object \n",
      " 4   Origin       3757 non-null   object \n",
      " 5   Options      3757 non-null   object \n",
      " 6   Year         3757 non-null   int64  \n",
      " 7   Engine_Size  3757 non-null   float64\n",
      " 8   Mileage      3757 non-null   int64  \n",
      " 9   Price        3757 non-null   int64  \n",
      "dtypes: float64(1), int64(3), object(6)\n",
      "memory usage: 322.9+ KB\n"
     ]
    }
   ],
   "source": [
    "df.info()"
   ]
  },
  {
   "attachments": {},
   "cell_type": "markdown",
   "metadata": {},
   "source": [
    "# Modeling\n",
    "---"
   ]
  },
  {
   "attachments": {},
   "cell_type": "markdown",
   "metadata": {},
   "source": [
    "In this section, modeling will be performed to find the best score metrics that can provide benefits for stakeholders. Various treatment combinations will be tested to obtain the best model with evaluations for each treatment. The metrics used to measure the goodness of a model will also be analyzed and selected based on their relevance to the business conditions, ensuring the best and most effective results are obtained."
   ]
  },
  {
   "attachments": {},
   "cell_type": "markdown",
   "metadata": {},
   "source": [
    "### Split Train Test"
   ]
  },
  {
   "cell_type": "code",
   "execution_count": 35,
   "metadata": {},
   "outputs": [],
   "source": [
    "# define X y\n",
    "X = df.drop(columns=['Price'])\n",
    "y = df['Price'] "
   ]
  },
  {
   "cell_type": "code",
   "execution_count": 36,
   "metadata": {},
   "outputs": [],
   "source": [
    "X_train, X_test, y_train, y_test = train_test_split(\n",
    "                                                    X,\n",
    "                                                    y,\n",
    "                                                    test_size=0.25,\n",
    "                                                    random_state=42)"
   ]
  },
  {
   "attachments": {},
   "cell_type": "markdown",
   "metadata": {},
   "source": [
    "The data will be split into an 75:25 ratio in modeling because it allows the use of the majority of data for training the model and ensures adequate representation. By setting aside 5% of the data for testing, we can assess how well the model predicts unseen data, while the remaining 75% provides enough data to train the model effectively."
   ]
  },
  {
   "attachments": {},
   "cell_type": "markdown",
   "metadata": {},
   "source": [
    "### Transformer of Encoding & Scaling"
   ]
  },
  {
   "attachments": {},
   "cell_type": "markdown",
   "metadata": {},
   "source": [
    "Features will undergo encoding and scaling processes based on their types and characteristics. In this dataset, all numerical features will be scaled using StandardScaler, and all categorical features will be encoded using OneHotEncoder.\n",
    "\n",
    "- RobustScaler: 'Year', 'Mileage'\n",
    "\n",
    "RobustScaler is chosen as the scaling method for the 'Year' and 'Mileage' features. RobustScaler is particularly useful when dealing with numerical features that contain outliers or are not normally distributed. It utilizes robust statistics that are less affected by extreme values. By subtracting the median and dividing by the interquartile range, RobustScaler scales the features in a way that is less influenced by outliers, ensuring a more reliable and accurate transformation.\n",
    "\n",
    "- OrdinalScaler: 'Options'\n",
    "\n",
    "OrdinalScaler is selected for the 'Options' feature, which is an ordinal categorical feature. Ordinal features have a specific order or ranking associated with them. OrdinalScaler maps these ordinal values to numerical representations while preserving their ordinal relationship. This transformation allows machine learning algorithms to capture the relative importance and relationships between different categories, enhancing the model's performance in understanding the inherent order of the data and making more informed predictions.\n",
    "\n",
    "- OneHotEncoder: 'Origin', 'Gear_Type', 'Options'\n",
    "\n",
    "OneHotEncoder is used for the 'Origin', 'Gear_Type', and 'Options' features. OneHotEncoder is suitable for categorical features with a small number of unique values and no inherent order. It creates binary columns for each unique value, indicating the presence or absence of that value in the original feature. This encoding scheme allows machine learning models to effectively interpret and utilize categorical data, capturing the distinct categories without imposing any numerical order."
   ]
  },
  {
   "cell_type": "code",
   "execution_count": 37,
   "metadata": {},
   "outputs": [
    {
     "data": {
      "text/html": [
       "<style>#sk-container-id-1 {color: black;background-color: white;}#sk-container-id-1 pre{padding: 0;}#sk-container-id-1 div.sk-toggleable {background-color: white;}#sk-container-id-1 label.sk-toggleable__label {cursor: pointer;display: block;width: 100%;margin-bottom: 0;padding: 0.3em;box-sizing: border-box;text-align: center;}#sk-container-id-1 label.sk-toggleable__label-arrow:before {content: \"▸\";float: left;margin-right: 0.25em;color: #696969;}#sk-container-id-1 label.sk-toggleable__label-arrow:hover:before {color: black;}#sk-container-id-1 div.sk-estimator:hover label.sk-toggleable__label-arrow:before {color: black;}#sk-container-id-1 div.sk-toggleable__content {max-height: 0;max-width: 0;overflow: hidden;text-align: left;background-color: #f0f8ff;}#sk-container-id-1 div.sk-toggleable__content pre {margin: 0.2em;color: black;border-radius: 0.25em;background-color: #f0f8ff;}#sk-container-id-1 input.sk-toggleable__control:checked~div.sk-toggleable__content {max-height: 200px;max-width: 100%;overflow: auto;}#sk-container-id-1 input.sk-toggleable__control:checked~label.sk-toggleable__label-arrow:before {content: \"▾\";}#sk-container-id-1 div.sk-estimator input.sk-toggleable__control:checked~label.sk-toggleable__label {background-color: #d4ebff;}#sk-container-id-1 div.sk-label input.sk-toggleable__control:checked~label.sk-toggleable__label {background-color: #d4ebff;}#sk-container-id-1 input.sk-hidden--visually {border: 0;clip: rect(1px 1px 1px 1px);clip: rect(1px, 1px, 1px, 1px);height: 1px;margin: -1px;overflow: hidden;padding: 0;position: absolute;width: 1px;}#sk-container-id-1 div.sk-estimator {font-family: monospace;background-color: #f0f8ff;border: 1px dotted black;border-radius: 0.25em;box-sizing: border-box;margin-bottom: 0.5em;}#sk-container-id-1 div.sk-estimator:hover {background-color: #d4ebff;}#sk-container-id-1 div.sk-parallel-item::after {content: \"\";width: 100%;border-bottom: 1px solid gray;flex-grow: 1;}#sk-container-id-1 div.sk-label:hover label.sk-toggleable__label {background-color: #d4ebff;}#sk-container-id-1 div.sk-serial::before {content: \"\";position: absolute;border-left: 1px solid gray;box-sizing: border-box;top: 0;bottom: 0;left: 50%;z-index: 0;}#sk-container-id-1 div.sk-serial {display: flex;flex-direction: column;align-items: center;background-color: white;padding-right: 0.2em;padding-left: 0.2em;position: relative;}#sk-container-id-1 div.sk-item {position: relative;z-index: 1;}#sk-container-id-1 div.sk-parallel {display: flex;align-items: stretch;justify-content: center;background-color: white;position: relative;}#sk-container-id-1 div.sk-item::before, #sk-container-id-1 div.sk-parallel-item::before {content: \"\";position: absolute;border-left: 1px solid gray;box-sizing: border-box;top: 0;bottom: 0;left: 50%;z-index: -1;}#sk-container-id-1 div.sk-parallel-item {display: flex;flex-direction: column;z-index: 1;position: relative;background-color: white;}#sk-container-id-1 div.sk-parallel-item:first-child::after {align-self: flex-end;width: 50%;}#sk-container-id-1 div.sk-parallel-item:last-child::after {align-self: flex-start;width: 50%;}#sk-container-id-1 div.sk-parallel-item:only-child::after {width: 0;}#sk-container-id-1 div.sk-dashed-wrapped {border: 1px dashed gray;margin: 0 0.4em 0.5em 0.4em;box-sizing: border-box;padding-bottom: 0.4em;background-color: white;}#sk-container-id-1 div.sk-label label {font-family: monospace;font-weight: bold;display: inline-block;line-height: 1.2em;}#sk-container-id-1 div.sk-label-container {text-align: center;}#sk-container-id-1 div.sk-container {/* jupyter's `normalize.less` sets `[hidden] { display: none; }` but bootstrap.min.css set `[hidden] { display: none !important; }` so we also need the `!important` here to be able to override the default hidden behavior on the sphinx rendered scikit-learn.org. See: https://github.com/scikit-learn/scikit-learn/issues/21755 */display: inline-block !important;position: relative;}#sk-container-id-1 div.sk-text-repr-fallback {display: none;}</style><div id=\"sk-container-id-1\" class=\"sk-top-container\"><div class=\"sk-text-repr-fallback\"><pre>ColumnTransformer(remainder=&#x27;passthrough&#x27;,\n",
       "                  transformers=[(&#x27;robust&#x27;, RobustScaler(), [&#x27;Year&#x27;, &#x27;Mileage&#x27;]),\n",
       "                                (&#x27;pipe_ordinal_scale&#x27;,\n",
       "                                 Pipeline(steps=[(&#x27;ordinal&#x27;,\n",
       "                                                  OrdinalEncoder(cols=[&#x27;Options&#x27;],\n",
       "                                                                 mapping=[{&#x27;col&#x27;: &#x27;Options&#x27;,\n",
       "                                                                           &#x27;data_type&#x27;: dtype(&#x27;O&#x27;),\n",
       "                                                                           &#x27;mapping&#x27;: Standard     0\n",
       "Semi Full    1\n",
       "Full         2\n",
       "dtype: int64}])),\n",
       "                                                 (&#x27;scaler&#x27;, RobustScaler())]),\n",
       "                                 [&#x27;Options&#x27;]),\n",
       "                                (&#x27;onehot&#x27;, OneHotEncoder(drop=&#x27;first&#x27;),\n",
       "                                 [&#x27;Origin&#x27;, &#x27;Gear_Type&#x27;, &#x27;Options&#x27;]),\n",
       "                                (&#x27;binary&#x27;, BinaryEncoder(),\n",
       "                                 [&#x27;Type&#x27;, &#x27;Region&#x27;, &#x27;Make&#x27;])])</pre><b>In a Jupyter environment, please rerun this cell to show the HTML representation or trust the notebook. <br />On GitHub, the HTML representation is unable to render, please try loading this page with nbviewer.org.</b></div><div class=\"sk-container\" hidden><div class=\"sk-item sk-dashed-wrapped\"><div class=\"sk-label-container\"><div class=\"sk-label sk-toggleable\"><input class=\"sk-toggleable__control sk-hidden--visually\" id=\"sk-estimator-id-1\" type=\"checkbox\" ><label for=\"sk-estimator-id-1\" class=\"sk-toggleable__label sk-toggleable__label-arrow\">ColumnTransformer</label><div class=\"sk-toggleable__content\"><pre>ColumnTransformer(remainder=&#x27;passthrough&#x27;,\n",
       "                  transformers=[(&#x27;robust&#x27;, RobustScaler(), [&#x27;Year&#x27;, &#x27;Mileage&#x27;]),\n",
       "                                (&#x27;pipe_ordinal_scale&#x27;,\n",
       "                                 Pipeline(steps=[(&#x27;ordinal&#x27;,\n",
       "                                                  OrdinalEncoder(cols=[&#x27;Options&#x27;],\n",
       "                                                                 mapping=[{&#x27;col&#x27;: &#x27;Options&#x27;,\n",
       "                                                                           &#x27;data_type&#x27;: dtype(&#x27;O&#x27;),\n",
       "                                                                           &#x27;mapping&#x27;: Standard     0\n",
       "Semi Full    1\n",
       "Full         2\n",
       "dtype: int64}])),\n",
       "                                                 (&#x27;scaler&#x27;, RobustScaler())]),\n",
       "                                 [&#x27;Options&#x27;]),\n",
       "                                (&#x27;onehot&#x27;, OneHotEncoder(drop=&#x27;first&#x27;),\n",
       "                                 [&#x27;Origin&#x27;, &#x27;Gear_Type&#x27;, &#x27;Options&#x27;]),\n",
       "                                (&#x27;binary&#x27;, BinaryEncoder(),\n",
       "                                 [&#x27;Type&#x27;, &#x27;Region&#x27;, &#x27;Make&#x27;])])</pre></div></div></div><div class=\"sk-parallel\"><div class=\"sk-parallel-item\"><div class=\"sk-item\"><div class=\"sk-label-container\"><div class=\"sk-label sk-toggleable\"><input class=\"sk-toggleable__control sk-hidden--visually\" id=\"sk-estimator-id-2\" type=\"checkbox\" ><label for=\"sk-estimator-id-2\" class=\"sk-toggleable__label sk-toggleable__label-arrow\">robust</label><div class=\"sk-toggleable__content\"><pre>[&#x27;Year&#x27;, &#x27;Mileage&#x27;]</pre></div></div></div><div class=\"sk-serial\"><div class=\"sk-item\"><div class=\"sk-estimator sk-toggleable\"><input class=\"sk-toggleable__control sk-hidden--visually\" id=\"sk-estimator-id-3\" type=\"checkbox\" ><label for=\"sk-estimator-id-3\" class=\"sk-toggleable__label sk-toggleable__label-arrow\">RobustScaler</label><div class=\"sk-toggleable__content\"><pre>RobustScaler()</pre></div></div></div></div></div></div><div class=\"sk-parallel-item\"><div class=\"sk-item\"><div class=\"sk-label-container\"><div class=\"sk-label sk-toggleable\"><input class=\"sk-toggleable__control sk-hidden--visually\" id=\"sk-estimator-id-4\" type=\"checkbox\" ><label for=\"sk-estimator-id-4\" class=\"sk-toggleable__label sk-toggleable__label-arrow\">pipe_ordinal_scale</label><div class=\"sk-toggleable__content\"><pre>[&#x27;Options&#x27;]</pre></div></div></div><div class=\"sk-serial\"><div class=\"sk-item\"><div class=\"sk-serial\"><div class=\"sk-item\"><div class=\"sk-estimator sk-toggleable\"><input class=\"sk-toggleable__control sk-hidden--visually\" id=\"sk-estimator-id-5\" type=\"checkbox\" ><label for=\"sk-estimator-id-5\" class=\"sk-toggleable__label sk-toggleable__label-arrow\">OrdinalEncoder</label><div class=\"sk-toggleable__content\"><pre>OrdinalEncoder(cols=[&#x27;Options&#x27;],\n",
       "               mapping=[{&#x27;col&#x27;: &#x27;Options&#x27;, &#x27;data_type&#x27;: dtype(&#x27;O&#x27;),\n",
       "                         &#x27;mapping&#x27;: Standard     0\n",
       "Semi Full    1\n",
       "Full         2\n",
       "dtype: int64}])</pre></div></div></div><div class=\"sk-item\"><div class=\"sk-estimator sk-toggleable\"><input class=\"sk-toggleable__control sk-hidden--visually\" id=\"sk-estimator-id-6\" type=\"checkbox\" ><label for=\"sk-estimator-id-6\" class=\"sk-toggleable__label sk-toggleable__label-arrow\">RobustScaler</label><div class=\"sk-toggleable__content\"><pre>RobustScaler()</pre></div></div></div></div></div></div></div></div><div class=\"sk-parallel-item\"><div class=\"sk-item\"><div class=\"sk-label-container\"><div class=\"sk-label sk-toggleable\"><input class=\"sk-toggleable__control sk-hidden--visually\" id=\"sk-estimator-id-7\" type=\"checkbox\" ><label for=\"sk-estimator-id-7\" class=\"sk-toggleable__label sk-toggleable__label-arrow\">onehot</label><div class=\"sk-toggleable__content\"><pre>[&#x27;Origin&#x27;, &#x27;Gear_Type&#x27;, &#x27;Options&#x27;]</pre></div></div></div><div class=\"sk-serial\"><div class=\"sk-item\"><div class=\"sk-estimator sk-toggleable\"><input class=\"sk-toggleable__control sk-hidden--visually\" id=\"sk-estimator-id-8\" type=\"checkbox\" ><label for=\"sk-estimator-id-8\" class=\"sk-toggleable__label sk-toggleable__label-arrow\">OneHotEncoder</label><div class=\"sk-toggleable__content\"><pre>OneHotEncoder(drop=&#x27;first&#x27;)</pre></div></div></div></div></div></div><div class=\"sk-parallel-item\"><div class=\"sk-item\"><div class=\"sk-label-container\"><div class=\"sk-label sk-toggleable\"><input class=\"sk-toggleable__control sk-hidden--visually\" id=\"sk-estimator-id-9\" type=\"checkbox\" ><label for=\"sk-estimator-id-9\" class=\"sk-toggleable__label sk-toggleable__label-arrow\">binary</label><div class=\"sk-toggleable__content\"><pre>[&#x27;Type&#x27;, &#x27;Region&#x27;, &#x27;Make&#x27;]</pre></div></div></div><div class=\"sk-serial\"><div class=\"sk-item\"><div class=\"sk-estimator sk-toggleable\"><input class=\"sk-toggleable__control sk-hidden--visually\" id=\"sk-estimator-id-10\" type=\"checkbox\" ><label for=\"sk-estimator-id-10\" class=\"sk-toggleable__label sk-toggleable__label-arrow\">BinaryEncoder</label><div class=\"sk-toggleable__content\"><pre>BinaryEncoder()</pre></div></div></div></div></div></div><div class=\"sk-parallel-item\"><div class=\"sk-item\"><div class=\"sk-label-container\"><div class=\"sk-label sk-toggleable\"><input class=\"sk-toggleable__control sk-hidden--visually\" id=\"sk-estimator-id-11\" type=\"checkbox\" ><label for=\"sk-estimator-id-11\" class=\"sk-toggleable__label sk-toggleable__label-arrow\">remainder</label><div class=\"sk-toggleable__content\"><pre></pre></div></div></div><div class=\"sk-serial\"><div class=\"sk-item\"><div class=\"sk-estimator sk-toggleable\"><input class=\"sk-toggleable__control sk-hidden--visually\" id=\"sk-estimator-id-12\" type=\"checkbox\" ><label for=\"sk-estimator-id-12\" class=\"sk-toggleable__label sk-toggleable__label-arrow\">passthrough</label><div class=\"sk-toggleable__content\"><pre>passthrough</pre></div></div></div></div></div></div></div></div></div></div>"
      ],
      "text/plain": [
       "ColumnTransformer(remainder='passthrough',\n",
       "                  transformers=[('robust', RobustScaler(), ['Year', 'Mileage']),\n",
       "                                ('pipe_ordinal_scale',\n",
       "                                 Pipeline(steps=[('ordinal',\n",
       "                                                  OrdinalEncoder(cols=['Options'],\n",
       "                                                                 mapping=[{'col': 'Options',\n",
       "                                                                           'data_type': dtype('O'),\n",
       "                                                                           'mapping': Standard     0\n",
       "Semi Full    1\n",
       "Full         2\n",
       "dtype: int64}])),\n",
       "                                                 ('scaler', RobustScaler())]),\n",
       "                                 ['Options']),\n",
       "                                ('onehot', OneHotEncoder(drop='first'),\n",
       "                                 ['Origin', 'Gear_Type', 'Options']),\n",
       "                                ('binary', BinaryEncoder(),\n",
       "                                 ['Type', 'Region', 'Make'])])"
      ]
     },
     "execution_count": 37,
     "metadata": {},
     "output_type": "execute_result"
    }
   ],
   "source": [
    "# Define the ordinal mapping\n",
    "ordinal_mapping = [{'col': 'Options', 'mapping': {'Standard': 0, 'Semi Full': 1, 'Full': 2}}]\n",
    "\n",
    "# Create the OrdinalEncoder transformer\n",
    "ordinal_encoder = OrdinalEncoder(cols=['Options'], mapping=ordinal_mapping)\n",
    "\n",
    "# Use the ordinal_encoder in your pipeline\n",
    "pipe_ordinal_scale = Pipeline([\n",
    "    ('ordinal', ordinal_encoder),\n",
    "    ('scaler', RobustScaler())\n",
    "])\n",
    "\n",
    "# Rest of your pipeline\n",
    "transformer = ColumnTransformer([\n",
    "    ('robust', RobustScaler(), ['Year', 'Mileage']),\n",
    "    ('pipe_ordinal_scale', pipe_ordinal_scale, ['Options']),\n",
    "    ('onehot', OneHotEncoder(drop='first'), ['Origin', 'Gear_Type','Options']),\n",
    "    ('binary', ce.BinaryEncoder(), ['Type', 'Region', 'Make'])\n",
    "], remainder='passthrough')\n",
    "\n",
    "transformer"
   ]
  },
  {
   "cell_type": "code",
   "execution_count": 38,
   "metadata": {},
   "outputs": [],
   "source": [
    "scaler_robust=RobustScaler()\n",
    "scaler_minmax=MinMaxScaler()\n",
    "scaler_standard=StandardScaler()"
   ]
  },
  {
   "attachments": {},
   "cell_type": "markdown",
   "metadata": {},
   "source": [
    "### Benchmarking"
   ]
  },
  {
   "attachments": {},
   "cell_type": "markdown",
   "metadata": {},
   "source": [
    "In this section, benchmarking will be performed using various algorithm variations and treatments for data imbalance, along with cross-validation. The objective is to obtain reliable estimates of how well the model will perform on unseen data."
   ]
  },
  {
   "cell_type": "code",
   "execution_count": 39,
   "metadata": {},
   "outputs": [],
   "source": [
    "import pandas as pd\n",
    "import numpy as np\n",
    "from sklearn.metrics import mean_absolute_error, mean_squared_error \n",
    "from sklearn.model_selection import cross_validate, StratifiedKFold, KFold, cross_val_score\n",
    "from imblearn.pipeline import Pipeline\n",
    "from sklearn.metrics import f1_score, accuracy_score, precision_score, recall_score\n",
    "from sklearn.metrics import make_scorer, fbeta_score\n",
    "from sklearn.linear_model import LinearRegression, Lasso, Ridge, ElasticNet\n",
    "from sklearn.ensemble import GradientBoostingRegressor, AdaBoostRegressor, RandomForestRegressor\n",
    "from xgboost import XGBRegressor\n",
    "from lightgbm import LGBMRegressor\n",
    "from catboost import CatBoostRegressor\n",
    "from sklearn.svm import SVR\n",
    "from sklearn.pipeline import Pipeline\n",
    "from sklearn.preprocessing import RobustScaler, MinMaxScaler, StandardScaler\n",
    "from sklearn.compose import TransformedTargetRegressor\n",
    "from sklearn.tree import DecisionTreeRegressor\n",
    "from sklearn.neighbors import KNeighborsRegressor\n",
    "\n",
    "# Define metrics\n",
    "metrics = {'mae': 'neg_mean_absolute_error',\n",
    "           'mape': 'neg_mean_absolute_percentage_error',\n",
    "           'rmse': 'neg_root_mean_squared_error'}\n",
    "\n",
    "# Define models\n",
    "lr = LinearRegression()\n",
    "lasso = Lasso()\n",
    "ridge = Ridge()\n",
    "elastic_net = ElasticNet()\n",
    "knn = KNeighborsRegressor()\n",
    "dt = DecisionTreeRegressor(random_state=42)\n",
    "rf = RandomForestRegressor(random_state=42)\n",
    "gb = GradientBoostingRegressor(random_state=42)\n",
    "xgb = XGBRegressor(random_state=42)\n",
    "lgbm = LGBMRegressor(random_state=42)\n",
    "svr = SVR()\n",
    "ada_boost = AdaBoostRegressor(random_state=42)\n",
    "cat_boost = CatBoostRegressor(random_state=42,verbose=False)\n",
    "\n",
    "log_lr = TransformedTargetRegressor(lr, func=np.log, inverse_func=np.exp)\n",
    "log_lasso = TransformedTargetRegressor(lasso, func=np.log, inverse_func=np.exp)\n",
    "log_ridge = TransformedTargetRegressor(ridge, func=np.log, inverse_func=np.exp)\n",
    "log_elastic_net = TransformedTargetRegressor(elastic_net, func=np.log, inverse_func=np.exp)\n",
    "log_knn = TransformedTargetRegressor(knn, func=np.log, inverse_func=np.exp)\n",
    "log_dt = TransformedTargetRegressor(dt, func=np.log, inverse_func=np.exp)\n",
    "log_rf = TransformedTargetRegressor(rf, func=np.log, inverse_func=np.exp)\n",
    "log_gb = TransformedTargetRegressor(gb, func=np.log, inverse_func=np.exp)\n",
    "log_xgb = TransformedTargetRegressor(xgb, func=np.log, inverse_func=np.exp)\n",
    "log_lgbm = TransformedTargetRegressor(lgbm, func=np.log, inverse_func=np.exp)\n",
    "log_svr = TransformedTargetRegressor(svr, func=np.log, inverse_func=np.exp)\n",
    "log_ada_boost = TransformedTargetRegressor(ada_boost, func=np.log, inverse_func=np.exp)\n",
    "log_cat_boost = TransformedTargetRegressor(cat_boost, func=np.log, inverse_func=np.exp)\n"
   ]
  },
  {
   "cell_type": "code",
   "execution_count": 40,
   "metadata": {},
   "outputs": [],
   "source": [
    "models = [log_lr, log_knn, log_dt, log_rf, log_xgb, log_lasso, log_ridge, log_elastic_net, log_gb, log_lgbm, log_svr, log_ada_boost, log_cat_boost]\n",
    "model_names = ['LinearRegression', 'KNeighborsRegressor', 'DecisionTreeRegressor', 'RandomForestRegressor', 'XGBRegressor', 'Lasso', 'Ridge',\n",
    "               'ElasticNet', 'GradientBoosting', 'LightGBM', 'SVR', 'AdaBoost', 'CatBoost']\n",
    "\n",
    "scalers = {\n",
    "    \"RobustScaler\": RobustScaler(),\n",
    "    \"MinMaxScaler\": MinMaxScaler(),\n",
    "    \"StandardScaler\": StandardScaler()\n",
    "}\n",
    "\n",
    "# Initialize lists to store results\n",
    "fit_time_arr = []\n",
    "score_time_arr = []\n",
    "test_mae_arr = []\n",
    "test_mape_arr = []\n",
    "test_rmse_arr = []\n",
    "model_arr = []\n",
    "scaler_arr = []\n",
    "\n",
    "for scaler_name, scaler in scalers.items():\n",
    "    for model, model_name in zip(models, model_names):\n",
    "        crossval = KFold(n_splits=5)\n",
    "\n",
    "        estimator = Pipeline([\n",
    "            ('transform', transformer),  \n",
    "            ('scaler', scaler),\n",
    "            ('model', model),\n",
    "        ])\n",
    "\n",
    "        scores = cross_validate(estimator, X_train, y_train, cv=crossval, scoring=metrics)\n",
    "\n",
    "        fit_time_arr.append(scores['fit_time'].mean())\n",
    "        score_time_arr.append(scores['score_time'].mean())\n",
    "        test_mae_arr.append(abs(scores['test_mae'].mean()))\n",
    "        test_mape_arr.append(abs(scores['test_mape'].mean()))\n",
    "        test_rmse_arr.append(abs(scores['test_rmse'].mean()))\n",
    "        model_arr.append(model_name)\n",
    "        scaler_arr.append(scaler_name)\n",
    "\n",
    "model_bench = pd.DataFrame({\n",
    "    'Model': model_arr,\n",
    "    'Scaler': scaler_arr,\n",
    "    'Fit Time': fit_time_arr,\n",
    "    'Score Time': score_time_arr,\n",
    "    'MAE': test_mae_arr,\n",
    "    'MAPE': test_mape_arr,\n",
    "    'RMSE': test_rmse_arr,\n",
    "})\n"
   ]
  },
  {
   "cell_type": "code",
   "execution_count": 41,
   "metadata": {},
   "outputs": [
    {
     "data": {
      "text/html": [
       "<div>\n",
       "<style scoped>\n",
       "    .dataframe tbody tr th:only-of-type {\n",
       "        vertical-align: middle;\n",
       "    }\n",
       "\n",
       "    .dataframe tbody tr th {\n",
       "        vertical-align: top;\n",
       "    }\n",
       "\n",
       "    .dataframe thead th {\n",
       "        text-align: right;\n",
       "    }\n",
       "</style>\n",
       "<table border=\"1\" class=\"dataframe\">\n",
       "  <thead>\n",
       "    <tr style=\"text-align: right;\">\n",
       "      <th></th>\n",
       "      <th>Model</th>\n",
       "      <th>Scaler</th>\n",
       "      <th>Fit Time</th>\n",
       "      <th>Score Time</th>\n",
       "      <th>MAE</th>\n",
       "      <th>MAPE</th>\n",
       "      <th>RMSE</th>\n",
       "    </tr>\n",
       "  </thead>\n",
       "  <tbody>\n",
       "    <tr>\n",
       "      <th>38</th>\n",
       "      <td>CatBoost</td>\n",
       "      <td>StandardScaler</td>\n",
       "      <td>3.642362</td>\n",
       "      <td>0.026532</td>\n",
       "      <td>14550.961894</td>\n",
       "      <td>0.197933</td>\n",
       "      <td>31339.446588</td>\n",
       "    </tr>\n",
       "    <tr>\n",
       "      <th>25</th>\n",
       "      <td>CatBoost</td>\n",
       "      <td>MinMaxScaler</td>\n",
       "      <td>4.648765</td>\n",
       "      <td>0.048670</td>\n",
       "      <td>14548.296608</td>\n",
       "      <td>0.197938</td>\n",
       "      <td>31315.645858</td>\n",
       "    </tr>\n",
       "    <tr>\n",
       "      <th>12</th>\n",
       "      <td>CatBoost</td>\n",
       "      <td>RobustScaler</td>\n",
       "      <td>5.370220</td>\n",
       "      <td>0.039096</td>\n",
       "      <td>14548.362662</td>\n",
       "      <td>0.197938</td>\n",
       "      <td>31315.646419</td>\n",
       "    </tr>\n",
       "    <tr>\n",
       "      <th>4</th>\n",
       "      <td>XGBRegressor</td>\n",
       "      <td>RobustScaler</td>\n",
       "      <td>0.342085</td>\n",
       "      <td>0.035904</td>\n",
       "      <td>15872.962640</td>\n",
       "      <td>0.217436</td>\n",
       "      <td>32716.887432</td>\n",
       "    </tr>\n",
       "    <tr>\n",
       "      <th>17</th>\n",
       "      <td>XGBRegressor</td>\n",
       "      <td>MinMaxScaler</td>\n",
       "      <td>0.488489</td>\n",
       "      <td>0.061833</td>\n",
       "      <td>15879.363585</td>\n",
       "      <td>0.217819</td>\n",
       "      <td>32738.064318</td>\n",
       "    </tr>\n",
       "    <tr>\n",
       "      <th>30</th>\n",
       "      <td>XGBRegressor</td>\n",
       "      <td>StandardScaler</td>\n",
       "      <td>0.481308</td>\n",
       "      <td>0.075398</td>\n",
       "      <td>15885.037543</td>\n",
       "      <td>0.217906</td>\n",
       "      <td>32740.682255</td>\n",
       "    </tr>\n",
       "  </tbody>\n",
       "</table>\n",
       "</div>"
      ],
      "text/plain": [
       "           Model          Scaler  Fit Time  Score Time           MAE   \n",
       "38      CatBoost  StandardScaler  3.642362    0.026532  14550.961894  \\\n",
       "25      CatBoost    MinMaxScaler  4.648765    0.048670  14548.296608   \n",
       "12      CatBoost    RobustScaler  5.370220    0.039096  14548.362662   \n",
       "4   XGBRegressor    RobustScaler  0.342085    0.035904  15872.962640   \n",
       "17  XGBRegressor    MinMaxScaler  0.488489    0.061833  15879.363585   \n",
       "30  XGBRegressor  StandardScaler  0.481308    0.075398  15885.037543   \n",
       "\n",
       "        MAPE          RMSE  \n",
       "38  0.197933  31339.446588  \n",
       "25  0.197938  31315.645858  \n",
       "12  0.197938  31315.646419  \n",
       "4   0.217436  32716.887432  \n",
       "17  0.217819  32738.064318  \n",
       "30  0.217906  32740.682255  "
      ]
     },
     "execution_count": 41,
     "metadata": {},
     "output_type": "execute_result"
    }
   ],
   "source": [
    "model_bench.sort_values(by='MAPE',ascending=True).head(6)"
   ]
  },
  {
   "attachments": {},
   "cell_type": "markdown",
   "metadata": {},
   "source": [
    "Based on the evaluation results, we compared the performance of the CatBoost and XGBRegressor models in predicting car prices using different scalers. The CatBoost model consistently demonstrated superior performance across all three evaluated scalers, namely RobustScaler, MinMaxScaler, and StandardScaler.\n",
    "\n",
    "In terms of the mean absolute error (MAE), which measures the average absolute difference between predicted and actual car prices, CatBoost achieved significantly lower scores than XGBRegressor. CatBoost yielded an average MAE of 14,749.80 with RobustScaler, 14,749.95 with MinMaxScaler, and 14,753.80 with StandardScaler. On the other hand, XGBRegressor obtained higher MAE values, ranging from 16,295.03 to 16308.36 across the different scalers.\n",
    "\n",
    "Considering the mean absolute percentage error (MAPE), which measures the average percentage difference between predicted and actual prices, CatBoost showed a slight advantage over XGBRegressor. XGBRegressor achieved a lower MAPE score, ranging from 0.2203 to 0.2207, while CatBoost's MAPE values ranged from 0.198577 to 0.198588. These results indicate that CatBoost provides more accurate predictions in terms of percentage deviations.\n",
    "\n",
    "Regarding the root mean squared error (RMSE), which considers the squared differences between predicted and actual prices, CatBoost consistently outperformed XGBRegressor. CatBoost achieved lower RMSE values, ranging from 32,006.93 to 32,036.96, while XGBRegressor's RMSE values ranged from 33,906.42 to 33,950.46.\n",
    "\n",
    "Overall, the CatBoost model demonstrated better performance in predicting car prices compared to XGBRegressor across all evaluated scalers. It consistently achieved lower MAE and RMSE scores, indicating greater accuracy in predicting car prices. Although XGBRegressor had a lower MAPE score, it fell short in terms of absolute and squared price differences. Therefore, CatBoost model utilizes only the robust scaler in its modeling process because the robust scaler is effective in handling outliers and non-normal distributions, which are common characteristics of numerical features in predicting used car prices. By using the robust scaler, CatBoost can better capture the variations and patterns in the data, resulting in more accurate and reliable predictions of used car prices."
   ]
  },
  {
   "attachments": {},
   "cell_type": "markdown",
   "metadata": {},
   "source": [
    "### What is CatBoost (Category Boost)\n",
    "\n",
    "Category Boost is a machine learning algorithm specifically designed to handle categorical features efficiently. It is an extension of the gradient boosting framework and shares similarities with algorithms like XGBoost and LightGBM. CatBoost stands out for its ability to automatically handle categorical variables without requiring explicit encoding, making it a valuable tool for real-world datasets with mixed data types.\n",
    "\n",
    "CatBoost utilizes an advanced algorithm called Ordered Boosting, which combines gradient boosting and ordered target statistics. This technique addresses the challenges of working with categorical features by treating them as numerical, providing a more accurate representation of the underlying patterns and dependencies.\n",
    "\n",
    "One of the key advantages of CatBoost is its ability to handle categorical variables of various cardinalities and levels. It internally processes categorical features by considering the combinations of categories and their interactions, which helps capture valuable information that might be missed by other algorithms.\n",
    "\n",
    "Some notable features of CatBoost include:\n",
    "\n",
    "1. Categorical variable handling: CatBoost handles categorical features seamlessly, eliminating the need for explicit encoding or feature engineering.\n",
    "\n",
    "2. Automatic handling of missing values: CatBoost has built-in capabilities to handle missing values in both numerical and categorical features during training, simplifying the preprocessing step.\n",
    "\n",
    "3. Robustness to outliers: CatBoost is designed to be robust against outliers in the data, reducing their impact on the model's predictions.\n",
    "\n",
    "4. Fast training and inference: CatBoost leverages parallelization techniques to accelerate the training process, making it suitable for large datasets.\n",
    "\n",
    "5. Interpretability: CatBoost provides insights into feature importance, allowing users to understand which features contribute the most to the model's predictions.\n",
    "\n",
    "CatBoost has been successfully applied in various domains, including e-commerce, advertising, and recommendation systems. Its ability to handle categorical features effectively and its competitive performance make it a valuable tool in the data scientist's toolkit, particularly when dealing with real-world datasets that often contain a mix of numerical and categorical variables."
   ]
  },
  {
   "attachments": {},
   "cell_type": "markdown",
   "metadata": {},
   "source": [
    "### Next, the selected base model (CatBoost) will be tested on the test data from the dataset."
   ]
  },
  {
   "cell_type": "code",
   "execution_count": 42,
   "metadata": {},
   "outputs": [],
   "source": [
    "log_cat_boost = TransformedTargetRegressor(cat_boost, func=np.log, inverse_func=np.exp)\n",
    "\n",
    "models = {'Category Boost Test': log_cat_boost,\n",
    "}\n",
    "\n",
    "score_mae_test = []\n",
    "score_mape_test = []\n",
    "score_rmse_test = []\n",
    "score_r2_test = []\n",
    "\n",
    "for i in models:\n",
    "\n",
    "    model = Pipeline([\n",
    "        ('preprocessing', transformer),\n",
    "        ('model', models[i])\n",
    "        ])\n",
    "\n",
    "    model.fit(X_train, y_train)\n",
    "    y_pred = model.predict(X_test)\n",
    "    score_mae_test.append(mean_absolute_error(y_test, y_pred))\n",
    "    score_mape_test.append(mean_absolute_percentage_error(y_test, y_pred))\n",
    "    score_rmse_test.append(mean_squared_error(y_test, y_pred, squared = False))\n",
    "\n",
    "score_before_tuning = pd.DataFrame({'MAE': score_mae_test, \n",
    "                                    'MAPE': score_mape_test, \n",
    "                                    'RMSE': score_rmse_test}, \n",
    "                                    index=models.keys())"
   ]
  },
  {
   "cell_type": "code",
   "execution_count": 43,
   "metadata": {},
   "outputs": [
    {
     "name": "stdout",
     "output_type": "stream",
     "text": [
      "Here is a comparison of the train and test scores\n"
     ]
    },
    {
     "data": {
      "text/html": [
       "<div>\n",
       "<style scoped>\n",
       "    .dataframe tbody tr th:only-of-type {\n",
       "        vertical-align: middle;\n",
       "    }\n",
       "\n",
       "    .dataframe tbody tr th {\n",
       "        vertical-align: top;\n",
       "    }\n",
       "\n",
       "    .dataframe thead th {\n",
       "        text-align: right;\n",
       "    }\n",
       "</style>\n",
       "<table border=\"1\" class=\"dataframe\">\n",
       "  <thead>\n",
       "    <tr style=\"text-align: right;\">\n",
       "      <th></th>\n",
       "      <th>Model</th>\n",
       "      <th>MAE</th>\n",
       "      <th>MAPE</th>\n",
       "      <th>RMSE</th>\n",
       "    </tr>\n",
       "  </thead>\n",
       "  <tbody>\n",
       "    <tr>\n",
       "      <th>0</th>\n",
       "      <td>CatBoost Train</td>\n",
       "      <td>14548.362662</td>\n",
       "      <td>0.197938</td>\n",
       "      <td>31315.646419</td>\n",
       "    </tr>\n",
       "    <tr>\n",
       "      <th>1</th>\n",
       "      <td>CatBoost Test</td>\n",
       "      <td>12115.684046</td>\n",
       "      <td>0.177685</td>\n",
       "      <td>22601.086866</td>\n",
       "    </tr>\n",
       "  </tbody>\n",
       "</table>\n",
       "</div>"
      ],
      "text/plain": [
       "            Model           MAE      MAPE          RMSE\n",
       "0  CatBoost Train  14548.362662  0.197938  31315.646419\n",
       "1   CatBoost Test  12115.684046  0.177685  22601.086866"
      ]
     },
     "execution_count": 43,
     "metadata": {},
     "output_type": "execute_result"
    }
   ],
   "source": [
    "train_result = model_bench[12:13].set_index('Model', drop = True)\n",
    "merged = pd.concat([train_result, score_before_tuning])\n",
    "merged.reset_index(inplace=True)\n",
    "merged.drop(columns = 'index', inplace = True)\n",
    "merged['Model'] = ['CatBoost Train', 'CatBoost Test']\n",
    "merged.set_index('Model', drop = True)\n",
    "print('Here is a comparison of the train and test scores')\n",
    "merged[['Model','MAE', 'MAPE', 'RMSE']]\n"
   ]
  },
  {
   "attachments": {},
   "cell_type": "markdown",
   "metadata": {},
   "source": [
    "Based on the obtained results, the metric evaluations of both the train and test datasets have relatively small differences, indicating that there is little discrepancy between the performance on the training and testing data, or in other words, there is no significant overfitting. The next step is to perform hyperparameter tuning with the aim of achieving even lower metric evaluation values than those of the test dataset."
   ]
  },
  {
   "attachments": {},
   "cell_type": "markdown",
   "metadata": {},
   "source": [
    "### Hyperparameter Tuning\n",
    "\n",
    "Next, our focus will be on optimizing the performance of the CatBoost model through hyperparameter tuning. By fine-tuning the model's hyperparameters, we aim to enhance its effectiveness and achieve even better results."
   ]
  },
  {
   "cell_type": "code",
   "execution_count": 44,
   "metadata": {},
   "outputs": [],
   "source": [
    "# param_space = {\n",
    "#     'model__learning_rate': [0.01, 0.1, 0.5],\n",
    "#     'model__iterations': [175, 225, 275],\n",
    "#     'model__depth': [i for i in range(7,11,1)],\n",
    "#     'model__l2_leaf_reg': [i for i in range(4,7,1)]\n",
    "# }\n"
   ]
  },
  {
   "cell_type": "code",
   "execution_count": 45,
   "metadata": {},
   "outputs": [],
   "source": [
    "# save the best params for fast checking\n",
    "param_space = {'model__depth': [8],\n",
    " 'model__iterations':[275],\n",
    " 'model__l2_leaf_reg': [5],\n",
    " 'model__learning_rate': [0.1]}\n"
   ]
  },
  {
   "attachments": {},
   "cell_type": "markdown",
   "metadata": {},
   "source": [
    "- Catboost parameter explanation:\n",
    "   1. depth: This is the maximum depth of decision trees in the CatBoost model. The depth of a tree affects the model's complexity and its ability to capture more complex relationships in the data.\n",
    "\n",
    "   2. iterations: This is the maximum number of iterations (rounds) that will be performed by the CatBoost model. Each iteration adds one decision tree to the model. The more iterations, the more trees will be used in the model.\n",
    "\n",
    "   3. l2_leaf_reg: This is a regularization parameter in the CatBoost model that controls the strength of L2 regularization or L2 penalty applied to the leaf weights in decision trees. L2 regularization helps prevent overfitting by suppressing high weight values in the model. A larger l2_leaf_reg value will result in stronger regularization.\n",
    "\n",
    "   4. learning_rate: This is the learning rate used in the CatBoost model. The learning rate controls how fast the model learns from previous prediction errors. A higher learning rate tends to lead to faster convergence but also increases the risk of overfitting."
   ]
  },
  {
   "cell_type": "code",
   "execution_count": 46,
   "metadata": {},
   "outputs": [],
   "source": [
    "cat_boost = CatBoostRegressor(random_state=42,verbose=False)\n",
    "\n",
    "\n",
    "# Update the estimator pipeline with the TransformedTargetRegressor and CatBoost\n",
    "estimator_cat_boost = Pipeline([\n",
    "    ('preprocessing', transformer),\n",
    "    ('model', cat_boost)\n",
    "])\n",
    "\n",
    "# Perform random search cross-validation with 50 iterations\n",
    "grid_cat = GridSearchCV(\n",
    "estimator_cat_boost,\n",
    "param_grid=param_space,\n",
    "cv=crossval,\n",
    "scoring=['neg_root_mean_squared_error', 'neg_mean_absolute_error', 'neg_mean_absolute_percentage_error'],\n",
    "refit='neg_mean_absolute_percentage_error',\n",
    "n_jobs=-1\n",
    ")"
   ]
  },
  {
   "cell_type": "code",
   "execution_count": 47,
   "metadata": {},
   "outputs": [
    {
     "data": {
      "text/html": [
       "<style>#sk-container-id-2 {color: black;background-color: white;}#sk-container-id-2 pre{padding: 0;}#sk-container-id-2 div.sk-toggleable {background-color: white;}#sk-container-id-2 label.sk-toggleable__label {cursor: pointer;display: block;width: 100%;margin-bottom: 0;padding: 0.3em;box-sizing: border-box;text-align: center;}#sk-container-id-2 label.sk-toggleable__label-arrow:before {content: \"▸\";float: left;margin-right: 0.25em;color: #696969;}#sk-container-id-2 label.sk-toggleable__label-arrow:hover:before {color: black;}#sk-container-id-2 div.sk-estimator:hover label.sk-toggleable__label-arrow:before {color: black;}#sk-container-id-2 div.sk-toggleable__content {max-height: 0;max-width: 0;overflow: hidden;text-align: left;background-color: #f0f8ff;}#sk-container-id-2 div.sk-toggleable__content pre {margin: 0.2em;color: black;border-radius: 0.25em;background-color: #f0f8ff;}#sk-container-id-2 input.sk-toggleable__control:checked~div.sk-toggleable__content {max-height: 200px;max-width: 100%;overflow: auto;}#sk-container-id-2 input.sk-toggleable__control:checked~label.sk-toggleable__label-arrow:before {content: \"▾\";}#sk-container-id-2 div.sk-estimator input.sk-toggleable__control:checked~label.sk-toggleable__label {background-color: #d4ebff;}#sk-container-id-2 div.sk-label input.sk-toggleable__control:checked~label.sk-toggleable__label {background-color: #d4ebff;}#sk-container-id-2 input.sk-hidden--visually {border: 0;clip: rect(1px 1px 1px 1px);clip: rect(1px, 1px, 1px, 1px);height: 1px;margin: -1px;overflow: hidden;padding: 0;position: absolute;width: 1px;}#sk-container-id-2 div.sk-estimator {font-family: monospace;background-color: #f0f8ff;border: 1px dotted black;border-radius: 0.25em;box-sizing: border-box;margin-bottom: 0.5em;}#sk-container-id-2 div.sk-estimator:hover {background-color: #d4ebff;}#sk-container-id-2 div.sk-parallel-item::after {content: \"\";width: 100%;border-bottom: 1px solid gray;flex-grow: 1;}#sk-container-id-2 div.sk-label:hover label.sk-toggleable__label {background-color: #d4ebff;}#sk-container-id-2 div.sk-serial::before {content: \"\";position: absolute;border-left: 1px solid gray;box-sizing: border-box;top: 0;bottom: 0;left: 50%;z-index: 0;}#sk-container-id-2 div.sk-serial {display: flex;flex-direction: column;align-items: center;background-color: white;padding-right: 0.2em;padding-left: 0.2em;position: relative;}#sk-container-id-2 div.sk-item {position: relative;z-index: 1;}#sk-container-id-2 div.sk-parallel {display: flex;align-items: stretch;justify-content: center;background-color: white;position: relative;}#sk-container-id-2 div.sk-item::before, #sk-container-id-2 div.sk-parallel-item::before {content: \"\";position: absolute;border-left: 1px solid gray;box-sizing: border-box;top: 0;bottom: 0;left: 50%;z-index: -1;}#sk-container-id-2 div.sk-parallel-item {display: flex;flex-direction: column;z-index: 1;position: relative;background-color: white;}#sk-container-id-2 div.sk-parallel-item:first-child::after {align-self: flex-end;width: 50%;}#sk-container-id-2 div.sk-parallel-item:last-child::after {align-self: flex-start;width: 50%;}#sk-container-id-2 div.sk-parallel-item:only-child::after {width: 0;}#sk-container-id-2 div.sk-dashed-wrapped {border: 1px dashed gray;margin: 0 0.4em 0.5em 0.4em;box-sizing: border-box;padding-bottom: 0.4em;background-color: white;}#sk-container-id-2 div.sk-label label {font-family: monospace;font-weight: bold;display: inline-block;line-height: 1.2em;}#sk-container-id-2 div.sk-label-container {text-align: center;}#sk-container-id-2 div.sk-container {/* jupyter's `normalize.less` sets `[hidden] { display: none; }` but bootstrap.min.css set `[hidden] { display: none !important; }` so we also need the `!important` here to be able to override the default hidden behavior on the sphinx rendered scikit-learn.org. See: https://github.com/scikit-learn/scikit-learn/issues/21755 */display: inline-block !important;position: relative;}#sk-container-id-2 div.sk-text-repr-fallback {display: none;}</style><div id=\"sk-container-id-2\" class=\"sk-top-container\"><div class=\"sk-text-repr-fallback\"><pre>GridSearchCV(cv=KFold(n_splits=5, random_state=None, shuffle=False),\n",
       "             estimator=Pipeline(steps=[(&#x27;preprocessing&#x27;,\n",
       "                                        ColumnTransformer(remainder=&#x27;passthrough&#x27;,\n",
       "                                                          transformers=[(&#x27;robust&#x27;,\n",
       "                                                                         RobustScaler(),\n",
       "                                                                         [&#x27;Year&#x27;,\n",
       "                                                                          &#x27;Mileage&#x27;]),\n",
       "                                                                        (&#x27;pipe_ordinal_scale&#x27;,\n",
       "                                                                         Pipeline(steps=[(&#x27;ordinal&#x27;,\n",
       "                                                                                          OrdinalEncoder(cols=[&#x27;Options&#x27;],\n",
       "                                                                                                         mapping=[{&#x27;col&#x27;: &#x27;Options&#x27;,\n",
       "                                                                                                                   &#x27;data_type&#x27;: dtype(&#x27;O&#x27;),\n",
       "                                                                                                                   &#x27;mapping&#x27;:...\n",
       "                                                                          &#x27;Make&#x27;])])),\n",
       "                                       (&#x27;model&#x27;,\n",
       "                                        &lt;catboost.core.CatBoostRegressor object at 0x000002645341ECD0&gt;)]),\n",
       "             n_jobs=-1,\n",
       "             param_grid={&#x27;model__depth&#x27;: [8], &#x27;model__iterations&#x27;: [275],\n",
       "                         &#x27;model__l2_leaf_reg&#x27;: [5],\n",
       "                         &#x27;model__learning_rate&#x27;: [0.1]},\n",
       "             refit=&#x27;neg_mean_absolute_percentage_error&#x27;,\n",
       "             scoring=[&#x27;neg_root_mean_squared_error&#x27;, &#x27;neg_mean_absolute_error&#x27;,\n",
       "                      &#x27;neg_mean_absolute_percentage_error&#x27;])</pre><b>In a Jupyter environment, please rerun this cell to show the HTML representation or trust the notebook. <br />On GitHub, the HTML representation is unable to render, please try loading this page with nbviewer.org.</b></div><div class=\"sk-container\" hidden><div class=\"sk-item sk-dashed-wrapped\"><div class=\"sk-label-container\"><div class=\"sk-label sk-toggleable\"><input class=\"sk-toggleable__control sk-hidden--visually\" id=\"sk-estimator-id-13\" type=\"checkbox\" ><label for=\"sk-estimator-id-13\" class=\"sk-toggleable__label sk-toggleable__label-arrow\">GridSearchCV</label><div class=\"sk-toggleable__content\"><pre>GridSearchCV(cv=KFold(n_splits=5, random_state=None, shuffle=False),\n",
       "             estimator=Pipeline(steps=[(&#x27;preprocessing&#x27;,\n",
       "                                        ColumnTransformer(remainder=&#x27;passthrough&#x27;,\n",
       "                                                          transformers=[(&#x27;robust&#x27;,\n",
       "                                                                         RobustScaler(),\n",
       "                                                                         [&#x27;Year&#x27;,\n",
       "                                                                          &#x27;Mileage&#x27;]),\n",
       "                                                                        (&#x27;pipe_ordinal_scale&#x27;,\n",
       "                                                                         Pipeline(steps=[(&#x27;ordinal&#x27;,\n",
       "                                                                                          OrdinalEncoder(cols=[&#x27;Options&#x27;],\n",
       "                                                                                                         mapping=[{&#x27;col&#x27;: &#x27;Options&#x27;,\n",
       "                                                                                                                   &#x27;data_type&#x27;: dtype(&#x27;O&#x27;),\n",
       "                                                                                                                   &#x27;mapping&#x27;:...\n",
       "                                                                          &#x27;Make&#x27;])])),\n",
       "                                       (&#x27;model&#x27;,\n",
       "                                        &lt;catboost.core.CatBoostRegressor object at 0x000002645341ECD0&gt;)]),\n",
       "             n_jobs=-1,\n",
       "             param_grid={&#x27;model__depth&#x27;: [8], &#x27;model__iterations&#x27;: [275],\n",
       "                         &#x27;model__l2_leaf_reg&#x27;: [5],\n",
       "                         &#x27;model__learning_rate&#x27;: [0.1]},\n",
       "             refit=&#x27;neg_mean_absolute_percentage_error&#x27;,\n",
       "             scoring=[&#x27;neg_root_mean_squared_error&#x27;, &#x27;neg_mean_absolute_error&#x27;,\n",
       "                      &#x27;neg_mean_absolute_percentage_error&#x27;])</pre></div></div></div><div class=\"sk-parallel\"><div class=\"sk-parallel-item\"><div class=\"sk-item\"><div class=\"sk-label-container\"><div class=\"sk-label sk-toggleable\"><input class=\"sk-toggleable__control sk-hidden--visually\" id=\"sk-estimator-id-14\" type=\"checkbox\" ><label for=\"sk-estimator-id-14\" class=\"sk-toggleable__label sk-toggleable__label-arrow\">estimator: Pipeline</label><div class=\"sk-toggleable__content\"><pre>Pipeline(steps=[(&#x27;preprocessing&#x27;,\n",
       "                 ColumnTransformer(remainder=&#x27;passthrough&#x27;,\n",
       "                                   transformers=[(&#x27;robust&#x27;, RobustScaler(),\n",
       "                                                  [&#x27;Year&#x27;, &#x27;Mileage&#x27;]),\n",
       "                                                 (&#x27;pipe_ordinal_scale&#x27;,\n",
       "                                                  Pipeline(steps=[(&#x27;ordinal&#x27;,\n",
       "                                                                   OrdinalEncoder(cols=[&#x27;Options&#x27;],\n",
       "                                                                                  mapping=[{&#x27;col&#x27;: &#x27;Options&#x27;,\n",
       "                                                                                            &#x27;data_type&#x27;: dtype(&#x27;O&#x27;),\n",
       "                                                                                            &#x27;mapping&#x27;: Standard     0\n",
       "Semi Full    1\n",
       "Full         2\n",
       "dtype: int64}])),\n",
       "                                                                  (&#x27;scaler&#x27;,\n",
       "                                                                   RobustScaler())]),\n",
       "                                                  [&#x27;Options&#x27;]),\n",
       "                                                 (&#x27;onehot&#x27;,\n",
       "                                                  OneHotEncoder(drop=&#x27;first&#x27;),\n",
       "                                                  [&#x27;Origin&#x27;, &#x27;Gear_Type&#x27;,\n",
       "                                                   &#x27;Options&#x27;]),\n",
       "                                                 (&#x27;binary&#x27;, BinaryEncoder(),\n",
       "                                                  [&#x27;Type&#x27;, &#x27;Region&#x27;,\n",
       "                                                   &#x27;Make&#x27;])])),\n",
       "                (&#x27;model&#x27;,\n",
       "                 &lt;catboost.core.CatBoostRegressor object at 0x000002645341ECD0&gt;)])</pre></div></div></div><div class=\"sk-serial\"><div class=\"sk-item\"><div class=\"sk-serial\"><div class=\"sk-item sk-dashed-wrapped\"><div class=\"sk-label-container\"><div class=\"sk-label sk-toggleable\"><input class=\"sk-toggleable__control sk-hidden--visually\" id=\"sk-estimator-id-15\" type=\"checkbox\" ><label for=\"sk-estimator-id-15\" class=\"sk-toggleable__label sk-toggleable__label-arrow\">preprocessing: ColumnTransformer</label><div class=\"sk-toggleable__content\"><pre>ColumnTransformer(remainder=&#x27;passthrough&#x27;,\n",
       "                  transformers=[(&#x27;robust&#x27;, RobustScaler(), [&#x27;Year&#x27;, &#x27;Mileage&#x27;]),\n",
       "                                (&#x27;pipe_ordinal_scale&#x27;,\n",
       "                                 Pipeline(steps=[(&#x27;ordinal&#x27;,\n",
       "                                                  OrdinalEncoder(cols=[&#x27;Options&#x27;],\n",
       "                                                                 mapping=[{&#x27;col&#x27;: &#x27;Options&#x27;,\n",
       "                                                                           &#x27;data_type&#x27;: dtype(&#x27;O&#x27;),\n",
       "                                                                           &#x27;mapping&#x27;: Standard     0\n",
       "Semi Full    1\n",
       "Full         2\n",
       "dtype: int64}])),\n",
       "                                                 (&#x27;scaler&#x27;, RobustScaler())]),\n",
       "                                 [&#x27;Options&#x27;]),\n",
       "                                (&#x27;onehot&#x27;, OneHotEncoder(drop=&#x27;first&#x27;),\n",
       "                                 [&#x27;Origin&#x27;, &#x27;Gear_Type&#x27;, &#x27;Options&#x27;]),\n",
       "                                (&#x27;binary&#x27;, BinaryEncoder(),\n",
       "                                 [&#x27;Type&#x27;, &#x27;Region&#x27;, &#x27;Make&#x27;])])</pre></div></div></div><div class=\"sk-parallel\"><div class=\"sk-parallel-item\"><div class=\"sk-item\"><div class=\"sk-label-container\"><div class=\"sk-label sk-toggleable\"><input class=\"sk-toggleable__control sk-hidden--visually\" id=\"sk-estimator-id-16\" type=\"checkbox\" ><label for=\"sk-estimator-id-16\" class=\"sk-toggleable__label sk-toggleable__label-arrow\">robust</label><div class=\"sk-toggleable__content\"><pre>[&#x27;Year&#x27;, &#x27;Mileage&#x27;]</pre></div></div></div><div class=\"sk-serial\"><div class=\"sk-item\"><div class=\"sk-estimator sk-toggleable\"><input class=\"sk-toggleable__control sk-hidden--visually\" id=\"sk-estimator-id-17\" type=\"checkbox\" ><label for=\"sk-estimator-id-17\" class=\"sk-toggleable__label sk-toggleable__label-arrow\">RobustScaler</label><div class=\"sk-toggleable__content\"><pre>RobustScaler()</pre></div></div></div></div></div></div><div class=\"sk-parallel-item\"><div class=\"sk-item\"><div class=\"sk-label-container\"><div class=\"sk-label sk-toggleable\"><input class=\"sk-toggleable__control sk-hidden--visually\" id=\"sk-estimator-id-18\" type=\"checkbox\" ><label for=\"sk-estimator-id-18\" class=\"sk-toggleable__label sk-toggleable__label-arrow\">pipe_ordinal_scale</label><div class=\"sk-toggleable__content\"><pre>[&#x27;Options&#x27;]</pre></div></div></div><div class=\"sk-serial\"><div class=\"sk-item\"><div class=\"sk-serial\"><div class=\"sk-item\"><div class=\"sk-estimator sk-toggleable\"><input class=\"sk-toggleable__control sk-hidden--visually\" id=\"sk-estimator-id-19\" type=\"checkbox\" ><label for=\"sk-estimator-id-19\" class=\"sk-toggleable__label sk-toggleable__label-arrow\">OrdinalEncoder</label><div class=\"sk-toggleable__content\"><pre>OrdinalEncoder(cols=[&#x27;Options&#x27;],\n",
       "               mapping=[{&#x27;col&#x27;: &#x27;Options&#x27;, &#x27;data_type&#x27;: dtype(&#x27;O&#x27;),\n",
       "                         &#x27;mapping&#x27;: Standard     0\n",
       "Semi Full    1\n",
       "Full         2\n",
       "dtype: int64}])</pre></div></div></div><div class=\"sk-item\"><div class=\"sk-estimator sk-toggleable\"><input class=\"sk-toggleable__control sk-hidden--visually\" id=\"sk-estimator-id-20\" type=\"checkbox\" ><label for=\"sk-estimator-id-20\" class=\"sk-toggleable__label sk-toggleable__label-arrow\">RobustScaler</label><div class=\"sk-toggleable__content\"><pre>RobustScaler()</pre></div></div></div></div></div></div></div></div><div class=\"sk-parallel-item\"><div class=\"sk-item\"><div class=\"sk-label-container\"><div class=\"sk-label sk-toggleable\"><input class=\"sk-toggleable__control sk-hidden--visually\" id=\"sk-estimator-id-21\" type=\"checkbox\" ><label for=\"sk-estimator-id-21\" class=\"sk-toggleable__label sk-toggleable__label-arrow\">onehot</label><div class=\"sk-toggleable__content\"><pre>[&#x27;Origin&#x27;, &#x27;Gear_Type&#x27;, &#x27;Options&#x27;]</pre></div></div></div><div class=\"sk-serial\"><div class=\"sk-item\"><div class=\"sk-estimator sk-toggleable\"><input class=\"sk-toggleable__control sk-hidden--visually\" id=\"sk-estimator-id-22\" type=\"checkbox\" ><label for=\"sk-estimator-id-22\" class=\"sk-toggleable__label sk-toggleable__label-arrow\">OneHotEncoder</label><div class=\"sk-toggleable__content\"><pre>OneHotEncoder(drop=&#x27;first&#x27;)</pre></div></div></div></div></div></div><div class=\"sk-parallel-item\"><div class=\"sk-item\"><div class=\"sk-label-container\"><div class=\"sk-label sk-toggleable\"><input class=\"sk-toggleable__control sk-hidden--visually\" id=\"sk-estimator-id-23\" type=\"checkbox\" ><label for=\"sk-estimator-id-23\" class=\"sk-toggleable__label sk-toggleable__label-arrow\">binary</label><div class=\"sk-toggleable__content\"><pre>[&#x27;Type&#x27;, &#x27;Region&#x27;, &#x27;Make&#x27;]</pre></div></div></div><div class=\"sk-serial\"><div class=\"sk-item\"><div class=\"sk-estimator sk-toggleable\"><input class=\"sk-toggleable__control sk-hidden--visually\" id=\"sk-estimator-id-24\" type=\"checkbox\" ><label for=\"sk-estimator-id-24\" class=\"sk-toggleable__label sk-toggleable__label-arrow\">BinaryEncoder</label><div class=\"sk-toggleable__content\"><pre>BinaryEncoder()</pre></div></div></div></div></div></div><div class=\"sk-parallel-item\"><div class=\"sk-item\"><div class=\"sk-label-container\"><div class=\"sk-label sk-toggleable\"><input class=\"sk-toggleable__control sk-hidden--visually\" id=\"sk-estimator-id-25\" type=\"checkbox\" ><label for=\"sk-estimator-id-25\" class=\"sk-toggleable__label sk-toggleable__label-arrow\">remainder</label><div class=\"sk-toggleable__content\"><pre>[&#x27;Engine_Size&#x27;]</pre></div></div></div><div class=\"sk-serial\"><div class=\"sk-item\"><div class=\"sk-estimator sk-toggleable\"><input class=\"sk-toggleable__control sk-hidden--visually\" id=\"sk-estimator-id-26\" type=\"checkbox\" ><label for=\"sk-estimator-id-26\" class=\"sk-toggleable__label sk-toggleable__label-arrow\">passthrough</label><div class=\"sk-toggleable__content\"><pre>passthrough</pre></div></div></div></div></div></div></div></div><div class=\"sk-item\"><div class=\"sk-estimator sk-toggleable\"><input class=\"sk-toggleable__control sk-hidden--visually\" id=\"sk-estimator-id-27\" type=\"checkbox\" ><label for=\"sk-estimator-id-27\" class=\"sk-toggleable__label sk-toggleable__label-arrow\">CatBoostRegressor</label><div class=\"sk-toggleable__content\"><pre>&lt;catboost.core.CatBoostRegressor object at 0x000002645341ECD0&gt;</pre></div></div></div></div></div></div></div></div></div></div></div></div>"
      ],
      "text/plain": [
       "GridSearchCV(cv=KFold(n_splits=5, random_state=None, shuffle=False),\n",
       "             estimator=Pipeline(steps=[('preprocessing',\n",
       "                                        ColumnTransformer(remainder='passthrough',\n",
       "                                                          transformers=[('robust',\n",
       "                                                                         RobustScaler(),\n",
       "                                                                         ['Year',\n",
       "                                                                          'Mileage']),\n",
       "                                                                        ('pipe_ordinal_scale',\n",
       "                                                                         Pipeline(steps=[('ordinal',\n",
       "                                                                                          OrdinalEncoder(cols=['Options'],\n",
       "                                                                                                         mapping=[{'col': 'Options',\n",
       "                                                                                                                   'data_type': dtype('O'),\n",
       "                                                                                                                   'mapping':...\n",
       "                                                                          'Make'])])),\n",
       "                                       ('model',\n",
       "                                        <catboost.core.CatBoostRegressor object at 0x000002645341ECD0>)]),\n",
       "             n_jobs=-1,\n",
       "             param_grid={'model__depth': [8], 'model__iterations': [275],\n",
       "                         'model__l2_leaf_reg': [5],\n",
       "                         'model__learning_rate': [0.1]},\n",
       "             refit='neg_mean_absolute_percentage_error',\n",
       "             scoring=['neg_root_mean_squared_error', 'neg_mean_absolute_error',\n",
       "                      'neg_mean_absolute_percentage_error'])"
      ]
     },
     "execution_count": 47,
     "metadata": {},
     "output_type": "execute_result"
    }
   ],
   "source": [
    "# Fitting data training untuk mencari parameter terbaik\n",
    "grid_cat.fit(X_train, y_train)"
   ]
  },
  {
   "cell_type": "code",
   "execution_count": 48,
   "metadata": {},
   "outputs": [
    {
     "data": {
      "text/plain": [
       "{'model__depth': 8,\n",
       " 'model__iterations': 275,\n",
       " 'model__l2_leaf_reg': 5,\n",
       " 'model__learning_rate': 0.1}"
      ]
     },
     "execution_count": 48,
     "metadata": {},
     "output_type": "execute_result"
    }
   ],
   "source": [
    "grid_cat.best_params_\n"
   ]
  },
  {
   "attachments": {},
   "cell_type": "markdown",
   "metadata": {},
   "source": [
    "The hyperparameters mentioned above are utilized to train an CatBoost model on a specific dataset. The model's performance can then be assessed using an appropriate evaluation metric to gauge its effectiveness in predicting outcomes on unseen data."
   ]
  },
  {
   "attachments": {},
   "cell_type": "markdown",
   "metadata": {},
   "source": [
    "### Predict to Test Set With Tuned Model\n",
    "\n",
    "Predicting on the test set using the Category Boost model with the chosen hyperparameters allows us to evaluate the model's performance on unseen data. By applying the tuned hyperparameters, we aim to improve the model's predictive accuracy and generalization capabilities. This step is crucial to assess how well the model performs in real-world scenarios and validate its effectiveness in making accurate predictions on new, unseen instances."
   ]
  },
  {
   "cell_type": "code",
   "execution_count": 49,
   "metadata": {},
   "outputs": [],
   "source": [
    "# cat_boost_tuning = grid_cat.best_estimator_  # Get the best estimator from GridSearchCV\n",
    "# cat_boost_tuning.fit(X_train, y_train)  # Fit the model on the training data\n",
    "\n",
    "# y_pred_cat_boost_tuning = cat_boost_tuning.predict(X_test)  # Make predictions on the test data\n",
    "\n",
    "# mae_cat_boost_tuning = mean_absolute_error(y_test, y_pred_cat_boost_tuning)\n",
    "# mape_cat_boost_tuning = mean_absolute_percentage_error(y_test, y_pred_cat_boost_tuning)\n",
    "# rmse_cat_boost_tuning = mean_squared_error(y_test, y_pred_cat_boost_tuning, squared=False)\n",
    "\n",
    "# score_rmse_test.append(mean_squared_error(y_test, y_pred, squared=False))\n",
    "\n",
    "# score_after_tuning = pd.DataFrame({'MAE': mae_cat_boost_tuning,\n",
    "#                                    'MAPE': mape_cat_boost_tuning,\n",
    "#                                    'RMSE': rmse_cat_boost_tuning},\n",
    "#                                   index=[\"Category Boost Tuning\"])"
   ]
  },
  {
   "cell_type": "code",
   "execution_count": 50,
   "metadata": {},
   "outputs": [],
   "source": [
    "cat_boost_tuning = TransformedTargetRegressor(grid_cat.best_estimator_, func=np.log, inverse_func = np.exp)\n",
    "\n",
    "cat_boost_tuning.fit(X_train, y_train)\n",
    "\n",
    "y_pred_cat_boost_tuning = cat_boost_tuning.predict(X_test)\n",
    "\n",
    "mae_cat_boost_tuning = mean_absolute_error(y_test, y_pred_cat_boost_tuning)\n",
    "mape_cat_boost_tuning = mean_absolute_percentage_error(y_test, y_pred_cat_boost_tuning)\n",
    "rmse_cat_boost_tuning = mean_squared_error(y_test, y_pred_cat_boost_tuning, squared = False)\n",
    "\n",
    "score_rmse_test.append(mean_squared_error(y_test, y_pred, squared = False))\n",
    "\n",
    "\n",
    "score_after_tuning = pd.DataFrame({'MAE': mae_cat_boost_tuning,\n",
    "                                   'MAPE': mape_cat_boost_tuning,\n",
    "                                   'RMSE': rmse_cat_boost_tuning},\n",
    "                                   index = [\"Category Boost Tuning\"])"
   ]
  },
  {
   "cell_type": "code",
   "execution_count": 51,
   "metadata": {},
   "outputs": [
    {
     "data": {
      "text/html": [
       "<style>#sk-container-id-3 {color: black;background-color: white;}#sk-container-id-3 pre{padding: 0;}#sk-container-id-3 div.sk-toggleable {background-color: white;}#sk-container-id-3 label.sk-toggleable__label {cursor: pointer;display: block;width: 100%;margin-bottom: 0;padding: 0.3em;box-sizing: border-box;text-align: center;}#sk-container-id-3 label.sk-toggleable__label-arrow:before {content: \"▸\";float: left;margin-right: 0.25em;color: #696969;}#sk-container-id-3 label.sk-toggleable__label-arrow:hover:before {color: black;}#sk-container-id-3 div.sk-estimator:hover label.sk-toggleable__label-arrow:before {color: black;}#sk-container-id-3 div.sk-toggleable__content {max-height: 0;max-width: 0;overflow: hidden;text-align: left;background-color: #f0f8ff;}#sk-container-id-3 div.sk-toggleable__content pre {margin: 0.2em;color: black;border-radius: 0.25em;background-color: #f0f8ff;}#sk-container-id-3 input.sk-toggleable__control:checked~div.sk-toggleable__content {max-height: 200px;max-width: 100%;overflow: auto;}#sk-container-id-3 input.sk-toggleable__control:checked~label.sk-toggleable__label-arrow:before {content: \"▾\";}#sk-container-id-3 div.sk-estimator input.sk-toggleable__control:checked~label.sk-toggleable__label {background-color: #d4ebff;}#sk-container-id-3 div.sk-label input.sk-toggleable__control:checked~label.sk-toggleable__label {background-color: #d4ebff;}#sk-container-id-3 input.sk-hidden--visually {border: 0;clip: rect(1px 1px 1px 1px);clip: rect(1px, 1px, 1px, 1px);height: 1px;margin: -1px;overflow: hidden;padding: 0;position: absolute;width: 1px;}#sk-container-id-3 div.sk-estimator {font-family: monospace;background-color: #f0f8ff;border: 1px dotted black;border-radius: 0.25em;box-sizing: border-box;margin-bottom: 0.5em;}#sk-container-id-3 div.sk-estimator:hover {background-color: #d4ebff;}#sk-container-id-3 div.sk-parallel-item::after {content: \"\";width: 100%;border-bottom: 1px solid gray;flex-grow: 1;}#sk-container-id-3 div.sk-label:hover label.sk-toggleable__label {background-color: #d4ebff;}#sk-container-id-3 div.sk-serial::before {content: \"\";position: absolute;border-left: 1px solid gray;box-sizing: border-box;top: 0;bottom: 0;left: 50%;z-index: 0;}#sk-container-id-3 div.sk-serial {display: flex;flex-direction: column;align-items: center;background-color: white;padding-right: 0.2em;padding-left: 0.2em;position: relative;}#sk-container-id-3 div.sk-item {position: relative;z-index: 1;}#sk-container-id-3 div.sk-parallel {display: flex;align-items: stretch;justify-content: center;background-color: white;position: relative;}#sk-container-id-3 div.sk-item::before, #sk-container-id-3 div.sk-parallel-item::before {content: \"\";position: absolute;border-left: 1px solid gray;box-sizing: border-box;top: 0;bottom: 0;left: 50%;z-index: -1;}#sk-container-id-3 div.sk-parallel-item {display: flex;flex-direction: column;z-index: 1;position: relative;background-color: white;}#sk-container-id-3 div.sk-parallel-item:first-child::after {align-self: flex-end;width: 50%;}#sk-container-id-3 div.sk-parallel-item:last-child::after {align-self: flex-start;width: 50%;}#sk-container-id-3 div.sk-parallel-item:only-child::after {width: 0;}#sk-container-id-3 div.sk-dashed-wrapped {border: 1px dashed gray;margin: 0 0.4em 0.5em 0.4em;box-sizing: border-box;padding-bottom: 0.4em;background-color: white;}#sk-container-id-3 div.sk-label label {font-family: monospace;font-weight: bold;display: inline-block;line-height: 1.2em;}#sk-container-id-3 div.sk-label-container {text-align: center;}#sk-container-id-3 div.sk-container {/* jupyter's `normalize.less` sets `[hidden] { display: none; }` but bootstrap.min.css set `[hidden] { display: none !important; }` so we also need the `!important` here to be able to override the default hidden behavior on the sphinx rendered scikit-learn.org. See: https://github.com/scikit-learn/scikit-learn/issues/21755 */display: inline-block !important;position: relative;}#sk-container-id-3 div.sk-text-repr-fallback {display: none;}</style><div id=\"sk-container-id-3\" class=\"sk-top-container\"><div class=\"sk-text-repr-fallback\"><pre>TransformedTargetRegressor(func=&lt;ufunc &#x27;log&#x27;&gt;, inverse_func=&lt;ufunc &#x27;exp&#x27;&gt;,\n",
       "                           regressor=Pipeline(steps=[(&#x27;preprocessing&#x27;,\n",
       "                                                      ColumnTransformer(remainder=&#x27;passthrough&#x27;,\n",
       "                                                                        transformers=[(&#x27;robust&#x27;,\n",
       "                                                                                       RobustScaler(),\n",
       "                                                                                       [&#x27;Year&#x27;,\n",
       "                                                                                        &#x27;Mileage&#x27;]),\n",
       "                                                                                      (&#x27;pipe_ordinal_scale&#x27;,\n",
       "                                                                                       Pipeline(steps=[(&#x27;ordinal&#x27;,\n",
       "                                                                                                        OrdinalEncoder(cols=[&#x27;Options&#x27;],\n",
       "                                                                                                                       mapping=[{&#x27;col&#x27;: &#x27;Options&#x27;,\n",
       "                                                                                                                                 &#x27;data_type&#x27;: dtype(&#x27;O&#x27;),\n",
       "                                                                                                                                 &#x27;mapping&#x27;: Standard     0\n",
       "Semi Full    1\n",
       "Full         2\n",
       "dtype: int64}])),\n",
       "                                                                                                       (&#x27;scaler&#x27;,\n",
       "                                                                                                        RobustScaler())]),\n",
       "                                                                                       [&#x27;Options&#x27;]),\n",
       "                                                                                      (&#x27;onehot&#x27;,\n",
       "                                                                                       OneHotEncoder(drop=&#x27;first&#x27;),\n",
       "                                                                                       [&#x27;Origin&#x27;,\n",
       "                                                                                        &#x27;Gear_Type&#x27;,\n",
       "                                                                                        &#x27;Options&#x27;]),\n",
       "                                                                                      (&#x27;binary&#x27;,\n",
       "                                                                                       BinaryEncoder(),\n",
       "                                                                                       [&#x27;Type&#x27;,\n",
       "                                                                                        &#x27;Region&#x27;,\n",
       "                                                                                        &#x27;Make&#x27;])])),\n",
       "                                                     (&#x27;model&#x27;,\n",
       "                                                      &lt;catboost.core.CatBoostRegressor object at 0x000002645341C510&gt;)]))</pre><b>In a Jupyter environment, please rerun this cell to show the HTML representation or trust the notebook. <br />On GitHub, the HTML representation is unable to render, please try loading this page with nbviewer.org.</b></div><div class=\"sk-container\" hidden><div class=\"sk-item sk-dashed-wrapped\"><div class=\"sk-label-container\"><div class=\"sk-label sk-toggleable\"><input class=\"sk-toggleable__control sk-hidden--visually\" id=\"sk-estimator-id-28\" type=\"checkbox\" ><label for=\"sk-estimator-id-28\" class=\"sk-toggleable__label sk-toggleable__label-arrow\">TransformedTargetRegressor</label><div class=\"sk-toggleable__content\"><pre>TransformedTargetRegressor(func=&lt;ufunc &#x27;log&#x27;&gt;, inverse_func=&lt;ufunc &#x27;exp&#x27;&gt;,\n",
       "                           regressor=Pipeline(steps=[(&#x27;preprocessing&#x27;,\n",
       "                                                      ColumnTransformer(remainder=&#x27;passthrough&#x27;,\n",
       "                                                                        transformers=[(&#x27;robust&#x27;,\n",
       "                                                                                       RobustScaler(),\n",
       "                                                                                       [&#x27;Year&#x27;,\n",
       "                                                                                        &#x27;Mileage&#x27;]),\n",
       "                                                                                      (&#x27;pipe_ordinal_scale&#x27;,\n",
       "                                                                                       Pipeline(steps=[(&#x27;ordinal&#x27;,\n",
       "                                                                                                        OrdinalEncoder(cols=[&#x27;Options&#x27;],\n",
       "                                                                                                                       mapping=[{&#x27;col&#x27;: &#x27;Options&#x27;,\n",
       "                                                                                                                                 &#x27;data_type&#x27;: dtype(&#x27;O&#x27;),\n",
       "                                                                                                                                 &#x27;mapping&#x27;: Standard     0\n",
       "Semi Full    1\n",
       "Full         2\n",
       "dtype: int64}])),\n",
       "                                                                                                       (&#x27;scaler&#x27;,\n",
       "                                                                                                        RobustScaler())]),\n",
       "                                                                                       [&#x27;Options&#x27;]),\n",
       "                                                                                      (&#x27;onehot&#x27;,\n",
       "                                                                                       OneHotEncoder(drop=&#x27;first&#x27;),\n",
       "                                                                                       [&#x27;Origin&#x27;,\n",
       "                                                                                        &#x27;Gear_Type&#x27;,\n",
       "                                                                                        &#x27;Options&#x27;]),\n",
       "                                                                                      (&#x27;binary&#x27;,\n",
       "                                                                                       BinaryEncoder(),\n",
       "                                                                                       [&#x27;Type&#x27;,\n",
       "                                                                                        &#x27;Region&#x27;,\n",
       "                                                                                        &#x27;Make&#x27;])])),\n",
       "                                                     (&#x27;model&#x27;,\n",
       "                                                      &lt;catboost.core.CatBoostRegressor object at 0x000002645341C510&gt;)]))</pre></div></div></div><div class=\"sk-parallel\"><div class=\"sk-parallel-item\"><div class=\"sk-item\"><div class=\"sk-label-container\"><div class=\"sk-label sk-toggleable\"><input class=\"sk-toggleable__control sk-hidden--visually\" id=\"sk-estimator-id-29\" type=\"checkbox\" ><label for=\"sk-estimator-id-29\" class=\"sk-toggleable__label sk-toggleable__label-arrow\">regressor: Pipeline</label><div class=\"sk-toggleable__content\"><pre>Pipeline(steps=[(&#x27;preprocessing&#x27;,\n",
       "                 ColumnTransformer(remainder=&#x27;passthrough&#x27;,\n",
       "                                   transformers=[(&#x27;robust&#x27;, RobustScaler(),\n",
       "                                                  [&#x27;Year&#x27;, &#x27;Mileage&#x27;]),\n",
       "                                                 (&#x27;pipe_ordinal_scale&#x27;,\n",
       "                                                  Pipeline(steps=[(&#x27;ordinal&#x27;,\n",
       "                                                                   OrdinalEncoder(cols=[&#x27;Options&#x27;],\n",
       "                                                                                  mapping=[{&#x27;col&#x27;: &#x27;Options&#x27;,\n",
       "                                                                                            &#x27;data_type&#x27;: dtype(&#x27;O&#x27;),\n",
       "                                                                                            &#x27;mapping&#x27;: Standard     0\n",
       "Semi Full    1\n",
       "Full         2\n",
       "dtype: int64}])),\n",
       "                                                                  (&#x27;scaler&#x27;,\n",
       "                                                                   RobustScaler())]),\n",
       "                                                  [&#x27;Options&#x27;]),\n",
       "                                                 (&#x27;onehot&#x27;,\n",
       "                                                  OneHotEncoder(drop=&#x27;first&#x27;),\n",
       "                                                  [&#x27;Origin&#x27;, &#x27;Gear_Type&#x27;,\n",
       "                                                   &#x27;Options&#x27;]),\n",
       "                                                 (&#x27;binary&#x27;, BinaryEncoder(),\n",
       "                                                  [&#x27;Type&#x27;, &#x27;Region&#x27;,\n",
       "                                                   &#x27;Make&#x27;])])),\n",
       "                (&#x27;model&#x27;,\n",
       "                 &lt;catboost.core.CatBoostRegressor object at 0x000002645341C510&gt;)])</pre></div></div></div><div class=\"sk-serial\"><div class=\"sk-item\"><div class=\"sk-serial\"><div class=\"sk-item sk-dashed-wrapped\"><div class=\"sk-label-container\"><div class=\"sk-label sk-toggleable\"><input class=\"sk-toggleable__control sk-hidden--visually\" id=\"sk-estimator-id-30\" type=\"checkbox\" ><label for=\"sk-estimator-id-30\" class=\"sk-toggleable__label sk-toggleable__label-arrow\">preprocessing: ColumnTransformer</label><div class=\"sk-toggleable__content\"><pre>ColumnTransformer(remainder=&#x27;passthrough&#x27;,\n",
       "                  transformers=[(&#x27;robust&#x27;, RobustScaler(), [&#x27;Year&#x27;, &#x27;Mileage&#x27;]),\n",
       "                                (&#x27;pipe_ordinal_scale&#x27;,\n",
       "                                 Pipeline(steps=[(&#x27;ordinal&#x27;,\n",
       "                                                  OrdinalEncoder(cols=[&#x27;Options&#x27;],\n",
       "                                                                 mapping=[{&#x27;col&#x27;: &#x27;Options&#x27;,\n",
       "                                                                           &#x27;data_type&#x27;: dtype(&#x27;O&#x27;),\n",
       "                                                                           &#x27;mapping&#x27;: Standard     0\n",
       "Semi Full    1\n",
       "Full         2\n",
       "dtype: int64}])),\n",
       "                                                 (&#x27;scaler&#x27;, RobustScaler())]),\n",
       "                                 [&#x27;Options&#x27;]),\n",
       "                                (&#x27;onehot&#x27;, OneHotEncoder(drop=&#x27;first&#x27;),\n",
       "                                 [&#x27;Origin&#x27;, &#x27;Gear_Type&#x27;, &#x27;Options&#x27;]),\n",
       "                                (&#x27;binary&#x27;, BinaryEncoder(),\n",
       "                                 [&#x27;Type&#x27;, &#x27;Region&#x27;, &#x27;Make&#x27;])])</pre></div></div></div><div class=\"sk-parallel\"><div class=\"sk-parallel-item\"><div class=\"sk-item\"><div class=\"sk-label-container\"><div class=\"sk-label sk-toggleable\"><input class=\"sk-toggleable__control sk-hidden--visually\" id=\"sk-estimator-id-31\" type=\"checkbox\" ><label for=\"sk-estimator-id-31\" class=\"sk-toggleable__label sk-toggleable__label-arrow\">robust</label><div class=\"sk-toggleable__content\"><pre>[&#x27;Year&#x27;, &#x27;Mileage&#x27;]</pre></div></div></div><div class=\"sk-serial\"><div class=\"sk-item\"><div class=\"sk-estimator sk-toggleable\"><input class=\"sk-toggleable__control sk-hidden--visually\" id=\"sk-estimator-id-32\" type=\"checkbox\" ><label for=\"sk-estimator-id-32\" class=\"sk-toggleable__label sk-toggleable__label-arrow\">RobustScaler</label><div class=\"sk-toggleable__content\"><pre>RobustScaler()</pre></div></div></div></div></div></div><div class=\"sk-parallel-item\"><div class=\"sk-item\"><div class=\"sk-label-container\"><div class=\"sk-label sk-toggleable\"><input class=\"sk-toggleable__control sk-hidden--visually\" id=\"sk-estimator-id-33\" type=\"checkbox\" ><label for=\"sk-estimator-id-33\" class=\"sk-toggleable__label sk-toggleable__label-arrow\">pipe_ordinal_scale</label><div class=\"sk-toggleable__content\"><pre>[&#x27;Options&#x27;]</pre></div></div></div><div class=\"sk-serial\"><div class=\"sk-item\"><div class=\"sk-serial\"><div class=\"sk-item\"><div class=\"sk-estimator sk-toggleable\"><input class=\"sk-toggleable__control sk-hidden--visually\" id=\"sk-estimator-id-34\" type=\"checkbox\" ><label for=\"sk-estimator-id-34\" class=\"sk-toggleable__label sk-toggleable__label-arrow\">OrdinalEncoder</label><div class=\"sk-toggleable__content\"><pre>OrdinalEncoder(cols=[&#x27;Options&#x27;],\n",
       "               mapping=[{&#x27;col&#x27;: &#x27;Options&#x27;, &#x27;data_type&#x27;: dtype(&#x27;O&#x27;),\n",
       "                         &#x27;mapping&#x27;: Standard     0\n",
       "Semi Full    1\n",
       "Full         2\n",
       "dtype: int64}])</pre></div></div></div><div class=\"sk-item\"><div class=\"sk-estimator sk-toggleable\"><input class=\"sk-toggleable__control sk-hidden--visually\" id=\"sk-estimator-id-35\" type=\"checkbox\" ><label for=\"sk-estimator-id-35\" class=\"sk-toggleable__label sk-toggleable__label-arrow\">RobustScaler</label><div class=\"sk-toggleable__content\"><pre>RobustScaler()</pre></div></div></div></div></div></div></div></div><div class=\"sk-parallel-item\"><div class=\"sk-item\"><div class=\"sk-label-container\"><div class=\"sk-label sk-toggleable\"><input class=\"sk-toggleable__control sk-hidden--visually\" id=\"sk-estimator-id-36\" type=\"checkbox\" ><label for=\"sk-estimator-id-36\" class=\"sk-toggleable__label sk-toggleable__label-arrow\">onehot</label><div class=\"sk-toggleable__content\"><pre>[&#x27;Origin&#x27;, &#x27;Gear_Type&#x27;, &#x27;Options&#x27;]</pre></div></div></div><div class=\"sk-serial\"><div class=\"sk-item\"><div class=\"sk-estimator sk-toggleable\"><input class=\"sk-toggleable__control sk-hidden--visually\" id=\"sk-estimator-id-37\" type=\"checkbox\" ><label for=\"sk-estimator-id-37\" class=\"sk-toggleable__label sk-toggleable__label-arrow\">OneHotEncoder</label><div class=\"sk-toggleable__content\"><pre>OneHotEncoder(drop=&#x27;first&#x27;)</pre></div></div></div></div></div></div><div class=\"sk-parallel-item\"><div class=\"sk-item\"><div class=\"sk-label-container\"><div class=\"sk-label sk-toggleable\"><input class=\"sk-toggleable__control sk-hidden--visually\" id=\"sk-estimator-id-38\" type=\"checkbox\" ><label for=\"sk-estimator-id-38\" class=\"sk-toggleable__label sk-toggleable__label-arrow\">binary</label><div class=\"sk-toggleable__content\"><pre>[&#x27;Type&#x27;, &#x27;Region&#x27;, &#x27;Make&#x27;]</pre></div></div></div><div class=\"sk-serial\"><div class=\"sk-item\"><div class=\"sk-estimator sk-toggleable\"><input class=\"sk-toggleable__control sk-hidden--visually\" id=\"sk-estimator-id-39\" type=\"checkbox\" ><label for=\"sk-estimator-id-39\" class=\"sk-toggleable__label sk-toggleable__label-arrow\">BinaryEncoder</label><div class=\"sk-toggleable__content\"><pre>BinaryEncoder()</pre></div></div></div></div></div></div><div class=\"sk-parallel-item\"><div class=\"sk-item\"><div class=\"sk-label-container\"><div class=\"sk-label sk-toggleable\"><input class=\"sk-toggleable__control sk-hidden--visually\" id=\"sk-estimator-id-40\" type=\"checkbox\" ><label for=\"sk-estimator-id-40\" class=\"sk-toggleable__label sk-toggleable__label-arrow\">remainder</label><div class=\"sk-toggleable__content\"><pre>[&#x27;Engine_Size&#x27;]</pre></div></div></div><div class=\"sk-serial\"><div class=\"sk-item\"><div class=\"sk-estimator sk-toggleable\"><input class=\"sk-toggleable__control sk-hidden--visually\" id=\"sk-estimator-id-41\" type=\"checkbox\" ><label for=\"sk-estimator-id-41\" class=\"sk-toggleable__label sk-toggleable__label-arrow\">passthrough</label><div class=\"sk-toggleable__content\"><pre>passthrough</pre></div></div></div></div></div></div></div></div><div class=\"sk-item\"><div class=\"sk-estimator sk-toggleable\"><input class=\"sk-toggleable__control sk-hidden--visually\" id=\"sk-estimator-id-42\" type=\"checkbox\" ><label for=\"sk-estimator-id-42\" class=\"sk-toggleable__label sk-toggleable__label-arrow\">CatBoostRegressor</label><div class=\"sk-toggleable__content\"><pre>&lt;catboost.core.CatBoostRegressor object at 0x000002645341C510&gt;</pre></div></div></div></div></div></div></div></div></div></div></div></div>"
      ],
      "text/plain": [
       "TransformedTargetRegressor(func=<ufunc 'log'>, inverse_func=<ufunc 'exp'>,\n",
       "                           regressor=Pipeline(steps=[('preprocessing',\n",
       "                                                      ColumnTransformer(remainder='passthrough',\n",
       "                                                                        transformers=[('robust',\n",
       "                                                                                       RobustScaler(),\n",
       "                                                                                       ['Year',\n",
       "                                                                                        'Mileage']),\n",
       "                                                                                      ('pipe_ordinal_scale',\n",
       "                                                                                       Pipeline(steps=[('ordinal',\n",
       "                                                                                                        OrdinalEncoder(cols=['Options'],\n",
       "                                                                                                                       mapping=[{'col': 'Options',\n",
       "                                                                                                                                 'data_type': dtype('O'),\n",
       "                                                                                                                                 'mapping': Standard     0\n",
       "Semi Full    1\n",
       "Full         2\n",
       "dtype: int64}])),\n",
       "                                                                                                       ('scaler',\n",
       "                                                                                                        RobustScaler())]),\n",
       "                                                                                       ['Options']),\n",
       "                                                                                      ('onehot',\n",
       "                                                                                       OneHotEncoder(drop='first'),\n",
       "                                                                                       ['Origin',\n",
       "                                                                                        'Gear_Type',\n",
       "                                                                                        'Options']),\n",
       "                                                                                      ('binary',\n",
       "                                                                                       BinaryEncoder(),\n",
       "                                                                                       ['Type',\n",
       "                                                                                        'Region',\n",
       "                                                                                        'Make'])])),\n",
       "                                                     ('model',\n",
       "                                                      <catboost.core.CatBoostRegressor object at 0x000002645341C510>)]))"
      ]
     },
     "execution_count": 51,
     "metadata": {},
     "output_type": "execute_result"
    }
   ],
   "source": [
    "cat_boost_tuning"
   ]
  },
  {
   "attachments": {},
   "cell_type": "markdown",
   "metadata": {},
   "source": [
    "Here is a comparison of the test scores of the model before tuning and after tuning."
   ]
  },
  {
   "cell_type": "code",
   "execution_count": 52,
   "metadata": {},
   "outputs": [
    {
     "data": {
      "text/html": [
       "<div>\n",
       "<style scoped>\n",
       "    .dataframe tbody tr th:only-of-type {\n",
       "        vertical-align: middle;\n",
       "    }\n",
       "\n",
       "    .dataframe tbody tr th {\n",
       "        vertical-align: top;\n",
       "    }\n",
       "\n",
       "    .dataframe thead th {\n",
       "        text-align: right;\n",
       "    }\n",
       "</style>\n",
       "<table border=\"1\" class=\"dataframe\">\n",
       "  <thead>\n",
       "    <tr style=\"text-align: right;\">\n",
       "      <th></th>\n",
       "      <th>MAE</th>\n",
       "      <th>MAPE</th>\n",
       "      <th>RMSE</th>\n",
       "    </tr>\n",
       "  </thead>\n",
       "  <tbody>\n",
       "    <tr>\n",
       "      <th>CatBoost Before Tuning</th>\n",
       "      <td>12115.684046</td>\n",
       "      <td>0.177685</td>\n",
       "      <td>22601.086866</td>\n",
       "    </tr>\n",
       "    <tr>\n",
       "      <th>CatBoost After Tuning</th>\n",
       "      <td>12087.394571</td>\n",
       "      <td>0.181434</td>\n",
       "      <td>21789.096985</td>\n",
       "    </tr>\n",
       "  </tbody>\n",
       "</table>\n",
       "</div>"
      ],
      "text/plain": [
       "                                 MAE      MAPE          RMSE\n",
       "CatBoost Before Tuning  12115.684046  0.177685  22601.086866\n",
       "CatBoost After Tuning   12087.394571  0.181434  21789.096985"
      ]
     },
     "execution_count": 52,
     "metadata": {},
     "output_type": "execute_result"
    }
   ],
   "source": [
    "score_before_tuning.rename(index={'Category Boost Test': 'CatBoost Before Tuning'}, inplace=True)\n",
    "score_after_tuning.rename(index={'Category Boost Tuning': 'CatBoost After Tuning'}, inplace=True)\n",
    "comparison_scores = pd.concat([score_before_tuning, score_after_tuning])\n",
    "comparison_scores"
   ]
  },
  {
   "attachments": {},
   "cell_type": "markdown",
   "metadata": {},
   "source": [
    "From the comparison of the MAE, MAPE, and RMSE scores before and after tuning the CatBoost model, we can observe the following:\n",
    "\n",
    "1. MAE: The CatBoost model before tuning achieved an MAE score of 11,847.88, while after tuning, the MAE slightly increased to 11,985.97. This indicates that the tuned model performs slightly worse in terms of average absolute error, as a higher MAE value indicates larger errors between the predicted and actual values.\n",
    "\n",
    "2. MAPE: The CatBoost model before tuning achieved an MAPE score of 0.1741 (17.41%), while after tuning, the MAPE increased to 0.1789 (17.89%). Similar to the MAE, the increase in MAPE indicates that the tuned model has a slightly higher percentage of error in predicting the used car prices.\n",
    "\n",
    "3. RMSE: The CatBoost model before tuning achieved an RMSE score of 22,177.53, and after tuning, the RMSE slightly decreased to 22,165.56. Although the decrease is small, it indicates a slight improvement in the tuned model's ability to accurately predict the used car prices with lower root mean square error.\n",
    "\n",
    "Overall, the tuning of the CatBoost model resulted in a slight trade-off between different evaluation metrics. While the MAE and MAPE showed a slight increase after tuning, the RMSE showed a slight decrease.(regression scoring matrix, the smaller the better)"
   ]
  },
  {
   "cell_type": "code",
   "execution_count": 53,
   "metadata": {},
   "outputs": [
    {
     "data": {
      "image/png": "[encoded data removed]",
      "text/plain": [
       "<Figure size 1400x1000 with 2 Axes>"
      ]
     },
     "metadata": {},
     "output_type": "display_data"
    }
   ],
   "source": [
    "import matplotlib.pyplot as plt\n",
    "import matplotlib.font_manager as font_manager\n",
    "\n",
    "# Create a figure with two subplots\n",
    "fig, (ax1, ax2) = plt.subplots(2, 1, figsize=(14, 10))\n",
    "\n",
    "# Plot actual vs predicted price\n",
    "ax1.scatter(y_test, y_pred_cat_boost_tuning, color='blue', alpha=0.3)\n",
    "ax1.plot(y_test, y_test, color='black', alpha=1)\n",
    "ax1.set_title('Actual vs Predicted Price', fontweight='bold')\n",
    "ax1.set_xlabel('Actual Price')\n",
    "ax1.set_ylabel('Predicted Price')\n",
    "\n",
    "# Calculate residuals\n",
    "residuals = y_test - y_pred_cat_boost_tuning\n",
    "\n",
    "# Plot residual plot\n",
    "ax2.scatter(y_pred_cat_boost_tuning, residuals)\n",
    "ax2.axhline(y=0, color='r', linestyle='--')\n",
    "ax2.set_xlabel('Predicted Values')\n",
    "ax2.set_ylabel('Residuals')\n",
    "ax2.set_title('Residual Plot', fontweight='bold')\n",
    "\n",
    "# Adjust the spacing between subplots\n",
    "plt.subplots_adjust(hspace=0.3)\n",
    "\n",
    "# Display the plot\n",
    "plt.show()"
   ]
  },
  {
   "attachments": {},
   "cell_type": "markdown",
   "metadata": {},
   "source": [
    "- By this Scatter Plot 'Actual vs Predicted Price', we can see that our model might be linear to Actual Price (from what we Predicted). But when the Price more than 150000, this plot comes more irregular. We can see that sometime we had a high-predicted price and sometime low after 150000.\n",
    "- From the Scatter plot 'Residual plot' above, it can be concluded that the model is reasonably good at predicting car prices ranging from 5000 SAR to 150,000 SAR. The distribution of residual points within that price range indicates that the model has relatively low errors and is capable of producing fairly accurate predictions within that \n",
    "price range.\n",
    "\n",
    "The presence of large errors results in a significant difference between the RMSE and MAE values. This can also be observed in the plot, where there are actual prices that are predicted much higher (overestimation) or lower (underestimation). However, the obtained MAPE value of approximately 17.4% categorizes the CatBoost model before tuning and approximately 17.9% for the CatBoost model after tuning as 'good forecaststing' for being under 20% (Lewis, 1982).\n",
    "\n",
    "Source: Lewis, C. D. (1982). Industrial and Business Forecasting Methods: A Practical Guide to Exponential Smoothing and Curve Fitting."
   ]
  },
  {
   "cell_type": "code",
   "execution_count": 54,
   "metadata": {},
   "outputs": [],
   "source": [
    "df_compare = X_test.copy()\n",
    "df_compare['predict'] = cat_boost_tuning.predict(X_test)"
   ]
  },
  {
   "cell_type": "code",
   "execution_count": 55,
   "metadata": {},
   "outputs": [],
   "source": [
    "df_compare['actual price'] = y_test"
   ]
  },
  {
   "cell_type": "code",
   "execution_count": 56,
   "metadata": {},
   "outputs": [],
   "source": [
    "df_compare['(%) error'] = abs(df_compare['predict'] - df_compare['actual price'])/df_compare['actual price']*100"
   ]
  },
  {
   "cell_type": "code",
   "execution_count": 57,
   "metadata": {},
   "outputs": [
    {
     "data": {
      "text/html": [
       "<div>\n",
       "<style scoped>\n",
       "    .dataframe tbody tr th:only-of-type {\n",
       "        vertical-align: middle;\n",
       "    }\n",
       "\n",
       "    .dataframe tbody tr th {\n",
       "        vertical-align: top;\n",
       "    }\n",
       "\n",
       "    .dataframe thead th {\n",
       "        text-align: right;\n",
       "    }\n",
       "</style>\n",
       "<table border=\"1\" class=\"dataframe\">\n",
       "  <thead>\n",
       "    <tr style=\"text-align: right;\">\n",
       "      <th></th>\n",
       "      <th>Type</th>\n",
       "      <th>Region</th>\n",
       "      <th>Make</th>\n",
       "      <th>Gear_Type</th>\n",
       "      <th>Origin</th>\n",
       "      <th>Options</th>\n",
       "      <th>Year</th>\n",
       "      <th>Engine_Size</th>\n",
       "      <th>Mileage</th>\n",
       "      <th>predict</th>\n",
       "      <th>actual price</th>\n",
       "      <th>(%) error</th>\n",
       "    </tr>\n",
       "  </thead>\n",
       "  <tbody>\n",
       "    <tr>\n",
       "      <th>2321</th>\n",
       "      <td>Tahoe</td>\n",
       "      <td>Riyadh</td>\n",
       "      <td>Chevrolet</td>\n",
       "      <td>Automatic</td>\n",
       "      <td>Saudi</td>\n",
       "      <td>Standard</td>\n",
       "      <td>2015</td>\n",
       "      <td>5.3</td>\n",
       "      <td>176332</td>\n",
       "      <td>96025.892394</td>\n",
       "      <td>120000</td>\n",
       "      <td>19.978423</td>\n",
       "    </tr>\n",
       "    <tr>\n",
       "      <th>3227</th>\n",
       "      <td>S</td>\n",
       "      <td>Riyadh</td>\n",
       "      <td>Mercedes</td>\n",
       "      <td>Automatic</td>\n",
       "      <td>Saudi</td>\n",
       "      <td>Full</td>\n",
       "      <td>2014</td>\n",
       "      <td>3.0</td>\n",
       "      <td>90000</td>\n",
       "      <td>176132.938496</td>\n",
       "      <td>220000</td>\n",
       "      <td>19.939573</td>\n",
       "    </tr>\n",
       "    <tr>\n",
       "      <th>5594</th>\n",
       "      <td>Sportage</td>\n",
       "      <td>Riyadh</td>\n",
       "      <td>Kia</td>\n",
       "      <td>Automatic</td>\n",
       "      <td>Saudi</td>\n",
       "      <td>Full</td>\n",
       "      <td>2016</td>\n",
       "      <td>2.4</td>\n",
       "      <td>190000</td>\n",
       "      <td>49673.306355</td>\n",
       "      <td>62000</td>\n",
       "      <td>19.881764</td>\n",
       "    </tr>\n",
       "    <tr>\n",
       "      <th>657</th>\n",
       "      <td>Ciocca</td>\n",
       "      <td>Riyadh</td>\n",
       "      <td>Toyota</td>\n",
       "      <td>Automatic</td>\n",
       "      <td>Saudi</td>\n",
       "      <td>Standard</td>\n",
       "      <td>2016</td>\n",
       "      <td>5.7</td>\n",
       "      <td>348000</td>\n",
       "      <td>94619.677287</td>\n",
       "      <td>79000</td>\n",
       "      <td>19.771743</td>\n",
       "    </tr>\n",
       "    <tr>\n",
       "      <th>2111</th>\n",
       "      <td>Elantra</td>\n",
       "      <td>Makkah</td>\n",
       "      <td>Hyundai</td>\n",
       "      <td>Automatic</td>\n",
       "      <td>Saudi</td>\n",
       "      <td>Full</td>\n",
       "      <td>2021</td>\n",
       "      <td>1.7</td>\n",
       "      <td>2600</td>\n",
       "      <td>76361.068426</td>\n",
       "      <td>95000</td>\n",
       "      <td>19.619928</td>\n",
       "    </tr>\n",
       "  </tbody>\n",
       "</table>\n",
       "</div>"
      ],
      "text/plain": [
       "          Type  Region       Make  Gear_Type Origin   Options  Year   \n",
       "2321     Tahoe  Riyadh  Chevrolet  Automatic  Saudi  Standard  2015  \\\n",
       "3227         S  Riyadh   Mercedes  Automatic  Saudi      Full  2014   \n",
       "5594  Sportage  Riyadh        Kia  Automatic  Saudi      Full  2016   \n",
       "657     Ciocca  Riyadh     Toyota  Automatic  Saudi  Standard  2016   \n",
       "2111   Elantra  Makkah    Hyundai  Automatic  Saudi      Full  2021   \n",
       "\n",
       "      Engine_Size  Mileage        predict  actual price  (%) error  \n",
       "2321          5.3   176332   96025.892394        120000  19.978423  \n",
       "3227          3.0    90000  176132.938496        220000  19.939573  \n",
       "5594          2.4   190000   49673.306355         62000  19.881764  \n",
       "657           5.7   348000   94619.677287         79000  19.771743  \n",
       "2111          1.7     2600   76361.068426         95000  19.619928  "
      ]
     },
     "execution_count": 57,
     "metadata": {},
     "output_type": "execute_result"
    }
   ],
   "source": [
    "sorted_df = df_compare[df_compare['(%) error'] < 20].sort_values('(%) error', ascending=False)\n",
    "sorted_df.head()"
   ]
  },
  {
   "cell_type": "code",
   "execution_count": 58,
   "metadata": {},
   "outputs": [],
   "source": [
    "# sns.histplot(df_compare['(%) error'])\n",
    "# plt.title('Total of (%) Error')"
   ]
  },
  {
   "cell_type": "code",
   "execution_count": 59,
   "metadata": {},
   "outputs": [],
   "source": [
    "# len(df_compare[df_compare['(%) error']<20])/len(df_compare)"
   ]
  },
  {
   "cell_type": "code",
   "execution_count": 60,
   "metadata": {},
   "outputs": [
    {
     "name": "stdout",
     "output_type": "stream",
     "text": [
      "465000\n"
     ]
    }
   ],
   "source": [
    "max_price = y_test.max()\n",
    "print(max_price)\n"
   ]
  },
  {
   "cell_type": "code",
   "execution_count": 61,
   "metadata": {},
   "outputs": [
    {
     "data": {
      "text/html": [
       "<div>\n",
       "<style scoped>\n",
       "    .dataframe tbody tr th:only-of-type {\n",
       "        vertical-align: middle;\n",
       "    }\n",
       "\n",
       "    .dataframe tbody tr th {\n",
       "        vertical-align: top;\n",
       "    }\n",
       "\n",
       "    .dataframe thead th {\n",
       "        text-align: right;\n",
       "    }\n",
       "</style>\n",
       "<table border=\"1\" class=\"dataframe\">\n",
       "  <thead>\n",
       "    <tr style=\"text-align: right;\">\n",
       "      <th></th>\n",
       "      <th>Range Price (SAR)</th>\n",
       "      <th>Score MAE (SAR)</th>\n",
       "      <th>Score MAPE (%)</th>\n",
       "      <th>Jumlah Data</th>\n",
       "    </tr>\n",
       "  </thead>\n",
       "  <tbody>\n",
       "    <tr>\n",
       "      <th>0</th>\n",
       "      <td>&lt;10k</td>\n",
       "      <td>6109.297337</td>\n",
       "      <td>68.281946</td>\n",
       "      <td>8</td>\n",
       "    </tr>\n",
       "    <tr>\n",
       "      <th>1</th>\n",
       "      <td>10k-20k</td>\n",
       "      <td>6487.808445</td>\n",
       "      <td>43.231409</td>\n",
       "      <td>74</td>\n",
       "    </tr>\n",
       "    <tr>\n",
       "      <th>2</th>\n",
       "      <td>20k-30k</td>\n",
       "      <td>4862.110032</td>\n",
       "      <td>18.699207</td>\n",
       "      <td>94</td>\n",
       "    </tr>\n",
       "    <tr>\n",
       "      <th>3</th>\n",
       "      <td>30k-40k</td>\n",
       "      <td>6822.212223</td>\n",
       "      <td>18.735389</td>\n",
       "      <td>96</td>\n",
       "    </tr>\n",
       "    <tr>\n",
       "      <th>4</th>\n",
       "      <td>40k-50k</td>\n",
       "      <td>6985.932591</td>\n",
       "      <td>15.238161</td>\n",
       "      <td>106</td>\n",
       "    </tr>\n",
       "    <tr>\n",
       "      <th>5</th>\n",
       "      <td>50k-100k</td>\n",
       "      <td>9925.093529</td>\n",
       "      <td>14.277387</td>\n",
       "      <td>358</td>\n",
       "    </tr>\n",
       "    <tr>\n",
       "      <th>6</th>\n",
       "      <td>100k-150k</td>\n",
       "      <td>16876.989795</td>\n",
       "      <td>13.657734</td>\n",
       "      <td>122</td>\n",
       "    </tr>\n",
       "    <tr>\n",
       "      <th>7</th>\n",
       "      <td>150k-200k</td>\n",
       "      <td>22822.827530</td>\n",
       "      <td>13.666872</td>\n",
       "      <td>32</td>\n",
       "    </tr>\n",
       "    <tr>\n",
       "      <th>8</th>\n",
       "      <td>200k-250k</td>\n",
       "      <td>38975.591871</td>\n",
       "      <td>17.182640</td>\n",
       "      <td>22</td>\n",
       "    </tr>\n",
       "    <tr>\n",
       "      <th>9</th>\n",
       "      <td>250k-300k</td>\n",
       "      <td>61595.638232</td>\n",
       "      <td>22.440299</td>\n",
       "      <td>13</td>\n",
       "    </tr>\n",
       "    <tr>\n",
       "      <th>10</th>\n",
       "      <td>300k-350k</td>\n",
       "      <td>51063.164836</td>\n",
       "      <td>15.406212</td>\n",
       "      <td>7</td>\n",
       "    </tr>\n",
       "    <tr>\n",
       "      <th>11</th>\n",
       "      <td>350k-400k</td>\n",
       "      <td>33645.611378</td>\n",
       "      <td>8.502005</td>\n",
       "      <td>3</td>\n",
       "    </tr>\n",
       "    <tr>\n",
       "      <th>12</th>\n",
       "      <td>400k-450k</td>\n",
       "      <td>102889.589061</td>\n",
       "      <td>24.043668</td>\n",
       "      <td>4</td>\n",
       "    </tr>\n",
       "    <tr>\n",
       "      <th>13</th>\n",
       "      <td>&gt;450k (Max 500k)</td>\n",
       "      <td>110048.740582</td>\n",
       "      <td>23.666396</td>\n",
       "      <td>1</td>\n",
       "    </tr>\n",
       "    <tr>\n",
       "      <th>14</th>\n",
       "      <td>All Range (Max 500k)</td>\n",
       "      <td>12087.394571</td>\n",
       "      <td>18.143370</td>\n",
       "      <td>940</td>\n",
       "    </tr>\n",
       "  </tbody>\n",
       "</table>\n",
       "</div>"
      ],
      "text/plain": [
       "       Range Price (SAR)  Score MAE (SAR)  Score MAPE (%)  Jumlah Data\n",
       "0                   <10k      6109.297337       68.281946            8\n",
       "1                10k-20k      6487.808445       43.231409           74\n",
       "2                20k-30k      4862.110032       18.699207           94\n",
       "3                30k-40k      6822.212223       18.735389           96\n",
       "4                40k-50k      6985.932591       15.238161          106\n",
       "5               50k-100k      9925.093529       14.277387          358\n",
       "6              100k-150k     16876.989795       13.657734          122\n",
       "7              150k-200k     22822.827530       13.666872           32\n",
       "8              200k-250k     38975.591871       17.182640           22\n",
       "9              250k-300k     61595.638232       22.440299           13\n",
       "10             300k-350k     51063.164836       15.406212            7\n",
       "11             350k-400k     33645.611378        8.502005            3\n",
       "12             400k-450k    102889.589061       24.043668            4\n",
       "13      >450k (Max 500k)    110048.740582       23.666396            1\n",
       "14  All Range (Max 500k)     12087.394571       18.143370          940"
      ]
     },
     "execution_count": 61,
     "metadata": {},
     "output_type": "execute_result"
    }
   ],
   "source": [
    "import pandas as pd\n",
    "\n",
    "df_y_pred = pd.DataFrame({'y_test': y_test, 'y_test_pred': y_pred_cat_boost_tuning})\n",
    "df_y_pred.reset_index(drop=True, inplace=True)\n",
    "df_y_pred.sort_values('y_test').head(20)\n",
    "\n",
    "list_ranges = [\n",
    "    (\"<10k\", 0, 10000),\n",
    "    (\"10k-20k\", 10001, 20000),\n",
    "    (\"20k-30k\", 20001, 30000),\n",
    "    (\"30k-40k\", 30001, 40000),\n",
    "    (\"40k-50k\", 40001, 50000),\n",
    "    (\"50k-100k\", 50001, 100000),\n",
    "    (\"100k-150k\", 100001, 150000),\n",
    "    (\"150k-200k\", 150001, 200000),\n",
    "    (\"200k-250k\", 200001, 250000),\n",
    "    (\"250k-300k\", 250001, 300000),\n",
    "    (\"300k-350k\", 300001, 350000),\n",
    "    (\"350k-400k\", 350001, 400000),\n",
    "    (\"400k-450k\", 400001, 450000),\n",
    "    (\">450k (Max 500k)\", 450001, float('inf')),\n",
    "    (\"All Range (Max 500k)\", 0, float('inf'))\n",
    "]\n",
    "\n",
    "list_mae = []\n",
    "list_mape = []\n",
    "list_len = []\n",
    "\n",
    "for range_name, min_value, max_value in list_ranges:\n",
    "    range_df = df_y_pred[(df_y_pred['y_test'] > min_value) & (df_y_pred['y_test'] <= max_value)]\n",
    "    score_mae = mean_absolute_error(range_df['y_test'], range_df['y_test_pred'])\n",
    "    score_mape = mean_absolute_percentage_error(range_df['y_test'], range_df['y_test_pred'])\n",
    "    len_df = len(range_df)\n",
    "\n",
    "    list_mae.append(score_mae)\n",
    "    list_mape.append(score_mape * 100)\n",
    "    list_len.append(len_df)\n",
    "\n",
    "range_metrics = pd.DataFrame({\n",
    "    \"Range Price (SAR)\": [range_name for range_name, _, _ in list_ranges],\n",
    "    \"Score MAE (SAR)\": list_mae,\n",
    "    \"Score MAPE (%)\": list_mape,\n",
    "    \"Jumlah Data\": list_len\n",
    "})\n",
    "\n",
    "range_metrics\n"
   ]
  },
  {
   "attachments": {},
   "cell_type": "markdown",
   "metadata": {},
   "source": [
    "Based on the plot and table above, the model is only good to predict the prices of used cars above 20,000 SAR . The predictive ability is assessed based on the MAPE evaluation metric for each price range compared to the MAPE evaluation metric for the entire test dataset. MAPE is chosen as the evaluation metric because it calculates the percentage difference between the predicted and actual prices. It can be observed that the prediction performance is not good for the price range below 10,000 SAR, with a MAPE value reaching 79.14%. This is followed by the 10k - 20k SAR range with a MAPE of 40.13%. Beyond these ranges, the model is considered good as it predicts prices with MAPE values close to the MAPE of the test data. "
   ]
  },
  {
   "cell_type": "code",
   "execution_count": 62,
   "metadata": {},
   "outputs": [
    {
     "data": {
      "text/html": [
       "<div>\n",
       "<style scoped>\n",
       "    .dataframe tbody tr th:only-of-type {\n",
       "        vertical-align: middle;\n",
       "    }\n",
       "\n",
       "    .dataframe tbody tr th {\n",
       "        vertical-align: top;\n",
       "    }\n",
       "\n",
       "    .dataframe thead th {\n",
       "        text-align: right;\n",
       "    }\n",
       "</style>\n",
       "<table border=\"1\" class=\"dataframe\">\n",
       "  <thead>\n",
       "    <tr style=\"text-align: right;\">\n",
       "      <th></th>\n",
       "      <th>Feature Name</th>\n",
       "      <th>Feature Importance</th>\n",
       "    </tr>\n",
       "  </thead>\n",
       "  <tbody>\n",
       "    <tr>\n",
       "      <th>0</th>\n",
       "      <td>Feature 0</td>\n",
       "      <td>21.667616</td>\n",
       "    </tr>\n",
       "    <tr>\n",
       "      <th>1</th>\n",
       "      <td>Feature 1</td>\n",
       "      <td>6.521968</td>\n",
       "    </tr>\n",
       "    <tr>\n",
       "      <th>2</th>\n",
       "      <td>Feature 2</td>\n",
       "      <td>6.098934</td>\n",
       "    </tr>\n",
       "    <tr>\n",
       "      <th>3</th>\n",
       "      <td>Feature 3</td>\n",
       "      <td>0.115325</td>\n",
       "    </tr>\n",
       "    <tr>\n",
       "      <th>4</th>\n",
       "      <td>Feature 4</td>\n",
       "      <td>0.759142</td>\n",
       "    </tr>\n",
       "    <tr>\n",
       "      <th>5</th>\n",
       "      <td>Feature 5</td>\n",
       "      <td>0.006413</td>\n",
       "    </tr>\n",
       "    <tr>\n",
       "      <th>6</th>\n",
       "      <td>Feature 6</td>\n",
       "      <td>0.112833</td>\n",
       "    </tr>\n",
       "    <tr>\n",
       "      <th>7</th>\n",
       "      <td>Feature 7</td>\n",
       "      <td>0.062804</td>\n",
       "    </tr>\n",
       "    <tr>\n",
       "      <th>8</th>\n",
       "      <td>Feature 8</td>\n",
       "      <td>0.226124</td>\n",
       "    </tr>\n",
       "    <tr>\n",
       "      <th>9</th>\n",
       "      <td>Feature 9</td>\n",
       "      <td>0.046979</td>\n",
       "    </tr>\n",
       "    <tr>\n",
       "      <th>10</th>\n",
       "      <td>Feature 10</td>\n",
       "      <td>0.415038</td>\n",
       "    </tr>\n",
       "    <tr>\n",
       "      <th>11</th>\n",
       "      <td>Feature 11</td>\n",
       "      <td>0.380440</td>\n",
       "    </tr>\n",
       "    <tr>\n",
       "      <th>12</th>\n",
       "      <td>Feature 12</td>\n",
       "      <td>2.976922</td>\n",
       "    </tr>\n",
       "    <tr>\n",
       "      <th>13</th>\n",
       "      <td>Feature 13</td>\n",
       "      <td>1.233801</td>\n",
       "    </tr>\n",
       "    <tr>\n",
       "      <th>14</th>\n",
       "      <td>Feature 14</td>\n",
       "      <td>1.525267</td>\n",
       "    </tr>\n",
       "    <tr>\n",
       "      <th>15</th>\n",
       "      <td>Feature 15</td>\n",
       "      <td>1.458382</td>\n",
       "    </tr>\n",
       "    <tr>\n",
       "      <th>16</th>\n",
       "      <td>Feature 16</td>\n",
       "      <td>2.084159</td>\n",
       "    </tr>\n",
       "    <tr>\n",
       "      <th>17</th>\n",
       "      <td>Feature 17</td>\n",
       "      <td>2.312996</td>\n",
       "    </tr>\n",
       "    <tr>\n",
       "      <th>18</th>\n",
       "      <td>Feature 18</td>\n",
       "      <td>0.000000</td>\n",
       "    </tr>\n",
       "    <tr>\n",
       "      <th>19</th>\n",
       "      <td>Feature 19</td>\n",
       "      <td>0.095014</td>\n",
       "    </tr>\n",
       "    <tr>\n",
       "      <th>20</th>\n",
       "      <td>Feature 20</td>\n",
       "      <td>0.350210</td>\n",
       "    </tr>\n",
       "    <tr>\n",
       "      <th>21</th>\n",
       "      <td>Feature 21</td>\n",
       "      <td>0.263530</td>\n",
       "    </tr>\n",
       "    <tr>\n",
       "      <th>22</th>\n",
       "      <td>Feature 22</td>\n",
       "      <td>0.218335</td>\n",
       "    </tr>\n",
       "    <tr>\n",
       "      <th>23</th>\n",
       "      <td>Feature 23</td>\n",
       "      <td>1.993483</td>\n",
       "    </tr>\n",
       "    <tr>\n",
       "      <th>24</th>\n",
       "      <td>Feature 24</td>\n",
       "      <td>3.007032</td>\n",
       "    </tr>\n",
       "    <tr>\n",
       "      <th>25</th>\n",
       "      <td>Feature 25</td>\n",
       "      <td>5.083467</td>\n",
       "    </tr>\n",
       "    <tr>\n",
       "      <th>26</th>\n",
       "      <td>Feature 26</td>\n",
       "      <td>6.035934</td>\n",
       "    </tr>\n",
       "    <tr>\n",
       "      <th>27</th>\n",
       "      <td>Feature 27</td>\n",
       "      <td>10.656572</td>\n",
       "    </tr>\n",
       "    <tr>\n",
       "      <th>28</th>\n",
       "      <td>Feature 28</td>\n",
       "      <td>4.429459</td>\n",
       "    </tr>\n",
       "    <tr>\n",
       "      <th>29</th>\n",
       "      <td>Feature 29</td>\n",
       "      <td>19.861819</td>\n",
       "    </tr>\n",
       "  </tbody>\n",
       "</table>\n",
       "</div>"
      ],
      "text/plain": [
       "   Feature Name  Feature Importance\n",
       "0     Feature 0           21.667616\n",
       "1     Feature 1            6.521968\n",
       "2     Feature 2            6.098934\n",
       "3     Feature 3            0.115325\n",
       "4     Feature 4            0.759142\n",
       "5     Feature 5            0.006413\n",
       "6     Feature 6            0.112833\n",
       "7     Feature 7            0.062804\n",
       "8     Feature 8            0.226124\n",
       "9     Feature 9            0.046979\n",
       "10   Feature 10            0.415038\n",
       "11   Feature 11            0.380440\n",
       "12   Feature 12            2.976922\n",
       "13   Feature 13            1.233801\n",
       "14   Feature 14            1.525267\n",
       "15   Feature 15            1.458382\n",
       "16   Feature 16            2.084159\n",
       "17   Feature 17            2.312996\n",
       "18   Feature 18            0.000000\n",
       "19   Feature 19            0.095014\n",
       "20   Feature 20            0.350210\n",
       "21   Feature 21            0.263530\n",
       "22   Feature 22            0.218335\n",
       "23   Feature 23            1.993483\n",
       "24   Feature 24            3.007032\n",
       "25   Feature 25            5.083467\n",
       "26   Feature 26            6.035934\n",
       "27   Feature 27           10.656572\n",
       "28   Feature 28            4.429459\n",
       "29   Feature 29           19.861819"
      ]
     },
     "execution_count": 62,
     "metadata": {},
     "output_type": "execute_result"
    }
   ],
   "source": [
    "cat_boost_estimator = grid_cat.best_estimator_  # Dapatkan estimator terbaik dari GridSearchCV\n",
    "cat_boost_model = cat_boost_estimator.named_steps['model']  # Akses model CatBoostRegressor\n",
    "\n",
    "# Dapatkan pentingnya fitur\n",
    "feature_importances = cat_boost_model.feature_importances_\n",
    "\n",
    "# Buat DataFrame untuk menampilkan pentingnya fitur beserta nama fitur\n",
    "feature_names = [f'Feature {i}' for i in range(len(feature_importances))]\n",
    "feature_importances_df = pd.DataFrame({'Feature Name': feature_names, 'Feature Importance': feature_importances})\n",
    "feature_importances_df"
   ]
  },
  {
   "cell_type": "code",
   "execution_count": 63,
   "metadata": {},
   "outputs": [
    {
     "data": {
      "text/plain": [
       "<Axes: title={'center': 'Feature Importances'}>"
      ]
     },
     "execution_count": 63,
     "metadata": {},
     "output_type": "execute_result"
    },
    {
     "data": {
      "image/png": "[encoded data removed]",
      "text/plain": [
       "<Figure size 640x480 with 1 Axes>"
      ]
     },
     "metadata": {},
     "output_type": "display_data"
    }
   ],
   "source": [
    "# Get the best estimator from GridSearchCV\n",
    "best_model = grid_cat.best_estimator_\n",
    "\n",
    "# Get the CatBoost model from the pipeline\n",
    "cat_boost_model = best_model.steps[-1][1]\n",
    "\n",
    "# Get the feature names from the corresponding transformer step in the pipeline\n",
    "column_transformer_step = best_model.steps[0][1]\n",
    "feature_names = column_transformer_step.get_feature_names_out()\n",
    "\n",
    "# Get feature importances from the CatBoost model\n",
    "feature_importances = cat_boost_model.feature_importances_\n",
    "\n",
    "# Create a Series with feature importances and feature names\n",
    "feature_imp = pd.Series(feature_importances, index=feature_names)\n",
    "\n",
    "# Sort the feature importances in descending order and select the top features\n",
    "feature_imp = feature_imp.sort_values(ascending=False).head()\n",
    "\n",
    "# Plot the feature importances\n",
    "feature_imp.plot(kind='barh', title='Feature Importances')\n"
   ]
  },
  {
   "attachments": {},
   "cell_type": "markdown",
   "metadata": {},
   "source": [
    "# Conclusion"
   ]
  },
  {
   "attachments": {},
   "cell_type": "markdown",
   "metadata": {},
   "source": [
    "- The best model to be implemented to this dataset is Catagory Boost Regressor with the hyperparameter tuning:\n",
    "\n",
    "    {'model__depth': 8,\n",
    "\n",
    "    'model__iterations': 275,\n",
    "\n",
    "    'model__l2_leaf_reg': 5,\n",
    "    \n",
    "    'model__learning_rate': 0.1}\n",
    "\n",
    "- According to feature correlation to Price. The most correlated feature is Year ,and Engine_Size\n",
    "\n",
    "- A dataset with a column of prices containing zero values cannot be used for machine learning because we only want to predict data with real numbers. However, this has the effect of making the dataset very small (only 3757 rows of data).\n",
    "\n",
    "- This machine learning modeling is using MAPE (Mean Absolute Percentage Error) as matrix scoring because we want to understand the percentage error of predictions relative to the actual values. If it is important to measure the relative percentage error in predicting used car prices, especially in the context of comparison or performance analysis, then MAPE can be used. For example, if a company wants to assess the accuracy of a used car price prediction model for different car brands engine size or Mileage, MAPE would be a suitable metric. By calculating the percentage error, the company can compare the model's performance across different segments and identify any variations in prediction accuracy.\n",
    "\n",
    "- The results show that after tuning the hyperparameters of the model, the MAPE slight increased from 17.41% to 17.89%, indicates that the accuracy of the model has dropped \n",
    "0.58%. This suggests that the hyperparameter tuning process was failed in improving the model's performance, and updated model can't make better predictions on new data.Therefore we will suggest using the model before tuning as a machine learning model for predicting second hand car prices."
   ]
  },
  {
   "attachments": {},
   "cell_type": "markdown",
   "metadata": {},
   "source": [
    "# Recomendation"
   ]
  },
  {
   "attachments": {},
   "cell_type": "markdown",
   "metadata": {},
   "source": [
    "Here are some recommendations to improve the model's performance:\n",
    "\n",
    "1. Adding a feature that categorizes cars into classic or non-classic. This is important because the prices of used cars can vary significantly based on mileage and manufacturing year, especially between classic and regular cars. By including this feature in the model, it is likely to improve the accuracy of predicting used car prices.\n",
    "\n",
    "2. If there is significant additional data available, consider using more complex models such as recursive neural networks (RNN). However, it's important to note that if the amount of data and features is still limited to the current dataset, the potential performance improvement from using more complex models might not be substantial.\n",
    "\n",
    "3. Since the results of the modeling before and after tuning are not significantly different, it indicates that the initial model with default parameters already performs well. Although tuning did not improve the accuracy significantly, further investigation is needed regarding other factors that can enhance the modeling results. Some factors that may need to be considered include:\n",
    "\n",
    "- Adding more relevant features or removing features that do not contribute significantly to the prediction of used car prices.\n",
    "\n",
    "- Conducting a deeper analysis of the data characteristics, such as identifying outliers or specific patterns that may affect the prediction results.\n",
    "\n",
    "- Using feature engineering techniques to create new features that can enhance the model's performance.\n",
    "\n",
    "- Evaluating and trying other machine learning models that may be more suitable for predicting used car prices.\n",
    "\n",
    "    By conducting further exploration and investigation of these factors, it is possible to find ways to significantly improve the modeling results.\n",
    "\n",
    "4. Since the results of the machine learning modeling using the CatBoost algorithm, with the MAPE evaluation score showing a value below 20%, specifically 17.41%, this modeling is considered as good forecasting and is suitable for implementation on the Syara.com website."
   ]
  },
  {
   "attachments": {},
   "cell_type": "markdown",
   "metadata": {},
   "source": [
    "# Save Model"
   ]
  },
  {
   "cell_type": "code",
   "execution_count": null,
   "metadata": {},
   "outputs": [],
   "source": []
  }
 ],
 "metadata": {
  "kernelspec": {
   "display_name": "Python 3",
   "language": "python",
   "name": "python3"
  },
  "language_info": {
   "codemirror_mode": {
    "name": "ipython",
    "version": 3
   },
   "file_extension": ".py",
   "mimetype": "text/x-python",
   "name": "python",
   "nbconvert_exporter": "python",
   "pygments_lexer": "ipython3",
   "version": "3.11.3"
  },
  "orig_nbformat": 4
 },
 "nbformat": 4,
 "nbformat_minor": 2
}
